{
 "cells": [
  {
   "cell_type": "code",
   "execution_count": 1,
   "metadata": {},
   "outputs": [],
   "source": [
    "import random\n",
    "import torch\n",
    "\n",
    "import numpy as np\n",
    "from pathlib import Path\n",
    "from PIL import Image\n",
    "\n",
    "from torchvision.transforms import v2\n",
    "from torch.utils.data import DataLoader\n",
    "from pytorch_lightning import Trainer\n",
    "\n",
    "from ba_dev.dataset import MammaliaDataSequence, MammaliaDataImage\n",
    "from ba_dev.datamodule import MammaliaDataModule\n",
    "from ba_dev.transform import ImagePipeline, BatchImagePipeline\n",
    "from ba_dev.model import LightningModelImage\n",
    "from ba_dev.utils import load_config_yaml\n",
    "\n",
    "paths = load_config_yaml('../path_config.yml')\n"
   ]
  },
  {
   "cell_type": "markdown",
   "metadata": {},
   "source": [
    "### Running Tests"
   ]
  },
  {
   "cell_type": "code",
   "execution_count": null,
   "metadata": {},
   "outputs": [
    {
     "name": "stderr",
     "output_type": "stream",
     "text": [
      "/cfs/earth/scratch/kraftjul/BA_package/ba_dev/dataset.py:250: UserWarning: With the detection confidence of 0.25,\n",
      "8 sequences had no detections and will be excluded.\n",
      "Excluded sequences: [6000161, 6000163, 6000293, 6000530, 6000691, 6000372, 6000953, 6000186]\n",
      "  warnings.warn(\n",
      "Downloading: \"https://download.pytorch.org/models/resnet50-11ad3fa6.pth\" to /net/home/kraftjul/.cache/torch/hub/checkpoints/resnet50-11ad3fa6.pth\n",
      "100%|██████████| 97.8M/97.8M [00:00<00:00, 116MB/s]\n"
     ]
    }
   ],
   "source": [
    "stats = torch.load(paths['feature_stats'])\n",
    "\n",
    "image_pipeline = ImagePipeline(\n",
    "        pre_ops=[\n",
    "            ('to_rgb', {}),\n",
    "            ('crop_by_bb', {'crop_shape': 1.0})\n",
    "            ],\n",
    "        transform=v2.Compose([\n",
    "            v2.ToImage(),\n",
    "            v2.ToDtype(torch.float32, scale=True),\n",
    "            v2.Resize((224, 224)),\n",
    "            v2.Normalize(\n",
    "                mean=stats['mean'],\n",
    "                std=stats['std']\n",
    "                )\n",
    "            ])\n",
    "        )\n",
    "\n",
    "dataset_kwargs = {\n",
    "        'path_labelfiles': paths['test_labels'],\n",
    "        'path_to_dataset': paths['dataset'],\n",
    "        'path_to_detector_output': paths['md_output'],\n",
    "        }\n",
    "\n",
    "datamodule = MammaliaDataModule(\n",
    "                dataset_cls=MammaliaDataImage,\n",
    "                dataset_kwargs=dataset_kwargs,\n",
    "                n_folds=5,\n",
    "                test_fold=0,\n",
    "                image_pipeline=image_pipeline,\n",
    "                augmented_image_pipeline=None,\n",
    "                batch_size=32,\n",
    "                num_workers=1,\n",
    "                pin_memory=True,\n",
    "                )\n",
    "\n",
    "model = LightningModelImage(\n",
    "            num_classes=datamodule.num_classes,\n",
    "            class_weights=datamodule.class_weights,\n",
    "            backbone_name='resnet50',\n",
    "            backbone_pretrained=True,\n",
    "            backbone_weights='DEFAULT',\n",
    "            optimizer_name='AdamW',\n",
    "            optimizer_kwargs={\n",
    "                'lr': 1e-3,\n",
    "                'weight_decay': 1e-5,\n",
    "                'amsgrad': False\n",
    "                },\n",
    "            scheduler_name='CosineAnnealingLR',\n",
    "            scheduler_kwargs={'T_max': 5},\n",
    "            )\n"
   ]
  },
  {
   "cell_type": "code",
   "execution_count": 9,
   "metadata": {},
   "outputs": [
    {
     "name": "stderr",
     "output_type": "stream",
     "text": [
      "/cfs/earth/scratch/kraftjul/.conda/envs/mega/lib/python3.10/site-packages/lightning_fabric/plugins/environments/slurm.py:204: The `srun` command is available on your system but is not used. HINT: If your intention is to run Lightning on SLURM, prepend your python command with `srun` like so: srun python /cfs/earth/scratch/kraftjul/.conda/envs/mega/lib/pyt ...\n",
      "GPU available: False, used: False\n",
      "TPU available: False, using: 0 TPU cores\n",
      "HPU available: False, using: 0 HPUs\n",
      "Running in `fast_dev_run` mode: will run the requested loop using 1 batch(es). Logging and checkpointing is suppressed.\n",
      "\n",
      "  | Name      | Type             | Params | Mode \n",
      "-------------------------------------------------------\n",
      "0 | backbone  | ResNet           | 23.5 M | train\n",
      "1 | criterion | CrossEntropyLoss | 0      | train\n",
      "-------------------------------------------------------\n",
      "23.5 M    Trainable params\n",
      "0         Non-trainable params\n",
      "23.5 M    Total params\n",
      "94.065    Total estimated model params size (MB)\n",
      "152       Modules in train mode\n",
      "0         Modules in eval mode\n"
     ]
    },
    {
     "name": "stdout",
     "output_type": "stream",
     "text": [
      "{'optimizer': AdamW (\n",
      "Parameter Group 0\n",
      "    amsgrad: False\n",
      "    betas: (0.9, 0.999)\n",
      "    capturable: False\n",
      "    differentiable: False\n",
      "    eps: 1e-08\n",
      "    foreach: None\n",
      "    fused: None\n",
      "    initial_lr: 0.001\n",
      "    lr: 0.001\n",
      "    maximize: False\n",
      "    weight_decay: 1e-05\n",
      "), 'lr_scheduler': {'scheduler': <torch.optim.lr_scheduler.CosineAnnealingLR object at 0x15543264e740>, 'monitor': 'val_loss', 'interval': 'epoch'}}\n",
      "✅ Scheduler hook-up looks good\n"
     ]
    },
    {
     "name": "stderr",
     "output_type": "stream",
     "text": [
      "/cfs/earth/scratch/kraftjul/.conda/envs/mega/lib/python3.10/site-packages/pytorch_lightning/trainer/connectors/data_connector.py:425: The 'train_dataloader' does not have many workers which may be a bottleneck. Consider increasing the value of the `num_workers` argument` to `num_workers=11` in the `DataLoader` to improve performance.\n",
      "/cfs/earth/scratch/kraftjul/.conda/envs/mega/lib/python3.10/site-packages/pytorch_lightning/trainer/connectors/data_connector.py:425: The 'val_dataloader' does not have many workers which may be a bottleneck. Consider increasing the value of the `num_workers` argument` to `num_workers=11` in the `DataLoader` to improve performance.\n"
     ]
    },
    {
     "data": {
      "application/vnd.jupyter.widget-view+json": {
       "model_id": "7dabe463537a41f28c2848cb0e074af4",
       "version_major": 2,
       "version_minor": 0
      },
      "text/plain": [
       "Training: |          | 0/? [00:00<?, ?it/s]"
      ]
     },
     "metadata": {},
     "output_type": "display_data"
    },
    {
     "data": {
      "application/vnd.jupyter.widget-view+json": {
       "model_id": "b8c6a9fd88b948f6b0f000960d445d17",
       "version_major": 2,
       "version_minor": 0
      },
      "text/plain": [
       "Validation: |          | 0/? [00:00<?, ?it/s]"
      ]
     },
     "metadata": {},
     "output_type": "display_data"
    },
    {
     "name": "stderr",
     "output_type": "stream",
     "text": [
      "`Trainer.fit` stopped: `max_steps=1` reached.\n"
     ]
    },
    {
     "name": "stdout",
     "output_type": "stream",
     "text": [
      "✅ fast_dev_run with scheduler completed without error\n"
     ]
    }
   ],
   "source": [
    "# 2) Check configure_optimizers output\n",
    "cfg = model.configure_optimizers()\n",
    "print(cfg)\n",
    "# You should see a dict of the form {'optimizer': <AdamW>, 'lr_scheduler': {…}}\n",
    "\n",
    "assert isinstance(cfg, dict)\n",
    "assert 'optimizer' in cfg\n",
    "assert 'lr_scheduler' in cfg\n",
    "print(\"✅ Scheduler hook-up looks good\")\n",
    "\n",
    "# 3) Run a single training+validation batch through Lightning\n",
    "#    to make sure the scheduler.step() call doesn’t error out.\n",
    "trainer = Trainer(\n",
    "    fast_dev_run=True,\n",
    "    logger=False,\n",
    "    enable_checkpointing=False,\n",
    "    # devices=1, accelerator='gpu'   # add if you have a GPU\n",
    ")\n",
    "trainer.fit(model, datamodule)\n",
    "print(\"✅ fast_dev_run with scheduler completed without error\")"
   ]
  },
  {
   "cell_type": "code",
   "execution_count": 10,
   "metadata": {},
   "outputs": [
    {
     "name": "stdout",
     "output_type": "stream",
     "text": [
      "Sample tensor shape: torch.Size([32, 3, 224, 224])\n",
      "Label tensor shape:  torch.Size([32])\n"
     ]
    },
    {
     "name": "stderr",
     "output_type": "stream",
     "text": [
      "/cfs/earth/scratch/kraftjul/.conda/envs/mega/lib/python3.10/site-packages/lightning_fabric/plugins/environments/slurm.py:204: The `srun` command is available on your system but is not used. HINT: If your intention is to run Lightning on SLURM, prepend your python command with `srun` like so: srun python /cfs/earth/scratch/kraftjul/.conda/envs/mega/lib/pyt ...\n",
      "GPU available: False, used: False\n",
      "TPU available: False, using: 0 TPU cores\n",
      "HPU available: False, using: 0 HPUs\n",
      "Running in `fast_dev_run` mode: will run the requested loop using 1 batch(es). Logging and checkpointing is suppressed.\n",
      "\n",
      "  | Name      | Type             | Params | Mode \n",
      "-------------------------------------------------------\n",
      "0 | backbone  | ResNet           | 23.5 M | train\n",
      "1 | criterion | CrossEntropyLoss | 0      | train\n",
      "-------------------------------------------------------\n",
      "23.5 M    Trainable params\n",
      "0         Non-trainable params\n",
      "23.5 M    Total params\n",
      "94.065    Total estimated model params size (MB)\n",
      "152       Modules in train mode\n",
      "0         Modules in eval mode\n"
     ]
    },
    {
     "name": "stdout",
     "output_type": "stream",
     "text": [
      "Logits shape:        torch.Size([32, 4])\n",
      "configure_optimizers() returned: {'optimizer': AdamW (\n",
      "Parameter Group 0\n",
      "    amsgrad: False\n",
      "    betas: (0.9, 0.999)\n",
      "    capturable: False\n",
      "    differentiable: False\n",
      "    eps: 1e-08\n",
      "    foreach: None\n",
      "    fused: None\n",
      "    initial_lr: 0.001\n",
      "    lr: 0.001\n",
      "    maximize: False\n",
      "    weight_decay: 1e-05\n",
      "), 'lr_scheduler': {'scheduler': <torch.optim.lr_scheduler.CosineAnnealingLR object at 0x1554350abc40>, 'monitor': 'val_loss', 'interval': 'epoch'}}\n"
     ]
    },
    {
     "name": "stderr",
     "output_type": "stream",
     "text": [
      "/cfs/earth/scratch/kraftjul/.conda/envs/mega/lib/python3.10/site-packages/pytorch_lightning/trainer/connectors/data_connector.py:425: The 'train_dataloader' does not have many workers which may be a bottleneck. Consider increasing the value of the `num_workers` argument` to `num_workers=11` in the `DataLoader` to improve performance.\n",
      "/cfs/earth/scratch/kraftjul/.conda/envs/mega/lib/python3.10/site-packages/pytorch_lightning/trainer/connectors/data_connector.py:425: The 'val_dataloader' does not have many workers which may be a bottleneck. Consider increasing the value of the `num_workers` argument` to `num_workers=11` in the `DataLoader` to improve performance.\n"
     ]
    },
    {
     "data": {
      "application/vnd.jupyter.widget-view+json": {
       "model_id": "f7fd2481095643048701c3d30450913c",
       "version_major": 2,
       "version_minor": 0
      },
      "text/plain": [
       "Training: |          | 0/? [00:00<?, ?it/s]"
      ]
     },
     "metadata": {},
     "output_type": "display_data"
    },
    {
     "data": {
      "application/vnd.jupyter.widget-view+json": {
       "model_id": "c584694345fc4dffa3fd488ae92b10ec",
       "version_major": 2,
       "version_minor": 0
      },
      "text/plain": [
       "Validation: |          | 0/? [00:00<?, ?it/s]"
      ]
     },
     "metadata": {},
     "output_type": "display_data"
    },
    {
     "name": "stderr",
     "output_type": "stream",
     "text": [
      "`Trainer.fit` stopped: `max_steps=1` reached.\n"
     ]
    }
   ],
   "source": [
    "# 2) Grab one batch from train\n",
    "batch = next(iter(datamodule.train_dataloader()))\n",
    "x, y = batch['sample'], batch['class_id']\n",
    "\n",
    "print(\"Sample tensor shape:\", x.shape)   # expect (32, 3, 224, 224)\n",
    "print(\"Label tensor shape: \", y.shape)   # expect (32,)\n",
    "\n",
    "# 3) Forward pass\n",
    "logits = model(x)\n",
    "print(\"Logits shape:       \", logits.shape)  # expect (32, num_classes)\n",
    "\n",
    "# 4) Optimizer/scheduler check\n",
    "opt_cfg = model.configure_optimizers()\n",
    "print(\"configure_optimizers() returned:\", opt_cfg)\n",
    "\n",
    "# 5) One‐step Lightning run\n",
    "trainer = Trainer(fast_dev_run=True, logger=False, enable_checkpointing=False)\n",
    "trainer.fit(model, datamodule)"
   ]
  },
  {
   "cell_type": "code",
   "execution_count": 11,
   "metadata": {},
   "outputs": [
    {
     "name": "stdout",
     "output_type": "stream",
     "text": [
      "Predicted classes for this batch:\n",
      "  sample  0: apodemus_sp (true: apodemus_sp)\n",
      "  sample  1: apodemus_sp (true: apodemus_sp)\n",
      "  sample  2: soricidae (true: soricidae)\n",
      "  sample  3: cricetidae (true: cricetidae)\n",
      "  sample  4: cricetidae (true: cricetidae)\n",
      "  sample  5: mustela_erminea (true: mustela_erminea)\n",
      "  sample  6: apodemus_sp (true: apodemus_sp)\n",
      "  sample  7: apodemus_sp (true: apodemus_sp)\n",
      "  sample  8: apodemus_sp (true: apodemus_sp)\n",
      "  sample  9: apodemus_sp (true: apodemus_sp)\n",
      "  sample 10: soricidae (true: soricidae)\n",
      "  sample 11: cricetidae (true: cricetidae)\n",
      "  sample 12: apodemus_sp (true: mustela_erminea)\n",
      "  sample 13: cricetidae (true: cricetidae)\n",
      "  sample 14: cricetidae (true: cricetidae)\n",
      "  sample 15: apodemus_sp (true: apodemus_sp)\n",
      "  sample 16: cricetidae (true: cricetidae)\n",
      "  sample 17: soricidae (true: soricidae)\n",
      "  sample 18: mustela_erminea (true: mustela_erminea)\n",
      "  sample 19: apodemus_sp (true: apodemus_sp)\n",
      "  sample 20: cricetidae (true: cricetidae)\n",
      "  sample 21: apodemus_sp (true: apodemus_sp)\n",
      "  sample 22: cricetidae (true: cricetidae)\n",
      "  sample 23: apodemus_sp (true: cricetidae)\n",
      "  sample 24: cricetidae (true: cricetidae)\n",
      "  sample 25: apodemus_sp (true: apodemus_sp)\n",
      "  sample 26: apodemus_sp (true: soricidae)\n",
      "  sample 27: apodemus_sp (true: apodemus_sp)\n",
      "  sample 28: cricetidae (true: cricetidae)\n",
      "  sample 29: cricetidae (true: cricetidae)\n",
      "  sample 30: apodemus_sp (true: apodemus_sp)\n",
      "  sample 31: cricetidae (true: cricetidae)\n"
     ]
    }
   ],
   "source": [
    "batch = next(iter(datamodule.train_dataloader()))\n",
    "x, y_true = batch['sample'], batch['class_id']\n",
    "\n",
    "logits = model(x)                        # (B, num_classes)\n",
    "probs  = torch.softmax(logits, dim=1)    # (B, num_classes)\n",
    "preds  = torch.argmax(probs, dim=1)      # (B,)\n",
    "\n",
    "# map indices → names\n",
    "decoder = datamodule.get_label_decoder()\n",
    "pred_names = [decoder[int(i)] for i in preds]\n",
    "\n",
    "print(\"Predicted classes for this batch:\")\n",
    "for i, name in enumerate(pred_names):\n",
    "    print(f\"  sample {i:>2d}: {name} (true: {decoder[int(y_true[i])]})\")"
   ]
  }
 ],
 "metadata": {
  "kernelspec": {
   "display_name": "Python 3",
   "language": "python",
   "name": "python3"
  },
  "language_info": {
   "codemirror_mode": {
    "name": "ipython",
    "version": 3
   },
   "file_extension": ".py",
   "mimetype": "text/x-python",
   "name": "python",
   "nbconvert_exporter": "python",
   "pygments_lexer": "ipython3",
   "version": "3.10.16"
  }
 },
 "nbformat": 4,
 "nbformat_minor": 2
}
