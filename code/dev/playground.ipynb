{
 "cells": [
  {
   "cell_type": "code",
   "execution_count": 1,
   "metadata": {},
   "outputs": [],
   "source": [
    "import os\n",
    "import shutil\n",
    "import warnings\n",
    "import csv\n",
    "import yaml\n",
    "import json\n",
    "import torch\n",
    "\n",
    "from PIL import Image\n",
    "import pandas as pd\n",
    "import numpy as np\n",
    "from typing import Any, Sequence\n",
    "\n",
    "from os import PathLike\n",
    "from torch.utils.data import Dataset\n",
    "\n",
    "from megadetector.detection.run_detector import load_detector, model_string_to_model_version\n",
    "from megadetector.detection.run_detector_batch import process_images, write_results_to_file\n",
    "\n",
    "\n",
    "from sklearn.model_selection import train_test_split"
   ]
  },
  {
   "cell_type": "code",
   "execution_count": 15,
   "metadata": {},
   "outputs": [],
   "source": [
    "import numpy as np\n"
   ]
  },
  {
   "cell_type": "code",
   "execution_count": 1,
   "metadata": {},
   "outputs": [],
   "source": [
    "import random\n",
    "import torch\n",
    "\n",
    "from pathlib import Path\n",
    "from PIL import Image\n",
    "\n",
    "from torchvision.transforms import v2\n",
    "from torch.utils.data import DataLoader\n",
    "\n",
    "from ba_dev.dataset import MammaliaData, MammaliaDataImage, MammaliaDatasetFeatureStats\n",
    "from ba_dev.transform import ImagePipeline, BatchImagePipeline\n",
    "from ba_dev.utils import load_config_yaml\n",
    "\n",
    "paths = load_config_yaml('../path_config.yml')\n"
   ]
  },
  {
   "cell_type": "markdown",
   "metadata": {},
   "source": [
    "### Running Tests"
   ]
  },
  {
   "cell_type": "code",
   "execution_count": 3,
   "metadata": {},
   "outputs": [
    {
     "name": "stderr",
     "output_type": "stream",
     "text": [
      "/cfs/earth/scratch/kraftjul/BA_package/ba_dev/dataset.py:221: UserWarning: With the detection confidence of 0.25,\n",
      "8 sequences had no detections and will be excluded.\n",
      "Excluded sequences: [6000161, 6000163, 6000293, 6000530, 6000691, 6000372, 6000953, 6000186]\n",
      "  warnings.warn(\n"
     ]
    }
   ],
   "source": [
    "path_to_dataset = paths['dataset']\n",
    "path_labelfiles = paths['test_labels']\n",
    "path_to_detector_output = paths['md_output']\n",
    "detector_model='mdv5a'\n",
    "mode='train'\n",
    "\n",
    "dataset = MammaliaDataImage(\n",
    "    path_labelfiles=path_labelfiles,\n",
    "    path_to_dataset=path_to_dataset,\n",
    "    path_to_detector_output=path_to_detector_output,\n",
    "    detector_model=detector_model,\n",
    "    mode=mode,\n",
    ")"
   ]
  },
  {
   "cell_type": "code",
   "execution_count": 4,
   "metadata": {},
   "outputs": [],
   "source": [
    "pipline = ImagePipeline(\n",
    "                path_to_dataset=path_to_dataset,\n",
    "                pre_ops = [\n",
    "                    ('to_rgb', {}),\n",
    "                    ('crop_by_bb', {})\n",
    "                ],\n",
    "                transform = v2.Compose([\n",
    "                                v2.ToImage(),\n",
    "                                v2.ToDtype(torch.float32, scale=True),\n",
    "                                v2.Resize((224, 224)),\n",
    "                                ])\n",
    "                )\n",
    "                "
   ]
  },
  {
   "cell_type": "code",
   "execution_count": 5,
   "metadata": {},
   "outputs": [
    {
     "name": "stdout",
     "output_type": "stream",
     "text": [
      "torch.Size([3, 224, 224])\n"
     ]
    }
   ],
   "source": [
    "row = dataset[77]\n",
    "\n",
    "image = pipline(row['file_path'], row['bbox'])\n",
    "\n",
    "print(image.shape)"
   ]
  },
  {
   "cell_type": "code",
   "execution_count": 6,
   "metadata": {},
   "outputs": [],
   "source": [
    "batch_pipline = BatchImagePipeline(\n",
    "                path_to_dataset=path_to_dataset,\n",
    "                num_workers=4,\n",
    "                pre_ops = [\n",
    "                    ('to_rgb', {}),\n",
    "                    ('crop_by_bb', {}),\n",
    "                ],\n",
    "                transform = v2.Compose([\n",
    "                                v2.ToImage(),\n",
    "                                v2.ToDtype(torch.float32, scale=True),\n",
    "                                v2.Resize((224, 224)),\n",
    "                                ])\n",
    "                )"
   ]
  },
  {
   "cell_type": "code",
   "execution_count": 7,
   "metadata": {},
   "outputs": [
    {
     "ename": "IndexError",
     "evalue": "list index out of range",
     "output_type": "error",
     "traceback": [
      "\u001b[0;31m---------------------------------------------------------------------------\u001b[0m",
      "\u001b[0;31mIndexError\u001b[0m                                Traceback (most recent call last)",
      "Cell \u001b[0;32mIn[7], line 7\u001b[0m\n\u001b[1;32m      4\u001b[0m samples \u001b[38;5;241m=\u001b[39m [random\u001b[38;5;241m.\u001b[39mrandint(\u001b[38;5;241m0\u001b[39m, \u001b[38;5;28mlen\u001b[39m(dataset)) \u001b[38;5;28;01mfor\u001b[39;00m _ \u001b[38;5;129;01min\u001b[39;00m \u001b[38;5;28mrange\u001b[39m(\u001b[38;5;241m100\u001b[39m)]\n\u001b[1;32m      6\u001b[0m \u001b[38;5;28;01mfor\u001b[39;00m i \u001b[38;5;129;01min\u001b[39;00m samples:\n\u001b[0;32m----> 7\u001b[0m     row \u001b[38;5;241m=\u001b[39m \u001b[43mdataset\u001b[49m\u001b[43m[\u001b[49m\u001b[43mi\u001b[49m\u001b[43m]\u001b[49m\n\u001b[1;32m      9\u001b[0m     list_of_paths\u001b[38;5;241m.\u001b[39mappend(row[\u001b[38;5;124m'\u001b[39m\u001b[38;5;124mfile_path\u001b[39m\u001b[38;5;124m'\u001b[39m])\n\u001b[1;32m     10\u001b[0m     list_of_bboxes\u001b[38;5;241m.\u001b[39mappend(row[\u001b[38;5;124m'\u001b[39m\u001b[38;5;124mbbox\u001b[39m\u001b[38;5;124m'\u001b[39m])\n",
      "File \u001b[0;32m/cfs/earth/scratch/kraftjul/BA_package/ba_dev/dataset.py:670\u001b[0m, in \u001b[0;36mMammaliaDataImage.__getitem__\u001b[0;34m(self, index)\u001b[0m\n\u001b[1;32m    669\u001b[0m \u001b[38;5;28;01mdef\u001b[39;00m\u001b[38;5;250m \u001b[39m\u001b[38;5;21m__getitem__\u001b[39m(\u001b[38;5;28mself\u001b[39m, index: \u001b[38;5;28mint\u001b[39m) \u001b[38;5;241m-\u001b[39m\u001b[38;5;241m>\u001b[39m Any:\n\u001b[0;32m--> 670\u001b[0m     row_index \u001b[38;5;241m=\u001b[39m \u001b[38;5;28;43mself\u001b[39;49m\u001b[38;5;241;43m.\u001b[39;49m\u001b[43mrow_map\u001b[49m\u001b[43m[\u001b[49m\u001b[43mindex\u001b[49m\u001b[43m]\u001b[49m\n\u001b[1;32m    671\u001b[0m     row \u001b[38;5;241m=\u001b[39m \u001b[38;5;28mself\u001b[39m\u001b[38;5;241m.\u001b[39mds\u001b[38;5;241m.\u001b[39miloc[row_index]\n\u001b[1;32m    672\u001b[0m     \u001b[38;5;28;01mreturn\u001b[39;00m row\n",
      "\u001b[0;31mIndexError\u001b[0m: list index out of range"
     ]
    }
   ],
   "source": [
    "list_of_paths = []\n",
    "list_of_bboxes = []\n",
    "\n",
    "samples = [random.randint(0, len(dataset)) for _ in range(100)]\n",
    "\n",
    "for i in samples:\n",
    "    row = dataset[i]\n",
    "\n",
    "    list_of_paths.append(row['file_path'])\n",
    "    list_of_bboxes.append(row['bbox'])\n",
    "\n",
    "images = batch_pipline(list_of_paths, list_of_bboxes)\n",
    "\n",
    "for image in images:\n",
    "    print(image.shape)"
   ]
  },
  {
   "cell_type": "markdown",
   "metadata": {},
   "source": [
    "### Tests Feature Stats"
   ]
  },
  {
   "cell_type": "code",
   "execution_count": 8,
   "metadata": {},
   "outputs": [
    {
     "name": "stderr",
     "output_type": "stream",
     "text": [
      "/cfs/earth/scratch/kraftjul/BA_package/ba_dev/dataset.py:221: UserWarning: With the detection confidence of 0.25,\n",
      "8 sequences had no detections and will be excluded.\n",
      "Excluded sequences: [6000161, 6000163, 6000293, 6000530, 6000691, 6000372, 6000953, 6000186]\n",
      "  warnings.warn(\n"
     ]
    }
   ],
   "source": [
    "path_to_dataset = paths['dataset']\n",
    "path_labelfiles = paths['test_labels']\n",
    "path_to_detector_output = paths['md_output']\n",
    "detector_model=None\n",
    "mode='init'\n",
    "\n",
    "dataset = MammaliaDatasetFeatureStats(\n",
    "    path_labelfiles=path_labelfiles,\n",
    "    path_to_dataset=path_to_dataset,\n",
    "    path_to_detector_output=path_to_detector_output,\n",
    "    detector_model=detector_model,\n",
    "    mode=mode,\n",
    ")\n",
    "\n",
    "def collate_fn(batch):\n",
    "    return batch\n",
    "\n",
    "loader = DataLoader(\n",
    "    dataset,\n",
    "    batch_size=10,\n",
    "    num_workers=1,\n",
    "    shuffle=False,\n",
    "    collate_fn=collate_fn\n",
    "    )"
   ]
  },
  {
   "cell_type": "code",
   "execution_count": 19,
   "metadata": {},
   "outputs": [
    {
     "name": "stdout",
     "output_type": "stream",
     "text": [
      "Mean: tensor([0.3198, 0.2960, 0.2227])\n",
      "Std: tensor([0.2246, 0.2083, 0.1730])\n"
     ]
    }
   ],
   "source": [
    "channel_sum = torch.zeros(3)\n",
    "pixel_count = 0\n",
    "\n",
    "batches_flat = []\n",
    "\n",
    "for batch in loader:\n",
    "    for img in batch:\n",
    "        pixel_count += img.shape[1] * img.shape[2]\n",
    "        for c in range(img.shape[0]):\n",
    "            channel_sum[c] += img[c].sum()\n",
    "\n",
    "        batches_flat.append(img.flatten(start_dim=1))\n",
    "\n",
    "mean = channel_sum / pixel_count\n",
    "\n",
    "channel_diff_squared_sum = torch.zeros(3)\n",
    "for batch in loader:\n",
    "    for img in batch:\n",
    "        img_centered_squared = (img - mean[:, None, None]) ** 2\n",
    "        for c in range(img_centered_squared.shape[0]):\n",
    "            channel_diff_squared_sum[c] += img_centered_squared[c].sum()\n",
    "\n",
    "std = torch.sqrt(channel_diff_squared_sum / pixel_count)\n",
    "\n",
    "print(\"Mean:\", mean)\n",
    "print(\"Std:\", std)"
   ]
  },
  {
   "cell_type": "code",
   "execution_count": 20,
   "metadata": {},
   "outputs": [
    {
     "data": {
      "text/plain": [
       "tensor([0.3198, 0.2960, 0.2227])"
      ]
     },
     "execution_count": 20,
     "metadata": {},
     "output_type": "execute_result"
    }
   ],
   "source": [
    "torch.cat(batches_flat, -1).mean(-1)"
   ]
  },
  {
   "cell_type": "code",
   "execution_count": 21,
   "metadata": {},
   "outputs": [
    {
     "data": {
      "text/plain": [
       "tensor([0.2246, 0.2083, 0.1730])"
      ]
     },
     "execution_count": 21,
     "metadata": {},
     "output_type": "execute_result"
    }
   ],
   "source": [
    "torch.cat(batches_flat, -1).std(-1)"
   ]
  },
  {
   "cell_type": "code",
   "execution_count": 2,
   "metadata": {},
   "outputs": [
    {
     "name": "stderr",
     "output_type": "stream",
     "text": [
      "/cfs/earth/scratch/kraftjul/BA_package/ba_dev/dataset.py:221: UserWarning: With the detection confidence of 0.25,\n",
      "8 sequences had no detections and will be excluded.\n",
      "Excluded sequences: [6000161, 6000163, 6000293, 6000530, 6000691, 6000372, 6000953, 6000186]\n",
      "  warnings.warn(\n"
     ]
    }
   ],
   "source": [
    "path_to_dataset = paths['dataset']\n",
    "path_labelfiles = paths['test_labels']\n",
    "path_to_detector_output = paths['md_output']\n",
    "detector_model=None\n",
    "mode='init'\n",
    "\n",
    "dataset = MammaliaData(\n",
    "    path_labelfiles=path_labelfiles,\n",
    "    path_to_dataset=path_to_dataset,\n",
    "    path_to_detector_output=path_to_detector_output,\n",
    "    detector_model=detector_model,\n",
    "    mode=mode,\n",
    ")"
   ]
  },
  {
   "cell_type": "code",
   "execution_count": 3,
   "metadata": {},
   "outputs": [
    {
     "data": {
      "text/html": [
       "<div>\n",
       "<style scoped>\n",
       "    .dataframe tbody tr th:only-of-type {\n",
       "        vertical-align: middle;\n",
       "    }\n",
       "\n",
       "    .dataframe tbody tr th {\n",
       "        vertical-align: top;\n",
       "    }\n",
       "\n",
       "    .dataframe thead th {\n",
       "        text-align: right;\n",
       "    }\n",
       "</style>\n",
       "<table border=\"1\" class=\"dataframe\">\n",
       "  <thead>\n",
       "    <tr style=\"text-align: right;\">\n",
       "      <th></th>\n",
       "      <th>session</th>\n",
       "      <th>SerialNumber</th>\n",
       "      <th>seq_nr</th>\n",
       "      <th>seq_id</th>\n",
       "      <th>Directory</th>\n",
       "      <th>DateTime_start</th>\n",
       "      <th>DateTime_end</th>\n",
       "      <th>duration_seconds</th>\n",
       "      <th>first_file</th>\n",
       "      <th>last_file</th>\n",
       "      <th>n_files</th>\n",
       "      <th>all_files</th>\n",
       "      <th>label</th>\n",
       "      <th>duplicate_label</th>\n",
       "      <th>label2</th>\n",
       "    </tr>\n",
       "  </thead>\n",
       "  <tbody>\n",
       "    <tr>\n",
       "      <th>0</th>\n",
       "      <td>4</td>\n",
       "      <td>H550HG09194945</td>\n",
       "      <td>233</td>\n",
       "      <td>4007156</td>\n",
       "      <td>sessions/session_04/W2-WK02</td>\n",
       "      <td>2020-06-09T23:21:46Z</td>\n",
       "      <td>2020-06-09T23:22:18Z</td>\n",
       "      <td>32.0</td>\n",
       "      <td>IMG_6154.JPG</td>\n",
       "      <td>IMG_6180.JPG</td>\n",
       "      <td>27</td>\n",
       "      <td>IMG_6154.JPG,IMG_6155.JPG,IMG_6156.JPG,IMG_615...</td>\n",
       "      <td>apodemus_sp</td>\n",
       "      <td>False</td>\n",
       "      <td>apodemus_sp</td>\n",
       "    </tr>\n",
       "    <tr>\n",
       "      <th>1</th>\n",
       "      <td>4</td>\n",
       "      <td>H550HF07158832</td>\n",
       "      <td>180</td>\n",
       "      <td>4011466</td>\n",
       "      <td>sessions/session_04/W5-KH08</td>\n",
       "      <td>2020-06-28T22:25:32Z</td>\n",
       "      <td>2020-06-28T22:25:38Z</td>\n",
       "      <td>6.0</td>\n",
       "      <td>IMG_5446.JPG</td>\n",
       "      <td>IMG_5454.JPG</td>\n",
       "      <td>9</td>\n",
       "      <td>IMG_5446.JPG,IMG_5447.JPG,IMG_5448.JPG,IMG_544...</td>\n",
       "      <td>apodemus_sp</td>\n",
       "      <td>False</td>\n",
       "      <td>apodemus_sp</td>\n",
       "    </tr>\n",
       "    <tr>\n",
       "      <th>2</th>\n",
       "      <td>1</td>\n",
       "      <td>H550HF08161305</td>\n",
       "      <td>229</td>\n",
       "      <td>1001887</td>\n",
       "      <td>sessions/session_01/H550HF08161305_2</td>\n",
       "      <td>2019-09-10T02:06:30Z</td>\n",
       "      <td>2019-09-10T02:07:31Z</td>\n",
       "      <td>61.0</td>\n",
       "      <td>IMG_3034.JPG</td>\n",
       "      <td>IMG_3051.JPG</td>\n",
       "      <td>18</td>\n",
       "      <td>IMG_3034.JPG,IMG_3035.JPG,IMG_3036.JPG,IMG_303...</td>\n",
       "      <td>apodemus_sp</td>\n",
       "      <td>0.0</td>\n",
       "      <td>apodemus_sp</td>\n",
       "    </tr>\n",
       "    <tr>\n",
       "      <th>3</th>\n",
       "      <td>4</td>\n",
       "      <td>H550HF07158933</td>\n",
       "      <td>34</td>\n",
       "      <td>4010684</td>\n",
       "      <td>sessions/session_04/W4-WK02</td>\n",
       "      <td>2020-06-20T23:40:40Z</td>\n",
       "      <td>2020-06-20T23:42:00Z</td>\n",
       "      <td>80.0</td>\n",
       "      <td>IMG_0607.JPG</td>\n",
       "      <td>IMG_0654.JPG</td>\n",
       "      <td>48</td>\n",
       "      <td>IMG_0607.JPG,IMG_0608.JPG,IMG_0609.JPG,IMG_061...</td>\n",
       "      <td>apodemus_sp</td>\n",
       "      <td>False</td>\n",
       "      <td>apodemus_sp</td>\n",
       "    </tr>\n",
       "    <tr>\n",
       "      <th>4</th>\n",
       "      <td>4</td>\n",
       "      <td>H</td>\n",
       "      <td>77</td>\n",
       "      <td>4000175</td>\n",
       "      <td>sessions/session_04/Testwoche1/KH08</td>\n",
       "      <td>2020-05-11T21:16:28Z</td>\n",
       "      <td>2020-05-11T21:16:30Z</td>\n",
       "      <td>2.0</td>\n",
       "      <td>RCNX1125.JPG</td>\n",
       "      <td>RCNX1127.JPG</td>\n",
       "      <td>3</td>\n",
       "      <td>RCNX1125.JPG,RCNX1126.JPG,RCNX1127.JPG</td>\n",
       "      <td>apodemus_sp</td>\n",
       "      <td>False</td>\n",
       "      <td>apodemus_sp</td>\n",
       "    </tr>\n",
       "    <tr>\n",
       "      <th>...</th>\n",
       "      <td>...</td>\n",
       "      <td>...</td>\n",
       "      <td>...</td>\n",
       "      <td>...</td>\n",
       "      <td>...</td>\n",
       "      <td>...</td>\n",
       "      <td>...</td>\n",
       "      <td>...</td>\n",
       "      <td>...</td>\n",
       "      <td>...</td>\n",
       "      <td>...</td>\n",
       "      <td>...</td>\n",
       "      <td>...</td>\n",
       "      <td>...</td>\n",
       "      <td>...</td>\n",
       "    </tr>\n",
       "    <tr>\n",
       "      <th>155</th>\n",
       "      <td>4</td>\n",
       "      <td>H550HF07158839</td>\n",
       "      <td>222</td>\n",
       "      <td>4017495</td>\n",
       "      <td>sessions/session_04/W7-R25</td>\n",
       "      <td>2020-07-16T22:03:52Z</td>\n",
       "      <td>2020-07-16T22:03:52Z</td>\n",
       "      <td>0.0</td>\n",
       "      <td>IMG_3736.JPG</td>\n",
       "      <td>IMG_3738.JPG</td>\n",
       "      <td>3</td>\n",
       "      <td>IMG_3736.JPG,IMG_3737.JPG,IMG_3738.JPG</td>\n",
       "      <td>sorex_sp</td>\n",
       "      <td>False</td>\n",
       "      <td>soricidae</td>\n",
       "    </tr>\n",
       "    <tr>\n",
       "      <th>156</th>\n",
       "      <td>4</td>\n",
       "      <td>H550HG09194886</td>\n",
       "      <td>174</td>\n",
       "      <td>4008312</td>\n",
       "      <td>sessions/session_04/W3-M7</td>\n",
       "      <td>2020-06-18T04:43:02Z</td>\n",
       "      <td>2020-06-18T04:43:02Z</td>\n",
       "      <td>0.0</td>\n",
       "      <td>IMG_3646.JPG</td>\n",
       "      <td>IMG_3648.JPG</td>\n",
       "      <td>3</td>\n",
       "      <td>IMG_3646.JPG,IMG_3647.JPG,IMG_3648.JPG</td>\n",
       "      <td>crocidura_sp</td>\n",
       "      <td>False</td>\n",
       "      <td>soricidae</td>\n",
       "    </tr>\n",
       "    <tr>\n",
       "      <th>157</th>\n",
       "      <td>4</td>\n",
       "      <td>H550HG09194894</td>\n",
       "      <td>161</td>\n",
       "      <td>4015967</td>\n",
       "      <td>sessions/session_04/W6-R26</td>\n",
       "      <td>2020-07-11T22:25:42Z</td>\n",
       "      <td>2020-07-11T22:25:44Z</td>\n",
       "      <td>2.0</td>\n",
       "      <td>IMG_2272.JPG</td>\n",
       "      <td>IMG_2274.JPG</td>\n",
       "      <td>3</td>\n",
       "      <td>IMG_2272.JPG,IMG_2273.JPG,IMG_2274.JPG</td>\n",
       "      <td>sorex_sp</td>\n",
       "      <td>False</td>\n",
       "      <td>soricidae</td>\n",
       "    </tr>\n",
       "    <tr>\n",
       "      <th>158</th>\n",
       "      <td>4</td>\n",
       "      <td>H550HF07158832</td>\n",
       "      <td>147</td>\n",
       "      <td>4014414</td>\n",
       "      <td>sessions/session_04/W6-M2</td>\n",
       "      <td>2020-07-05T05:16:24Z</td>\n",
       "      <td>2020-07-05T05:16:26Z</td>\n",
       "      <td>2.0</td>\n",
       "      <td>IMG_3880.JPG</td>\n",
       "      <td>IMG_3882.JPG</td>\n",
       "      <td>3</td>\n",
       "      <td>IMG_3880.JPG,IMG_3881.JPG,IMG_3882.JPG</td>\n",
       "      <td>crocidura_sp</td>\n",
       "      <td>False</td>\n",
       "      <td>soricidae</td>\n",
       "    </tr>\n",
       "    <tr>\n",
       "      <th>159</th>\n",
       "      <td>4</td>\n",
       "      <td>H550HF07158878</td>\n",
       "      <td>14</td>\n",
       "      <td>4010196</td>\n",
       "      <td>sessions/session_04/W4-M8</td>\n",
       "      <td>2020-06-20T15:29:08Z</td>\n",
       "      <td>2020-06-20T15:29:14Z</td>\n",
       "      <td>6.0</td>\n",
       "      <td>IMG_0286.JPG</td>\n",
       "      <td>IMG_0291.JPG</td>\n",
       "      <td>6</td>\n",
       "      <td>IMG_0286.JPG,IMG_0287.JPG,IMG_0288.JPG,IMG_028...</td>\n",
       "      <td>crocidura_sp</td>\n",
       "      <td>False</td>\n",
       "      <td>soricidae</td>\n",
       "    </tr>\n",
       "  </tbody>\n",
       "</table>\n",
       "<p>152 rows × 15 columns</p>\n",
       "</div>"
      ],
      "text/plain": [
       "     session    SerialNumber  seq_nr   seq_id  \\\n",
       "0          4  H550HG09194945     233  4007156   \n",
       "1          4  H550HF07158832     180  4011466   \n",
       "2          1  H550HF08161305     229  1001887   \n",
       "3          4  H550HF07158933      34  4010684   \n",
       "4          4               H      77  4000175   \n",
       "..       ...             ...     ...      ...   \n",
       "155        4  H550HF07158839     222  4017495   \n",
       "156        4  H550HG09194886     174  4008312   \n",
       "157        4  H550HG09194894     161  4015967   \n",
       "158        4  H550HF07158832     147  4014414   \n",
       "159        4  H550HF07158878      14  4010196   \n",
       "\n",
       "                                Directory        DateTime_start  \\\n",
       "0             sessions/session_04/W2-WK02  2020-06-09T23:21:46Z   \n",
       "1             sessions/session_04/W5-KH08  2020-06-28T22:25:32Z   \n",
       "2    sessions/session_01/H550HF08161305_2  2019-09-10T02:06:30Z   \n",
       "3             sessions/session_04/W4-WK02  2020-06-20T23:40:40Z   \n",
       "4     sessions/session_04/Testwoche1/KH08  2020-05-11T21:16:28Z   \n",
       "..                                    ...                   ...   \n",
       "155            sessions/session_04/W7-R25  2020-07-16T22:03:52Z   \n",
       "156             sessions/session_04/W3-M7  2020-06-18T04:43:02Z   \n",
       "157            sessions/session_04/W6-R26  2020-07-11T22:25:42Z   \n",
       "158             sessions/session_04/W6-M2  2020-07-05T05:16:24Z   \n",
       "159             sessions/session_04/W4-M8  2020-06-20T15:29:08Z   \n",
       "\n",
       "             DateTime_end  duration_seconds    first_file     last_file  \\\n",
       "0    2020-06-09T23:22:18Z              32.0  IMG_6154.JPG  IMG_6180.JPG   \n",
       "1    2020-06-28T22:25:38Z               6.0  IMG_5446.JPG  IMG_5454.JPG   \n",
       "2    2019-09-10T02:07:31Z              61.0  IMG_3034.JPG  IMG_3051.JPG   \n",
       "3    2020-06-20T23:42:00Z              80.0  IMG_0607.JPG  IMG_0654.JPG   \n",
       "4    2020-05-11T21:16:30Z               2.0  RCNX1125.JPG  RCNX1127.JPG   \n",
       "..                    ...               ...           ...           ...   \n",
       "155  2020-07-16T22:03:52Z               0.0  IMG_3736.JPG  IMG_3738.JPG   \n",
       "156  2020-06-18T04:43:02Z               0.0  IMG_3646.JPG  IMG_3648.JPG   \n",
       "157  2020-07-11T22:25:44Z               2.0  IMG_2272.JPG  IMG_2274.JPG   \n",
       "158  2020-07-05T05:16:26Z               2.0  IMG_3880.JPG  IMG_3882.JPG   \n",
       "159  2020-06-20T15:29:14Z               6.0  IMG_0286.JPG  IMG_0291.JPG   \n",
       "\n",
       "     n_files                                          all_files         label  \\\n",
       "0         27  IMG_6154.JPG,IMG_6155.JPG,IMG_6156.JPG,IMG_615...   apodemus_sp   \n",
       "1          9  IMG_5446.JPG,IMG_5447.JPG,IMG_5448.JPG,IMG_544...   apodemus_sp   \n",
       "2         18  IMG_3034.JPG,IMG_3035.JPG,IMG_3036.JPG,IMG_303...   apodemus_sp   \n",
       "3         48  IMG_0607.JPG,IMG_0608.JPG,IMG_0609.JPG,IMG_061...   apodemus_sp   \n",
       "4          3             RCNX1125.JPG,RCNX1126.JPG,RCNX1127.JPG   apodemus_sp   \n",
       "..       ...                                                ...           ...   \n",
       "155        3             IMG_3736.JPG,IMG_3737.JPG,IMG_3738.JPG      sorex_sp   \n",
       "156        3             IMG_3646.JPG,IMG_3647.JPG,IMG_3648.JPG  crocidura_sp   \n",
       "157        3             IMG_2272.JPG,IMG_2273.JPG,IMG_2274.JPG      sorex_sp   \n",
       "158        3             IMG_3880.JPG,IMG_3881.JPG,IMG_3882.JPG  crocidura_sp   \n",
       "159        6  IMG_0286.JPG,IMG_0287.JPG,IMG_0288.JPG,IMG_028...  crocidura_sp   \n",
       "\n",
       "    duplicate_label       label2  \n",
       "0             False  apodemus_sp  \n",
       "1             False  apodemus_sp  \n",
       "2               0.0  apodemus_sp  \n",
       "3             False  apodemus_sp  \n",
       "4             False  apodemus_sp  \n",
       "..              ...          ...  \n",
       "155           False    soricidae  \n",
       "156           False    soricidae  \n",
       "157           False    soricidae  \n",
       "158           False    soricidae  \n",
       "159           False    soricidae  \n",
       "\n",
       "[152 rows x 15 columns]"
      ]
     },
     "execution_count": 3,
     "metadata": {},
     "output_type": "execute_result"
    }
   ],
   "source": [
    "dataset.ds_filtered"
   ]
  },
  {
   "cell_type": "code",
   "execution_count": 8,
   "metadata": {},
   "outputs": [],
   "source": [
    "ds = dataset.ds_filtered\n",
    "test_size = 0.2\n",
    "n_folds = 5\n",
    "seed = 55\n"
   ]
  },
  {
   "cell_type": "code",
   "execution_count": 24,
   "metadata": {},
   "outputs": [],
   "source": [
    "rng = np.random.default_rng(seed)\n",
    "\n",
    "for value in ds['label2'].unique():\n",
    "    ds_selected = ds[ds['label2'] == value]\n",
    "    length = ds_selected.shape[0]\n",
    "    indices = rng.permutation(length)\n",
    "\n",
    "    labels = ds_selected['label2'].tolist()\n",
    "\n",
    "    labels\n",
    "\n",
    "    # n_files = ds_selected['n_files'].tolist()[indices]\n",
    "\n",
    "    \n",
    "    "
   ]
  },
  {
   "cell_type": "code",
   "execution_count": 56,
   "metadata": {},
   "outputs": [],
   "source": [
    "ds_selected = ds[ds['label2'] == 'apodemus_sp']\n",
    "length = ds_selected.shape[0]\n",
    "indices = rng.permutation(length)\n",
    "\n",
    "seq_ids = ds_selected['seq_id'].to_numpy()[indices]\n",
    "seq_lengths = ds_selected['n_files'].to_numpy()[indices]\n",
    "\n",
    "train_images = int(seq_lengths.sum() * test_size)\n",
    "fold_images = int(seq_lengths.sum() * (1 - test_size)) // n_folds\n",
    "\n",
    "split_sizes = [train_images] + [fold_images] * (n_folds)\n",
    "splits = []\n",
    "seq_ids_avail = seq_ids.copy()\n",
    "seq_lengths_avail = seq_lengths.copy()\n",
    "\n",
    "for i, size in enumerate(split_sizes):\n",
    "    if len(seq_lengths_avail) == 0:\n",
    "        break\n",
    "\n",
    "    total_sum = seq_lengths_avail.sum()\n",
    "    future_splits = len(split_sizes) - len(splits) - 1\n",
    "    future_target = future_splits * fold_images\n",
    "\n",
    "    best_cut = None\n",
    "    best_error = float('inf')\n",
    "\n",
    "    for idx in range(1, len(seq_lengths_avail)):\n",
    "        left = seq_lengths_avail[:idx].sum()\n",
    "        right = total_sum - left\n",
    "\n",
    "        error = abs(left - size) + abs(right - future_target)\n",
    "\n",
    "        if error < best_error:\n",
    "            best_error = error\n",
    "            best_cut = idx\n",
    "\n",
    "    if best_cut is None:\n",
    "        best_cut = len(seq_lengths_avail)  # last fallback\n",
    "\n",
    "    splits.append(seq_ids_avail[:best_cut])\n",
    "    seq_ids_avail = seq_ids_avail[best_cut:]\n",
    "    seq_lengths_avail = seq_lengths_avail[best_cut:]\n"
   ]
  },
  {
   "cell_type": "code",
   "execution_count": 57,
   "metadata": {},
   "outputs": [
    {
     "data": {
      "text/plain": [
       "[124, 99, 99, 99, 99, 99]"
      ]
     },
     "execution_count": 57,
     "metadata": {},
     "output_type": "execute_result"
    }
   ],
   "source": [
    "split_sizes"
   ]
  },
  {
   "cell_type": "code",
   "execution_count": 58,
   "metadata": {},
   "outputs": [
    {
     "name": "stdout",
     "output_type": "stream",
     "text": [
      "123\n",
      "108\n",
      "90\n",
      "105\n",
      "93\n",
      "84\n"
     ]
    }
   ],
   "source": [
    "for i in range(len(split_sizes)):    \n",
    "    sum = 0\n",
    "    for seq_id in splits[i]:\n",
    "        n_files = ds_selected[ds_selected['seq_id'] == seq_id]['n_files'].values[0]\n",
    "\n",
    "        sum += n_files\n",
    "    print(sum)"
   ]
  },
  {
   "cell_type": "code",
   "execution_count": 21,
   "metadata": {},
   "outputs": [
    {
     "ename": "TypeError",
     "evalue": "only integer scalar arrays can be converted to a scalar index",
     "output_type": "error",
     "traceback": [
      "\u001b[0;31m---------------------------------------------------------------------------\u001b[0m",
      "\u001b[0;31mTypeError\u001b[0m                                 Traceback (most recent call last)",
      "Cell \u001b[0;32mIn[21], line 3\u001b[0m\n\u001b[1;32m      1\u001b[0m ds_selected \u001b[38;5;241m=\u001b[39m ds\n\u001b[0;32m----> 3\u001b[0m \u001b[43mds_selected\u001b[49m\u001b[43m[\u001b[49m\u001b[38;5;124;43m'\u001b[39;49m\u001b[38;5;124;43mlabel2\u001b[39;49m\u001b[38;5;124;43m'\u001b[39;49m\u001b[43m]\u001b[49m\u001b[38;5;241;43m.\u001b[39;49m\u001b[43mtolist\u001b[49m\u001b[43m(\u001b[49m\u001b[43m)\u001b[49m\u001b[43m[\u001b[49m\u001b[43mindices\u001b[49m\u001b[43m]\u001b[49m\n",
      "\u001b[0;31mTypeError\u001b[0m: only integer scalar arrays can be converted to a scalar index"
     ]
    }
   ],
   "source": [
    "ds_selected = ds\n",
    "\n",
    "ds_selected['label2'].tolist()[indices]"
   ]
  }
 ],
 "metadata": {
  "kernelspec": {
   "display_name": "Python 3",
   "language": "python",
   "name": "python3"
  },
  "language_info": {
   "codemirror_mode": {
    "name": "ipython",
    "version": 3
   },
   "file_extension": ".py",
   "mimetype": "text/x-python",
   "name": "python",
   "nbconvert_exporter": "python",
   "pygments_lexer": "ipython3",
   "version": "3.10.16"
  }
 },
 "nbformat": 4,
 "nbformat_minor": 2
}
