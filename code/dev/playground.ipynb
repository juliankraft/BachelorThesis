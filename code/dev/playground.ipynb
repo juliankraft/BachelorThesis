{
 "cells": [
  {
   "cell_type": "code",
   "execution_count": 12,
   "metadata": {},
   "outputs": [],
   "source": [
    "import random\n",
    "import torch\n",
    "\n",
    "import numpy as np\n",
    "from pathlib import Path\n",
    "from PIL import Image\n",
    "\n",
    "from torchvision.transforms import v2\n",
    "from torch.utils.data import DataLoader\n",
    "from pytorch_lightning import Trainer\n",
    "import torch.nn.functional as F\n",
    "from torchmetrics import Accuracy\n",
    "\n",
    "from ba_dev.dataset import MammaliaDataSequence, MammaliaDataImage\n",
    "from ba_dev.datamodule import MammaliaDataModule\n",
    "from ba_dev.transform import ImagePipeline, BatchImagePipeline\n",
    "from ba_dev.model import LightningModelImage\n",
    "from ba_dev.utils import load_config_yaml\n",
    "\n",
    "paths = load_config_yaml('../path_config.yml')\n"
   ]
  },
  {
   "cell_type": "markdown",
   "metadata": {},
   "source": [
    "### Running Tests"
   ]
  },
  {
   "cell_type": "code",
   "execution_count": 2,
   "metadata": {},
   "outputs": [
    {
     "name": "stderr",
     "output_type": "stream",
     "text": [
      "/cfs/earth/scratch/kraftjul/BA_package/ba_dev/dataset.py:250: UserWarning: With the detection confidence of 0.25,\n",
      "8 sequences had no detections and will be excluded.\n",
      "Excluded sequences: [6000161, 6000163, 6000293, 6000530, 6000691, 6000372, 6000953, 6000186]\n",
      "  warnings.warn(\n"
     ]
    }
   ],
   "source": [
    "stats = torch.load(paths['feature_stats'])\n",
    "\n",
    "image_pipeline = ImagePipeline(\n",
    "        pre_ops=[\n",
    "            ('to_rgb', {}),\n",
    "            ('crop_by_bb', {'crop_shape': 1.0})\n",
    "            ],\n",
    "        transform=v2.Compose([\n",
    "            v2.ToImage(),\n",
    "            v2.ToDtype(torch.float32, scale=True),\n",
    "            v2.Resize((224, 224)),\n",
    "            v2.Normalize(\n",
    "                mean=stats['mean'],\n",
    "                std=stats['std']\n",
    "                )\n",
    "            ])\n",
    "        )\n",
    "\n",
    "dataset_kwargs = {\n",
    "        'path_labelfiles': paths['test_labels'],\n",
    "        'path_to_dataset': paths['dataset'],\n",
    "        'path_to_detector_output': paths['md_output'],\n",
    "        }\n",
    "\n",
    "datamodule = MammaliaDataModule(\n",
    "                dataset_cls=MammaliaDataImage,\n",
    "                dataset_kwargs=dataset_kwargs,\n",
    "                n_folds=5,\n",
    "                test_fold=0,\n",
    "                image_pipeline=image_pipeline,\n",
    "                augmented_image_pipeline=None,\n",
    "                batch_size=32,\n",
    "                num_workers=1,\n",
    "                pin_memory=True,\n",
    "                )\n",
    "\n",
    "model = LightningModelImage(\n",
    "            num_classes=datamodule.num_classes,\n",
    "            class_weights=datamodule.class_weights,\n",
    "            backbone_name='efficientnet_b0',\n",
    "            backbone_pretrained=True,\n",
    "            backbone_weights='DEFAULT',\n",
    "            optimizer_name='AdamW',\n",
    "            optimizer_kwargs={\n",
    "                'lr': 1e-3,\n",
    "                'weight_decay': 1e-5,\n",
    "                'amsgrad': False\n",
    "                },\n",
    "            scheduler_name='CosineAnnealingLR',\n",
    "            scheduler_kwargs={'T_max': 5},\n",
    "            )\n"
   ]
  },
  {
   "cell_type": "code",
   "execution_count": 28,
   "metadata": {},
   "outputs": [],
   "source": [
    "train_acc = Accuracy(task=\"multiclass\", num_classes=4)"
   ]
  },
  {
   "cell_type": "code",
   "execution_count": 29,
   "metadata": {},
   "outputs": [
    {
     "data": {
      "text/plain": [
       "MulticlassAccuracy()"
      ]
     },
     "execution_count": 29,
     "metadata": {},
     "output_type": "execute_result"
    }
   ],
   "source": [
    "train_acc"
   ]
  },
  {
   "cell_type": "code",
   "execution_count": 16,
   "metadata": {},
   "outputs": [],
   "source": [
    "train_loader = datamodule.train_dataloader()\n",
    "batch = next(iter(train_loader))"
   ]
  },
  {
   "cell_type": "code",
   "execution_count": 34,
   "metadata": {},
   "outputs": [
    {
     "data": {
      "text/plain": [
       "{'sample': tensor([[[[-7.8289e-01, -7.8781e-01, -7.7689e-01,  ..., -1.0733e-01,\n",
       "            -1.0673e-01, -1.3620e-01],\n",
       "           [-7.8289e-01, -8.0010e-01, -7.9269e-01,  ..., -1.3293e-01,\n",
       "            -1.3253e-01, -1.0673e-01],\n",
       "           [-7.8205e-01, -7.9927e-01, -7.9186e-01,  ..., -1.4623e-01,\n",
       "            -1.3884e-01, -9.8167e-02],\n",
       "           ...,\n",
       "           [-1.3600e+00, -1.3515e+00, -1.3615e+00,  ...,  5.6469e-01,\n",
       "             3.2700e-01,  1.6107e-01],\n",
       "           [-1.3893e+00, -1.3893e+00, -1.3944e+00,  ...,  7.7370e-01,\n",
       "             6.2795e-01,  4.9603e-01],\n",
       "           [-1.4281e+00, -1.4281e+00, -1.4281e+00,  ...,  8.3627e-01,\n",
       "             7.8916e-01,  7.1357e-01]],\n",
       " \n",
       "          [[-5.6069e-01, -5.6069e-01, -5.7003e-01,  ...,  1.3886e-01,\n",
       "             1.3950e-01,  1.0939e-01],\n",
       "           [-5.1852e-01, -5.1852e-01, -5.1805e-01,  ...,  1.1096e-01,\n",
       "             1.1139e-01,  1.0469e-01],\n",
       "           [-5.1761e-01, -5.1761e-01, -5.1761e-01,  ...,  9.6470e-02,\n",
       "             1.0451e-01,  1.0667e-01],\n",
       "           ...,\n",
       "           [-1.4151e+00, -1.4025e+00, -1.3825e+00,  ...,  5.4143e-01,\n",
       "             2.8761e-01,  6.1066e-02],\n",
       "           [-1.4343e+00, -1.4343e+00, -1.4243e+00,  ...,  6.3662e-01,\n",
       "             4.8315e-01,  3.4787e-01],\n",
       "           [-1.4578e+00, -1.4578e+00, -1.4554e+00,  ...,  5.3181e-01,\n",
       "             4.7644e-01,  4.9179e-01]],\n",
       " \n",
       "          [[ 1.5186e-01,  1.5186e-01,  1.5124e-01,  ...,  9.8712e-01,\n",
       "             9.8790e-01,  9.5647e-01],\n",
       "           [ 1.0111e-01,  1.0111e-01,  9.9442e-02,  ...,  9.5354e-01,\n",
       "             9.5406e-01,  9.0251e-01],\n",
       "           [ 1.0220e-01,  1.0220e-01,  1.0121e-01,  ...,  9.3611e-01,\n",
       "             9.4579e-01,  9.3302e-01],\n",
       "           ...,\n",
       "           [-1.2412e+00, -1.2278e+00, -1.2065e+00,  ..., -4.6233e-01,\n",
       "            -6.0423e-01, -5.8183e-01],\n",
       "           [-1.2618e+00, -1.2618e+00, -1.2514e+00,  ..., -1.9422e-01,\n",
       "            -1.8239e-01, -6.7433e-02],\n",
       "           [-1.2900e+00, -1.2900e+00, -1.2886e+00,  ..., -6.6522e-02,\n",
       "             3.4161e-02,  1.6391e-01]]],\n",
       " \n",
       " \n",
       "         [[[-4.2206e-02, -3.7154e-02, -4.2526e-02,  ..., -8.3328e-02,\n",
       "            -1.2722e-01, -1.7859e-01],\n",
       "           [-3.7154e-02, -2.3688e-02, -2.4663e-02,  ..., -9.8258e-02,\n",
       "            -1.4831e-01, -1.7377e-01],\n",
       "           [-2.7648e-02, -1.0116e-02, -1.4306e-02,  ..., -6.5644e-02,\n",
       "            -1.1608e-01, -1.1283e-01],\n",
       "           ...,\n",
       "           [-5.5597e-01, -5.5597e-01, -5.5597e-01,  ..., -1.1689e+00,\n",
       "            -1.1705e+00, -1.1630e+00],\n",
       "           [-5.3554e-01, -5.3554e-01, -5.3554e-01,  ..., -1.1199e+00,\n",
       "            -1.1100e+00, -1.1074e+00],\n",
       "           [-5.5186e-01, -5.5186e-01, -5.5186e-01,  ..., -1.1003e+00,\n",
       "            -1.0798e+00, -1.0829e+00]],\n",
       " \n",
       "          [[ 1.4300e-01,  1.4851e-01,  1.4265e-01,  ...,  2.9406e-01,\n",
       "             2.4304e-01,  1.8707e-01],\n",
       "           [ 1.3658e-01,  1.5125e-01,  1.5019e-01,  ...,  2.8857e-01,\n",
       "             2.2592e-01,  1.9818e-01],\n",
       "           [ 1.4694e-01,  1.6604e-01,  1.6148e-01,  ...,  2.5798e-01,\n",
       "             1.9590e-01,  1.9369e-01],\n",
       "           ...,\n",
       "           [-4.6811e-01, -4.6811e-01, -4.6811e-01,  ..., -1.0636e+00,\n",
       "            -1.0816e+00, -1.0734e+00],\n",
       "           [-4.4585e-01, -4.4585e-01, -4.4585e-01,  ..., -1.0453e+00,\n",
       "            -1.0477e+00, -1.0490e+00],\n",
       "           [-4.6364e-01, -4.6364e-01, -4.6364e-01,  ..., -1.0485e+00,\n",
       "            -1.0334e+00, -1.0423e+00]],\n",
       " \n",
       "          [[ 4.6584e-01,  4.7247e-01,  4.6542e-01,  ...,  5.1767e-01,\n",
       "             4.6779e-01,  4.0042e-01],\n",
       "           [ 4.9413e-01,  5.1179e-01,  5.1051e-01,  ...,  5.3084e-01,\n",
       "             4.8702e-01,  4.6297e-01],\n",
       "           [ 5.4315e-01,  5.6614e-01,  5.6065e-01,  ...,  5.5187e-01,\n",
       "             5.0238e-01,  5.2174e-01],\n",
       "           ...,\n",
       "           [-4.0686e-01, -4.0686e-01, -4.0686e-01,  ..., -1.0320e+00,\n",
       "            -1.0725e+00, -1.0626e+00],\n",
       "           [-3.8006e-01, -3.8006e-01, -3.8006e-01,  ..., -9.9637e-01,\n",
       "            -1.0134e+00, -1.0149e+00],\n",
       "           [-4.0147e-01, -4.0147e-01, -4.0147e-01,  ..., -9.9120e-01,\n",
       "            -9.9243e-01, -1.0031e+00]]],\n",
       " \n",
       " \n",
       "         [[[ 9.6067e-01,  1.0937e+00,  1.3759e+00,  ..., -6.6216e-01,\n",
       "            -6.4892e-01, -5.9252e-01],\n",
       "           [ 1.1158e+00,  1.2857e+00,  1.4949e+00,  ..., -6.2081e-01,\n",
       "            -6.2369e-01, -5.7844e-01],\n",
       "           [ 1.1110e+00,  1.1344e+00,  1.0749e+00,  ..., -6.0250e-01,\n",
       "            -5.9079e-01, -4.3711e-01],\n",
       "           ...,\n",
       "           [-5.7268e-01, -5.6987e-01, -5.3606e-01,  ..., -1.0051e+00,\n",
       "            -9.8409e-01, -9.6548e-01],\n",
       "           [-5.6740e-01, -5.6465e-01, -5.3343e-01,  ..., -9.9226e-01,\n",
       "            -9.8404e-01, -9.6577e-01],\n",
       "           [-4.8538e-01, -4.8585e-01, -4.8140e-01,  ..., -9.6726e-01,\n",
       "            -9.8087e-01, -9.8637e-01]],\n",
       " \n",
       "          [[ 1.4060e+00,  1.2896e+00,  1.4147e+00,  ..., -4.8998e-01,\n",
       "            -4.9047e-01, -4.1644e-01],\n",
       "           [ 1.3275e+00,  1.2064e+00,  1.4199e+00,  ..., -4.6692e-01,\n",
       "            -4.6677e-01, -4.0466e-01],\n",
       "           [ 1.3210e+00,  1.3273e+00,  1.3220e+00,  ..., -4.6320e-01,\n",
       "            -4.4035e-01, -2.5951e-01],\n",
       "           ...,\n",
       "           [-4.1251e-01, -4.2143e-01, -4.2474e-01,  ..., -8.6283e-01,\n",
       "            -8.5641e-01, -8.3612e-01],\n",
       "           [-3.9909e-01, -3.9995e-01, -4.1929e-01,  ..., -8.7993e-01,\n",
       "            -8.6985e-01, -8.4992e-01],\n",
       "           [-3.9552e-01, -3.9337e-01, -4.2283e-01,  ..., -8.6816e-01,\n",
       "            -8.6029e-01, -8.6529e-01]],\n",
       " \n",
       "          [[ 2.2318e+00,  2.1960e+00,  2.3471e+00,  ...,  9.7413e-02,\n",
       "             9.3137e-02,  7.6147e-02],\n",
       "           [ 2.2665e+00,  2.2252e+00,  2.3946e+00,  ...,  1.1361e-01,\n",
       "             9.2109e-02,  5.4965e-02],\n",
       "           [ 2.3146e+00,  2.2598e+00,  2.2176e+00,  ...,  8.4370e-02,\n",
       "             5.0362e-02,  1.4168e-01],\n",
       "           ...,\n",
       "           [ 1.4962e-02,  4.5183e-02,  2.8047e-02,  ..., -5.5356e-01,\n",
       "            -5.4636e-01, -5.2195e-01],\n",
       "           [-4.6186e-02, -5.6705e-02,  4.2751e-03,  ..., -5.1555e-01,\n",
       "            -4.9496e-01, -4.7129e-01],\n",
       "           [-2.4629e-02, -4.9687e-02, -1.1449e-02,  ..., -4.8456e-01,\n",
       "            -4.9309e-01, -5.2111e-01]]],\n",
       " \n",
       " \n",
       "         ...,\n",
       " \n",
       " \n",
       "         [[[ 4.2199e-01,  5.3924e-01,  5.9234e-01,  ..., -1.0551e+00,\n",
       "            -1.0464e+00, -1.0169e+00],\n",
       "           [ 5.1840e-01,  5.9777e-01,  6.9278e-01,  ..., -1.0436e+00,\n",
       "            -1.0367e+00, -1.0033e+00],\n",
       "           [ 6.0497e-01,  6.3295e-01,  6.6837e-01,  ..., -9.9652e-01,\n",
       "            -9.6969e-01, -9.3194e-01],\n",
       "           ...,\n",
       "           [-2.9385e-01, -3.8243e-01, -3.4367e-02,  ..., -8.1445e-01,\n",
       "            -8.3356e-01, -8.6588e-01],\n",
       "           [ 5.4270e-02, -3.6687e-01, -3.1756e-01,  ..., -8.7836e-01,\n",
       "            -8.6673e-01, -8.7216e-01],\n",
       "           [-1.5718e-01, -4.1484e-01, -4.4342e-01,  ..., -8.7601e-01,\n",
       "            -8.7883e-01, -8.7734e-01]],\n",
       " \n",
       "          [[ 5.7134e-01,  6.2713e-01,  6.0446e-01,  ..., -1.1052e+00,\n",
       "            -1.1239e+00, -1.1130e+00],\n",
       "           [ 6.1911e-01,  6.3165e-01,  6.6911e-01,  ..., -1.1014e+00,\n",
       "            -1.1276e+00, -1.1141e+00],\n",
       "           [ 7.1963e-01,  6.6470e-01,  6.1460e-01,  ..., -1.1331e+00,\n",
       "            -1.1407e+00, -1.1212e+00],\n",
       "           ...,\n",
       "           [-3.6981e-01, -5.7254e-01, -3.2210e-01,  ..., -9.1314e-01,\n",
       "            -9.2930e-01, -9.5681e-01],\n",
       "           [ 1.2917e-02, -4.5632e-01, -4.3138e-01,  ..., -9.7792e-01,\n",
       "            -9.6421e-01, -9.6486e-01],\n",
       "           [-3.4264e-01, -5.2134e-01, -4.5298e-01,  ..., -9.7535e-01,\n",
       "            -9.7739e-01, -9.7050e-01]],\n",
       " \n",
       "          [[ 8.9109e-01,  1.0969e+00,  1.1934e+00,  ..., -1.0402e+00,\n",
       "            -1.0615e+00, -1.0421e+00],\n",
       "           [ 1.0324e+00,  1.1404e+00,  1.2422e+00,  ..., -1.0758e+00,\n",
       "            -1.0956e+00, -1.0710e+00],\n",
       "           [ 1.1745e+00,  1.1884e+00,  1.1810e+00,  ..., -1.0836e+00,\n",
       "            -1.0809e+00, -1.0505e+00],\n",
       "           ...,\n",
       "           [-3.1440e-01, -4.7804e-01, -1.6226e-01,  ..., -9.3979e-01,\n",
       "            -9.7870e-01, -1.0319e+00],\n",
       "           [-2.9753e-01, -7.3410e-01, -5.6197e-01,  ..., -9.9575e-01,\n",
       "            -1.0148e+00, -1.0474e+00],\n",
       "           [-3.9868e-01, -6.2235e-01, -5.7184e-01,  ..., -9.9266e-01,\n",
       "            -1.0307e+00, -1.0542e+00]]],\n",
       " \n",
       " \n",
       "         [[[-4.9963e-02, -6.6418e-02, -3.1049e-02,  ...,  6.4178e-01,\n",
       "             6.4339e-01,  6.8028e-01],\n",
       "           [-3.7387e-02, -4.8704e-02, -6.0870e-03,  ...,  5.9282e-01,\n",
       "             6.6755e-01,  7.3559e-01],\n",
       "           [-4.9796e-02, -2.6777e-02, -8.5957e-03,  ...,  7.2072e-01,\n",
       "             7.3796e-01,  7.7288e-01],\n",
       "           ...,\n",
       "           [-1.1996e+00, -1.1690e+00, -1.1249e+00,  ...,  1.4476e+00,\n",
       "             1.3959e+00,  1.3036e+00],\n",
       "           [-1.1874e+00, -1.1660e+00, -1.1469e+00,  ...,  5.5012e-01,\n",
       "             4.4757e-01,  3.9927e-01],\n",
       "           [-1.2112e+00, -1.1934e+00, -1.1430e+00,  ..., -9.2785e-02,\n",
       "            -2.2838e-01, -2.3552e-01]],\n",
       " \n",
       "          [[ 2.9249e-01,  2.8290e-01,  3.5029e-01,  ...,  6.3632e-01,\n",
       "             6.6386e-01,  7.7774e-01],\n",
       "           [ 3.0728e-01,  3.0364e-01,  3.7893e-01,  ...,  5.7468e-01,\n",
       "             6.8970e-01,  8.4328e-01],\n",
       "           [ 3.2629e-01,  3.7074e-01,  4.1940e-01,  ...,  7.8972e-01,\n",
       "             8.6199e-01,  9.7516e-01],\n",
       "           ...,\n",
       "           [-1.1555e+00, -1.1221e+00, -1.0742e+00,  ...,  1.0549e+00,\n",
       "             9.9889e-01,  8.9852e-01],\n",
       "           [-1.1454e+00, -1.1303e+00, -1.1202e+00,  ...,  1.4347e-01,\n",
       "             1.9692e-02, -4.4665e-02],\n",
       "           [-1.2291e+00, -1.2321e+00, -1.2038e+00,  ..., -2.6836e-01,\n",
       "            -4.3341e-01, -4.7268e-01]],\n",
       " \n",
       "          [[ 8.7016e-01,  8.7743e-01,  9.9327e-01,  ...,  1.0098e+00,\n",
       "             1.0314e+00,  1.1771e+00],\n",
       "           [ 8.8687e-01,  9.0061e-01,  1.0247e+00,  ...,  9.8232e-01,\n",
       "             1.0713e+00,  1.2442e+00],\n",
       "           [ 8.7702e-01,  9.2800e-01,  9.8191e-01,  ...,  1.1215e+00,\n",
       "             1.1407e+00,  1.3820e+00],\n",
       "           ...,\n",
       "           [-1.1401e+00, -1.0999e+00, -1.0421e+00,  ...,  5.5475e-01,\n",
       "             4.6290e-01,  3.3127e-01],\n",
       "           [-1.1023e+00, -1.0640e+00, -1.0213e+00,  ...,  2.1864e-01,\n",
       "             8.9853e-02, -1.0190e-02],\n",
       "           [-1.1601e+00, -1.1434e+00, -1.0739e+00,  ..., -1.9841e-01,\n",
       "            -2.3960e-01, -2.8871e-01]]],\n",
       " \n",
       " \n",
       "         [[[ 2.7880e+00,  2.6863e+00,  2.4946e+00,  ..., -1.2190e+00,\n",
       "            -1.1543e+00, -1.1160e+00],\n",
       "           [ 2.8644e+00,  2.7782e+00,  2.4567e+00,  ..., -1.2118e+00,\n",
       "            -1.1357e+00, -9.8546e-01],\n",
       "           [ 2.8735e+00,  2.3794e+00,  2.0755e+00,  ..., -1.3071e+00,\n",
       "            -1.0921e+00, -8.0678e-01],\n",
       "           ...,\n",
       "           [ 1.5745e+00,  1.4999e+00,  1.3873e+00,  ..., -1.2797e-02,\n",
       "            -1.3495e-01, -1.6985e-01],\n",
       "           [ 1.4990e+00,  1.5265e+00,  1.4804e+00,  ...,  5.7471e-02,\n",
       "            -4.2932e-03, -2.5874e-03],\n",
       "           [ 1.3107e+00,  1.3987e+00,  1.3772e+00,  ...,  8.6039e-04,\n",
       "             1.1284e-02,  8.2335e-03]],\n",
       " \n",
       "          [[ 3.4056e+00,  3.1225e+00,  2.6643e+00,  ..., -1.1793e+00,\n",
       "            -1.0418e+00, -9.2630e-01],\n",
       "           [ 3.3956e+00,  3.1436e+00,  2.7199e+00,  ..., -1.1595e+00,\n",
       "            -1.0248e+00, -7.8214e-01],\n",
       "           [ 3.3173e+00,  2.8706e+00,  2.5239e+00,  ..., -1.2301e+00,\n",
       "            -9.4069e-01, -5.8129e-01],\n",
       "           ...,\n",
       "           [ 1.5719e+00,  1.4811e+00,  1.3381e+00,  ..., -1.4415e-01,\n",
       "            -2.1464e-01, -2.5585e-01],\n",
       "           [ 1.2311e+00,  1.3020e+00,  1.3113e+00,  ..., -1.4941e-01,\n",
       "            -2.1314e-01, -2.1653e-01],\n",
       "           [ 9.4360e-01,  1.0796e+00,  1.1249e+00,  ..., -2.3186e-01,\n",
       "            -2.2156e-01, -2.4273e-01]],\n",
       " \n",
       "          [[ 4.5151e+00,  4.1418e+00,  3.5898e+00,  ..., -1.1509e+00,\n",
       "            -1.0203e+00, -8.9534e-01],\n",
       "           [ 4.4187e+00,  4.0841e+00,  3.5393e+00,  ..., -1.1305e+00,\n",
       "            -9.4836e-01, -6.8587e-01],\n",
       "           [ 4.4467e+00,  3.8244e+00,  3.3420e+00,  ..., -1.2566e+00,\n",
       "            -8.5317e-01, -4.2128e-01],\n",
       "           ...,\n",
       "           [ 9.7876e-01,  9.0672e-01,  7.8310e-01,  ..., -6.4907e-01,\n",
       "            -7.3214e-01, -6.7236e-01],\n",
       "           [ 6.8876e-01,  7.7537e-01,  7.9476e-01,  ..., -6.6406e-01,\n",
       "            -7.5708e-01, -6.8096e-01],\n",
       "           [ 4.8926e-01,  6.3725e-01,  6.4767e-01,  ..., -6.0107e-01,\n",
       "            -6.0760e-01, -6.2012e-01]]]]),\n",
       " 'class_id': tensor([0, 2, 0, 0, 3, 0, 1, 0, 3, 3, 2, 0, 2, 0, 2, 2, 2, 2, 0, 3, 2, 3, 0, 1,\n",
       "         0, 0, 2, 0, 2, 0, 0, 2]),\n",
       " 'class_label': ['apodemus_sp',\n",
       "  'cricetidae',\n",
       "  'apodemus_sp',\n",
       "  'apodemus_sp',\n",
       "  'soricidae',\n",
       "  'apodemus_sp',\n",
       "  'mustela_erminea',\n",
       "  'apodemus_sp',\n",
       "  'soricidae',\n",
       "  'soricidae',\n",
       "  'cricetidae',\n",
       "  'apodemus_sp',\n",
       "  'cricetidae',\n",
       "  'apodemus_sp',\n",
       "  'cricetidae',\n",
       "  'cricetidae',\n",
       "  'cricetidae',\n",
       "  'cricetidae',\n",
       "  'apodemus_sp',\n",
       "  'soricidae',\n",
       "  'cricetidae',\n",
       "  'soricidae',\n",
       "  'apodemus_sp',\n",
       "  'mustela_erminea',\n",
       "  'apodemus_sp',\n",
       "  'apodemus_sp',\n",
       "  'cricetidae',\n",
       "  'apodemus_sp',\n",
       "  'cricetidae',\n",
       "  'apodemus_sp',\n",
       "  'apodemus_sp',\n",
       "  'cricetidae'],\n",
       " 'bbox': [tensor([0.1230, 0.6914, 0.4028, 0.4536, 0.5776, 0.6425, 0.2153, 0.6938, 0.6386,\n",
       "          0.4335, 0.0161, 0.3540, 0.2309, 0.1684, 0.4873, 0.3139, 0.5078, 0.5424,\n",
       "          0.4775, 0.2211, 0.2485, 0.1318, 0.1630, 0.2441, 0.2041, 0.5029, 0.0014,\n",
       "          0.0170, 0.5722, 0.3984, 0.1586, 0.5317], dtype=torch.float64),\n",
       "  tensor([0.5130, 0.5690, 0.5514, 0.4954, 0.5813, 0.4785, 0.3977, 0.5872, 0.5605,\n",
       "          0.5559, 0.7701, 0.4902, 0.5416, 0.5260, 0.4850, 0.5175, 0.4680, 0.4563,\n",
       "          0.5332, 0.6321, 0.4830, 0.5579, 0.5247, 0.3632, 0.5208, 0.5195, 0.5865,\n",
       "          0.5826, 0.4921, 0.5097, 0.5065, 0.4563], dtype=torch.float64),\n",
       "  tensor([0.1430, 0.1171, 0.3120, 0.3618, 0.2348, 0.1440, 0.5771, 0.2265, 0.2656,\n",
       "          0.2890, 0.4531, 0.4316, 0.2788, 0.3173, 0.3359, 0.2617, 0.2954, 0.2250,\n",
       "          0.3774, 0.1362, 0.1430, 0.1030, 0.3149, 0.7504, 0.1235, 0.1518, 0.2460,\n",
       "          0.1855, 0.1176, 0.3100, 0.2465, 0.2343], dtype=torch.float64),\n",
       "  tensor([0.1738, 0.2265, 0.2858, 0.1569, 0.1093, 0.2239, 0.5794, 0.2643, 0.1985,\n",
       "          0.1263, 0.2083, 0.2109, 0.1764, 0.1523, 0.3196, 0.2031, 0.1757, 0.1868,\n",
       "          0.1796, 0.1946, 0.2343, 0.2220, 0.1555, 0.6139, 0.1777, 0.1471, 0.3398,\n",
       "          0.2916, 0.2154, 0.1712, 0.1940, 0.1875], dtype=torch.float64)],\n",
       " 'conf': tensor([0.9310, 0.9080, 0.9730, 0.9300, 0.9320, 0.9310, 0.9750, 0.9530, 0.9620,\n",
       "         0.9350, 0.6300, 0.9750, 0.9420, 0.9360, 0.9710, 0.8920, 0.9500, 0.9520,\n",
       "         0.9740, 0.9530, 0.9660, 0.9380, 0.9670, 0.9510, 0.7080, 0.9540, 0.8070,\n",
       "         0.8790, 0.8850, 0.9610, 0.9430, 0.9640], dtype=torch.float64),\n",
       " 'seq_id': tensor([4006811, 4007807, 4002486, 4002832, 4010700, 4000216, 6000902, 4003092,\n",
       "         4012582, 4012582, 1000866, 4003283, 4000408, 4005010, 4005440, 1000833,\n",
       "         4013652, 4013652, 4007467, 4016350, 4005689, 4016135, 4005010, 6000902,\n",
       "         4006811, 4003092, 1000833, 4003092, 2000187, 4007467, 4006936, 4013652])}"
      ]
     },
     "execution_count": 34,
     "metadata": {},
     "output_type": "execute_result"
    }
   ],
   "source": [
    "batch"
   ]
  },
  {
   "cell_type": "code",
   "execution_count": 23,
   "metadata": {},
   "outputs": [],
   "source": [
    "logits = model(batch['sample'])        # shape [B, num_classes]\n",
    "probs  = F.softmax(logits, dim=1)\n",
    "preds = torch.argmax(probs, dim=1)    # shape [B]"
   ]
  },
  {
   "cell_type": "code",
   "execution_count": 24,
   "metadata": {},
   "outputs": [
    {
     "data": {
      "text/plain": [
       "tensor([2, 0, 3, 0, 3, 3, 3, 2, 2, 2, 1, 2, 3, 2, 0, 1, 2, 0, 0, 0, 1, 2, 3, 2,\n",
       "        0, 0, 3, 2, 2, 0, 0, 0])"
      ]
     },
     "execution_count": 24,
     "metadata": {},
     "output_type": "execute_result"
    }
   ],
   "source": [
    "preds"
   ]
  },
  {
   "cell_type": "code",
   "execution_count": 26,
   "metadata": {},
   "outputs": [
    {
     "data": {
      "text/plain": [
       "tensor([0, 2, 0, 0, 3, 0, 1, 0, 3, 3, 2, 0, 2, 0, 2, 2, 2, 2, 0, 3, 2, 3, 0, 1,\n",
       "        0, 0, 2, 0, 2, 0, 0, 2])"
      ]
     },
     "execution_count": 26,
     "metadata": {},
     "output_type": "execute_result"
    }
   ],
   "source": [
    "batch['class_id']"
   ]
  },
  {
   "cell_type": "code",
   "execution_count": 27,
   "metadata": {},
   "outputs": [
    {
     "data": {
      "text/plain": [
       "tensor(0.2812)"
      ]
     },
     "execution_count": 27,
     "metadata": {},
     "output_type": "execute_result"
    }
   ],
   "source": [
    "correct = (preds == batch['class_id']).sum()\n",
    "total = batch['class_id'].numel()\n",
    "correct / total"
   ]
  },
  {
   "cell_type": "code",
   "execution_count": 32,
   "metadata": {},
   "outputs": [],
   "source": [
    "batch_acc = train_acc(logits, batch['class_id'])"
   ]
  },
  {
   "cell_type": "code",
   "execution_count": 33,
   "metadata": {},
   "outputs": [
    {
     "data": {
      "text/plain": [
       "tensor(0.2812)"
      ]
     },
     "execution_count": 33,
     "metadata": {},
     "output_type": "execute_result"
    }
   ],
   "source": [
    "batch_acc"
   ]
  },
  {
   "cell_type": "code",
   "execution_count": 11,
   "metadata": {},
   "outputs": [
    {
     "name": "stdout",
     "output_type": "stream",
     "text": [
      "tensor(1.3109, grad_fn=<NllLossBackward0>)\n",
      "1.3109310865402222\n"
     ]
    },
    {
     "name": "stderr",
     "output_type": "stream",
     "text": [
      "/cfs/earth/scratch/kraftjul/.conda/envs/mega/lib/python3.10/site-packages/pytorch_lightning/core/module.py:441: You are trying to `self.log()` but the `self.trainer` reference is not registered on the model yet. This is most likely because the model hasn't been passed to the `Trainer`\n"
     ]
    }
   ],
   "source": [
    "output = model.training_step(batch, batch_idx=0)\n",
    "print(output)            # should be a tensor == the loss\n",
    "print(output.item())     # the scalar loss valueprobs"
   ]
  },
  {
   "cell_type": "code",
   "execution_count": 9,
   "metadata": {},
   "outputs": [
    {
     "name": "stderr",
     "output_type": "stream",
     "text": [
      "/cfs/earth/scratch/kraftjul/.conda/envs/mega/lib/python3.10/site-packages/lightning_fabric/plugins/environments/slurm.py:204: The `srun` command is available on your system but is not used. HINT: If your intention is to run Lightning on SLURM, prepend your python command with `srun` like so: srun python /cfs/earth/scratch/kraftjul/.conda/envs/mega/lib/pyt ...\n",
      "GPU available: False, used: False\n",
      "TPU available: False, using: 0 TPU cores\n",
      "HPU available: False, using: 0 HPUs\n",
      "Running in `fast_dev_run` mode: will run the requested loop using 1 batch(es). Logging and checkpointing is suppressed.\n",
      "\n",
      "  | Name      | Type             | Params | Mode \n",
      "-------------------------------------------------------\n",
      "0 | backbone  | ResNet           | 23.5 M | train\n",
      "1 | criterion | CrossEntropyLoss | 0      | train\n",
      "-------------------------------------------------------\n",
      "23.5 M    Trainable params\n",
      "0         Non-trainable params\n",
      "23.5 M    Total params\n",
      "94.065    Total estimated model params size (MB)\n",
      "152       Modules in train mode\n",
      "0         Modules in eval mode\n"
     ]
    },
    {
     "name": "stdout",
     "output_type": "stream",
     "text": [
      "{'optimizer': AdamW (\n",
      "Parameter Group 0\n",
      "    amsgrad: False\n",
      "    betas: (0.9, 0.999)\n",
      "    capturable: False\n",
      "    differentiable: False\n",
      "    eps: 1e-08\n",
      "    foreach: None\n",
      "    fused: None\n",
      "    initial_lr: 0.001\n",
      "    lr: 0.001\n",
      "    maximize: False\n",
      "    weight_decay: 1e-05\n",
      "), 'lr_scheduler': {'scheduler': <torch.optim.lr_scheduler.CosineAnnealingLR object at 0x15543264e740>, 'monitor': 'val_loss', 'interval': 'epoch'}}\n",
      "✅ Scheduler hook-up looks good\n"
     ]
    },
    {
     "name": "stderr",
     "output_type": "stream",
     "text": [
      "/cfs/earth/scratch/kraftjul/.conda/envs/mega/lib/python3.10/site-packages/pytorch_lightning/trainer/connectors/data_connector.py:425: The 'train_dataloader' does not have many workers which may be a bottleneck. Consider increasing the value of the `num_workers` argument` to `num_workers=11` in the `DataLoader` to improve performance.\n",
      "/cfs/earth/scratch/kraftjul/.conda/envs/mega/lib/python3.10/site-packages/pytorch_lightning/trainer/connectors/data_connector.py:425: The 'val_dataloader' does not have many workers which may be a bottleneck. Consider increasing the value of the `num_workers` argument` to `num_workers=11` in the `DataLoader` to improve performance.\n"
     ]
    },
    {
     "data": {
      "application/vnd.jupyter.widget-view+json": {
       "model_id": "7dabe463537a41f28c2848cb0e074af4",
       "version_major": 2,
       "version_minor": 0
      },
      "text/plain": [
       "Training: |          | 0/? [00:00<?, ?it/s]"
      ]
     },
     "metadata": {},
     "output_type": "display_data"
    },
    {
     "data": {
      "application/vnd.jupyter.widget-view+json": {
       "model_id": "b8c6a9fd88b948f6b0f000960d445d17",
       "version_major": 2,
       "version_minor": 0
      },
      "text/plain": [
       "Validation: |          | 0/? [00:00<?, ?it/s]"
      ]
     },
     "metadata": {},
     "output_type": "display_data"
    },
    {
     "name": "stderr",
     "output_type": "stream",
     "text": [
      "`Trainer.fit` stopped: `max_steps=1` reached.\n"
     ]
    },
    {
     "name": "stdout",
     "output_type": "stream",
     "text": [
      "✅ fast_dev_run with scheduler completed without error\n"
     ]
    }
   ],
   "source": [
    "# 2) Check configure_optimizers output\n",
    "cfg = model.configure_optimizers()\n",
    "print(cfg)\n",
    "# You should see a dict of the form {'optimizer': <AdamW>, 'lr_scheduler': {…}}\n",
    "\n",
    "assert isinstance(cfg, dict)\n",
    "assert 'optimizer' in cfg\n",
    "assert 'lr_scheduler' in cfg\n",
    "print(\"✅ Scheduler hook-up looks good\")\n",
    "\n",
    "# 3) Run a single training+validation batch through Lightning\n",
    "#    to make sure the scheduler.step() call doesn’t error out.\n",
    "trainer = Trainer(\n",
    "    fast_dev_run=True,\n",
    "    logger=False,\n",
    "    enable_checkpointing=False,\n",
    "    # devices=1, accelerator='gpu'   # add if you have a GPU\n",
    ")\n",
    "trainer.fit(model, datamodule)\n",
    "print(\"✅ fast_dev_run with scheduler completed without error\")"
   ]
  },
  {
   "cell_type": "code",
   "execution_count": 10,
   "metadata": {},
   "outputs": [
    {
     "name": "stdout",
     "output_type": "stream",
     "text": [
      "Sample tensor shape: torch.Size([32, 3, 224, 224])\n",
      "Label tensor shape:  torch.Size([32])\n"
     ]
    },
    {
     "name": "stderr",
     "output_type": "stream",
     "text": [
      "/cfs/earth/scratch/kraftjul/.conda/envs/mega/lib/python3.10/site-packages/lightning_fabric/plugins/environments/slurm.py:204: The `srun` command is available on your system but is not used. HINT: If your intention is to run Lightning on SLURM, prepend your python command with `srun` like so: srun python /cfs/earth/scratch/kraftjul/.conda/envs/mega/lib/pyt ...\n",
      "GPU available: False, used: False\n",
      "TPU available: False, using: 0 TPU cores\n",
      "HPU available: False, using: 0 HPUs\n",
      "Running in `fast_dev_run` mode: will run the requested loop using 1 batch(es). Logging and checkpointing is suppressed.\n",
      "\n",
      "  | Name      | Type             | Params | Mode \n",
      "-------------------------------------------------------\n",
      "0 | backbone  | ResNet           | 23.5 M | train\n",
      "1 | criterion | CrossEntropyLoss | 0      | train\n",
      "-------------------------------------------------------\n",
      "23.5 M    Trainable params\n",
      "0         Non-trainable params\n",
      "23.5 M    Total params\n",
      "94.065    Total estimated model params size (MB)\n",
      "152       Modules in train mode\n",
      "0         Modules in eval mode\n"
     ]
    },
    {
     "name": "stdout",
     "output_type": "stream",
     "text": [
      "Logits shape:        torch.Size([32, 4])\n",
      "configure_optimizers() returned: {'optimizer': AdamW (\n",
      "Parameter Group 0\n",
      "    amsgrad: False\n",
      "    betas: (0.9, 0.999)\n",
      "    capturable: False\n",
      "    differentiable: False\n",
      "    eps: 1e-08\n",
      "    foreach: None\n",
      "    fused: None\n",
      "    initial_lr: 0.001\n",
      "    lr: 0.001\n",
      "    maximize: False\n",
      "    weight_decay: 1e-05\n",
      "), 'lr_scheduler': {'scheduler': <torch.optim.lr_scheduler.CosineAnnealingLR object at 0x1554350abc40>, 'monitor': 'val_loss', 'interval': 'epoch'}}\n"
     ]
    },
    {
     "name": "stderr",
     "output_type": "stream",
     "text": [
      "/cfs/earth/scratch/kraftjul/.conda/envs/mega/lib/python3.10/site-packages/pytorch_lightning/trainer/connectors/data_connector.py:425: The 'train_dataloader' does not have many workers which may be a bottleneck. Consider increasing the value of the `num_workers` argument` to `num_workers=11` in the `DataLoader` to improve performance.\n",
      "/cfs/earth/scratch/kraftjul/.conda/envs/mega/lib/python3.10/site-packages/pytorch_lightning/trainer/connectors/data_connector.py:425: The 'val_dataloader' does not have many workers which may be a bottleneck. Consider increasing the value of the `num_workers` argument` to `num_workers=11` in the `DataLoader` to improve performance.\n"
     ]
    },
    {
     "data": {
      "application/vnd.jupyter.widget-view+json": {
       "model_id": "f7fd2481095643048701c3d30450913c",
       "version_major": 2,
       "version_minor": 0
      },
      "text/plain": [
       "Training: |          | 0/? [00:00<?, ?it/s]"
      ]
     },
     "metadata": {},
     "output_type": "display_data"
    },
    {
     "data": {
      "application/vnd.jupyter.widget-view+json": {
       "model_id": "c584694345fc4dffa3fd488ae92b10ec",
       "version_major": 2,
       "version_minor": 0
      },
      "text/plain": [
       "Validation: |          | 0/? [00:00<?, ?it/s]"
      ]
     },
     "metadata": {},
     "output_type": "display_data"
    },
    {
     "name": "stderr",
     "output_type": "stream",
     "text": [
      "`Trainer.fit` stopped: `max_steps=1` reached.\n"
     ]
    }
   ],
   "source": [
    "# 2) Grab one batch from train\n",
    "batch = next(iter(datamodule.train_dataloader()))\n",
    "x, y = batch['sample'], batch['class_id']\n",
    "\n",
    "print(\"Sample tensor shape:\", x.shape)   # expect (32, 3, 224, 224)\n",
    "print(\"Label tensor shape: \", y.shape)   # expect (32,)\n",
    "\n",
    "# 3) Forward pass\n",
    "logits = model(x)\n",
    "print(\"Logits shape:       \", logits.shape)  # expect (32, num_classes)\n",
    "\n",
    "# 4) Optimizer/scheduler check\n",
    "opt_cfg = model.configure_optimizers()\n",
    "print(\"configure_optimizers() returned:\", opt_cfg)\n",
    "\n",
    "# 5) One‐step Lightning run\n",
    "trainer = Trainer(fast_dev_run=True, logger=False, enable_checkpointing=False)\n",
    "trainer.fit(model, datamodule)"
   ]
  },
  {
   "cell_type": "code",
   "execution_count": 11,
   "metadata": {},
   "outputs": [
    {
     "name": "stdout",
     "output_type": "stream",
     "text": [
      "Predicted classes for this batch:\n",
      "  sample  0: apodemus_sp (true: apodemus_sp)\n",
      "  sample  1: apodemus_sp (true: apodemus_sp)\n",
      "  sample  2: soricidae (true: soricidae)\n",
      "  sample  3: cricetidae (true: cricetidae)\n",
      "  sample  4: cricetidae (true: cricetidae)\n",
      "  sample  5: mustela_erminea (true: mustela_erminea)\n",
      "  sample  6: apodemus_sp (true: apodemus_sp)\n",
      "  sample  7: apodemus_sp (true: apodemus_sp)\n",
      "  sample  8: apodemus_sp (true: apodemus_sp)\n",
      "  sample  9: apodemus_sp (true: apodemus_sp)\n",
      "  sample 10: soricidae (true: soricidae)\n",
      "  sample 11: cricetidae (true: cricetidae)\n",
      "  sample 12: apodemus_sp (true: mustela_erminea)\n",
      "  sample 13: cricetidae (true: cricetidae)\n",
      "  sample 14: cricetidae (true: cricetidae)\n",
      "  sample 15: apodemus_sp (true: apodemus_sp)\n",
      "  sample 16: cricetidae (true: cricetidae)\n",
      "  sample 17: soricidae (true: soricidae)\n",
      "  sample 18: mustela_erminea (true: mustela_erminea)\n",
      "  sample 19: apodemus_sp (true: apodemus_sp)\n",
      "  sample 20: cricetidae (true: cricetidae)\n",
      "  sample 21: apodemus_sp (true: apodemus_sp)\n",
      "  sample 22: cricetidae (true: cricetidae)\n",
      "  sample 23: apodemus_sp (true: cricetidae)\n",
      "  sample 24: cricetidae (true: cricetidae)\n",
      "  sample 25: apodemus_sp (true: apodemus_sp)\n",
      "  sample 26: apodemus_sp (true: soricidae)\n",
      "  sample 27: apodemus_sp (true: apodemus_sp)\n",
      "  sample 28: cricetidae (true: cricetidae)\n",
      "  sample 29: cricetidae (true: cricetidae)\n",
      "  sample 30: apodemus_sp (true: apodemus_sp)\n",
      "  sample 31: cricetidae (true: cricetidae)\n"
     ]
    }
   ],
   "source": [
    "batch = next(iter(datamodule.train_dataloader()))\n",
    "x, y_true = batch['sample'], batch['class_id']\n",
    "\n",
    "logits = model(x)                        # (B, num_classes)\n",
    "probs  = torch.softmax(logits, dim=1)    # (B, num_classes)\n",
    "preds  = torch.argmax(probs, dim=1)      # (B,)\n",
    "\n",
    "# map indices → names\n",
    "decoder = datamodule.get_label_decoder()\n",
    "pred_names = [decoder[int(i)] for i in preds]\n",
    "\n",
    "print(\"Predicted classes for this batch:\")\n",
    "for i, name in enumerate(pred_names):\n",
    "    print(f\"  sample {i:>2d}: {name} (true: {decoder[int(y_true[i])]})\")"
   ]
  }
 ],
 "metadata": {
  "kernelspec": {
   "display_name": "Python 3",
   "language": "python",
   "name": "python3"
  },
  "language_info": {
   "codemirror_mode": {
    "name": "ipython",
    "version": 3
   },
   "file_extension": ".py",
   "mimetype": "text/x-python",
   "name": "python",
   "nbconvert_exporter": "python",
   "pygments_lexer": "ipython3",
   "version": "3.10.16"
  }
 },
 "nbformat": 4,
 "nbformat_minor": 2
}
