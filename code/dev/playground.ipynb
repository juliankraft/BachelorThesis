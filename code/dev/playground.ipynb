{
 "cells": [
  {
   "cell_type": "code",
   "execution_count": null,
   "metadata": {},
   "outputs": [],
   "source": [
    "import os\n",
    "import shutil\n",
    "import warnings\n",
    "import csv\n",
    "import yaml\n",
    "import json\n",
    "import torch\n",
    "\n",
    "from PIL import Image\n",
    "import pandas as pd\n",
    "from typing import Any, Sequence\n",
    "\n",
    "from os import PathLike\n",
    "from torch.utils.data import Dataset\n",
    "\n",
    "from megadetector.detection.run_detector import load_detector, model_string_to_model_version\n",
    "from megadetector.detection.run_detector_batch import process_images, write_results_to_file\n",
    "\n",
    "\n",
    "from sklearn.model_selection import train_test_split"
   ]
  },
  {
   "cell_type": "code",
   "execution_count": 1,
   "metadata": {},
   "outputs": [],
   "source": [
    "import random\n",
    "import torch\n",
    "\n",
    "import numpy as np\n",
    "from pathlib import Path\n",
    "from PIL import Image\n",
    "\n",
    "from torchvision.transforms import v2\n",
    "from torch.utils.data import DataLoader\n",
    "\n",
    "from ba_dev.dataset import MammaliaDataSequence, MammaliaDataImage\n",
    "from ba_dev.transform import ImagePipeline, BatchImagePipeline\n",
    "from ba_dev.utils import load_config_yaml\n",
    "\n",
    "paths = load_config_yaml('../path_config.yml')\n"
   ]
  },
  {
   "cell_type": "markdown",
   "metadata": {},
   "source": [
    "### Running Tests"
   ]
  },
  {
   "cell_type": "code",
   "execution_count": 2,
   "metadata": {},
   "outputs": [
    {
     "name": "stderr",
     "output_type": "stream",
     "text": [
      "/cfs/earth/scratch/kraftjul/BA_package/ba_dev/dataset.py:219: UserWarning: With the detection confidence of 0.25,\n",
      "8 sequences had no detections and will be excluded.\n",
      "Excluded sequences: [6000161, 6000163, 6000293, 6000530, 6000691, 6000372, 6000953, 6000186]\n",
      "  warnings.warn(\n"
     ]
    }
   ],
   "source": [
    "path_to_dataset = paths['dataset']\n",
    "path_labelfiles = paths['test_labels']\n",
    "path_to_detector_output = paths['md_output']\n",
    "detector_model='mdv5a'\n",
    "mode='train'\n",
    "\n",
    "transform = ImagePipeline(\n",
    "                path_to_dataset=path_to_dataset,\n",
    "                pre_ops = [\n",
    "                    ('to_rgb', {}),\n",
    "                    ('crop_by_bb', {})\n",
    "                ],\n",
    "                transform = None\n",
    "                )\n",
    "                \n",
    "dataset = MammaliaDataImage(\n",
    "    path_labelfiles=path_labelfiles,\n",
    "    path_to_dataset=path_to_dataset,\n",
    "    path_to_detector_output=path_to_detector_output,\n",
    "    detector_model=detector_model,\n",
    "    mode=mode,\n",
    "    transform=transform\n",
    ")"
   ]
  },
  {
   "cell_type": "code",
   "execution_count": 3,
   "metadata": {},
   "outputs": [
    {
     "data": {
      "text/html": [
       "<div>\n",
       "<style scoped>\n",
       "    .dataframe tbody tr th:only-of-type {\n",
       "        vertical-align: middle;\n",
       "    }\n",
       "\n",
       "    .dataframe tbody tr th {\n",
       "        vertical-align: top;\n",
       "    }\n",
       "\n",
       "    .dataframe thead th {\n",
       "        text-align: right;\n",
       "    }\n",
       "</style>\n",
       "<table border=\"1\" class=\"dataframe\">\n",
       "  <thead>\n",
       "    <tr style=\"text-align: right;\">\n",
       "      <th></th>\n",
       "      <th>seq_id</th>\n",
       "      <th>class_id</th>\n",
       "      <th>label2</th>\n",
       "      <th>SerialNumber</th>\n",
       "      <th>file_path</th>\n",
       "      <th>bbox</th>\n",
       "      <th>conf</th>\n",
       "    </tr>\n",
       "  </thead>\n",
       "  <tbody>\n",
       "    <tr>\n",
       "      <th>0</th>\n",
       "      <td>4007156</td>\n",
       "      <td>0</td>\n",
       "      <td>apodemus_sp</td>\n",
       "      <td>H550HG09194945</td>\n",
       "      <td>sessions/session_04/W2-WK02/IMG_6165.JPG</td>\n",
       "      <td>[0.0, 0.4687, 0.4111, 0.3671]</td>\n",
       "      <td>0.983</td>\n",
       "    </tr>\n",
       "    <tr>\n",
       "      <th>1</th>\n",
       "      <td>4007156</td>\n",
       "      <td>0</td>\n",
       "      <td>apodemus_sp</td>\n",
       "      <td>H550HG09194945</td>\n",
       "      <td>sessions/session_04/W2-WK02/IMG_6164.JPG</td>\n",
       "      <td>[0.0004, 0.3203, 0.4101, 0.5136]</td>\n",
       "      <td>0.974</td>\n",
       "    </tr>\n",
       "    <tr>\n",
       "      <th>2</th>\n",
       "      <td>4007156</td>\n",
       "      <td>0</td>\n",
       "      <td>apodemus_sp</td>\n",
       "      <td>H550HG09194945</td>\n",
       "      <td>sessions/session_04/W2-WK02/IMG_6162.JPG</td>\n",
       "      <td>[0.0639, 0.5429, 0.1953, 0.3268]</td>\n",
       "      <td>0.972</td>\n",
       "    </tr>\n",
       "    <tr>\n",
       "      <th>3</th>\n",
       "      <td>4007156</td>\n",
       "      <td>0</td>\n",
       "      <td>apodemus_sp</td>\n",
       "      <td>H550HG09194945</td>\n",
       "      <td>sessions/session_04/W2-WK02/IMG_6168.JPG</td>\n",
       "      <td>[0.0, 0.5279, 0.4008, 0.3001]</td>\n",
       "      <td>0.972</td>\n",
       "    </tr>\n",
       "    <tr>\n",
       "      <th>4</th>\n",
       "      <td>4007156</td>\n",
       "      <td>0</td>\n",
       "      <td>apodemus_sp</td>\n",
       "      <td>H550HG09194945</td>\n",
       "      <td>sessions/session_04/W2-WK02/IMG_6178.JPG</td>\n",
       "      <td>[0.1171, 0.4915, 0.5185, 0.2434]</td>\n",
       "      <td>0.970</td>\n",
       "    </tr>\n",
       "    <tr>\n",
       "      <th>...</th>\n",
       "      <td>...</td>\n",
       "      <td>...</td>\n",
       "      <td>...</td>\n",
       "      <td>...</td>\n",
       "      <td>...</td>\n",
       "      <td>...</td>\n",
       "      <td>...</td>\n",
       "    </tr>\n",
       "    <tr>\n",
       "      <th>930</th>\n",
       "      <td>4010196</td>\n",
       "      <td>3</td>\n",
       "      <td>soricidae</td>\n",
       "      <td>H550HF07158878</td>\n",
       "      <td>sessions/session_04/W4-M8/IMG_0290.JPG</td>\n",
       "      <td>[0.6191, 0.5618, 0.1914, 0.1171]</td>\n",
       "      <td>0.962</td>\n",
       "    </tr>\n",
       "    <tr>\n",
       "      <th>931</th>\n",
       "      <td>4010196</td>\n",
       "      <td>3</td>\n",
       "      <td>soricidae</td>\n",
       "      <td>H550HF07158878</td>\n",
       "      <td>sessions/session_04/W4-M8/IMG_0287.JPG</td>\n",
       "      <td>[0.5415, 0.5852, 0.2587, 0.1002]</td>\n",
       "      <td>0.951</td>\n",
       "    </tr>\n",
       "    <tr>\n",
       "      <th>932</th>\n",
       "      <td>4010196</td>\n",
       "      <td>3</td>\n",
       "      <td>soricidae</td>\n",
       "      <td>H550HF07158878</td>\n",
       "      <td>sessions/session_04/W4-M8/IMG_0286.JPG</td>\n",
       "      <td>[0.5375, 0.5852, 0.2661, 0.1009]</td>\n",
       "      <td>0.945</td>\n",
       "    </tr>\n",
       "    <tr>\n",
       "      <th>933</th>\n",
       "      <td>4010196</td>\n",
       "      <td>3</td>\n",
       "      <td>soricidae</td>\n",
       "      <td>H550HF07158878</td>\n",
       "      <td>sessions/session_04/W4-M8/IMG_0289.JPG</td>\n",
       "      <td>[0.6816, 0.5839, 0.1118, 0.2154]</td>\n",
       "      <td>0.944</td>\n",
       "    </tr>\n",
       "    <tr>\n",
       "      <th>934</th>\n",
       "      <td>4010196</td>\n",
       "      <td>3</td>\n",
       "      <td>soricidae</td>\n",
       "      <td>H550HF07158878</td>\n",
       "      <td>sessions/session_04/W4-M8/IMG_0288.JPG</td>\n",
       "      <td>[0.5708, 0.5839, 0.2265, 0.1015]</td>\n",
       "      <td>0.938</td>\n",
       "    </tr>\n",
       "  </tbody>\n",
       "</table>\n",
       "<p>935 rows × 7 columns</p>\n",
       "</div>"
      ],
      "text/plain": [
       "      seq_id  class_id       label2    SerialNumber  \\\n",
       "0    4007156         0  apodemus_sp  H550HG09194945   \n",
       "1    4007156         0  apodemus_sp  H550HG09194945   \n",
       "2    4007156         0  apodemus_sp  H550HG09194945   \n",
       "3    4007156         0  apodemus_sp  H550HG09194945   \n",
       "4    4007156         0  apodemus_sp  H550HG09194945   \n",
       "..       ...       ...          ...             ...   \n",
       "930  4010196         3    soricidae  H550HF07158878   \n",
       "931  4010196         3    soricidae  H550HF07158878   \n",
       "932  4010196         3    soricidae  H550HF07158878   \n",
       "933  4010196         3    soricidae  H550HF07158878   \n",
       "934  4010196         3    soricidae  H550HF07158878   \n",
       "\n",
       "                                    file_path  \\\n",
       "0    sessions/session_04/W2-WK02/IMG_6165.JPG   \n",
       "1    sessions/session_04/W2-WK02/IMG_6164.JPG   \n",
       "2    sessions/session_04/W2-WK02/IMG_6162.JPG   \n",
       "3    sessions/session_04/W2-WK02/IMG_6168.JPG   \n",
       "4    sessions/session_04/W2-WK02/IMG_6178.JPG   \n",
       "..                                        ...   \n",
       "930    sessions/session_04/W4-M8/IMG_0290.JPG   \n",
       "931    sessions/session_04/W4-M8/IMG_0287.JPG   \n",
       "932    sessions/session_04/W4-M8/IMG_0286.JPG   \n",
       "933    sessions/session_04/W4-M8/IMG_0289.JPG   \n",
       "934    sessions/session_04/W4-M8/IMG_0288.JPG   \n",
       "\n",
       "                                 bbox   conf  \n",
       "0       [0.0, 0.4687, 0.4111, 0.3671]  0.983  \n",
       "1    [0.0004, 0.3203, 0.4101, 0.5136]  0.974  \n",
       "2    [0.0639, 0.5429, 0.1953, 0.3268]  0.972  \n",
       "3       [0.0, 0.5279, 0.4008, 0.3001]  0.972  \n",
       "4    [0.1171, 0.4915, 0.5185, 0.2434]  0.970  \n",
       "..                                ...    ...  \n",
       "930  [0.6191, 0.5618, 0.1914, 0.1171]  0.962  \n",
       "931  [0.5415, 0.5852, 0.2587, 0.1002]  0.951  \n",
       "932  [0.5375, 0.5852, 0.2661, 0.1009]  0.945  \n",
       "933  [0.6816, 0.5839, 0.1118, 0.2154]  0.944  \n",
       "934  [0.5708, 0.5839, 0.2265, 0.1015]  0.938  \n",
       "\n",
       "[935 rows x 7 columns]"
      ]
     },
     "execution_count": 3,
     "metadata": {},
     "output_type": "execute_result"
    }
   ],
   "source": [
    "dataset.ds"
   ]
  },
  {
   "cell_type": "code",
   "execution_count": 3,
   "metadata": {},
   "outputs": [
    {
     "data": {
      "text/plain": [
       "{'x': <PIL.Image.Image image mode=RGB size=400x502>,\n",
       " 'y': 0,\n",
       " 'class_name': 'apodemus_sp',\n",
       " 'bbox': [0.0639, 0.5429, 0.1953, 0.3268],\n",
       " 'conf': 0.972,\n",
       " 'seq_id': 4007156,\n",
       " 'file_path': PosixPath('sessions/session_04/W2-WK02/IMG_6162.JPG')}"
      ]
     },
     "execution_count": 3,
     "metadata": {},
     "output_type": "execute_result"
    }
   ],
   "source": [
    "dataset[2]"
   ]
  },
  {
   "cell_type": "code",
   "execution_count": 5,
   "metadata": {},
   "outputs": [
    {
     "name": "stdout",
     "output_type": "stream",
     "text": [
      "torch.Size([3, 224, 224])\n"
     ]
    }
   ],
   "source": [
    "row = dataset[77]\n",
    "\n",
    "image = pipline(row['file_path'], row['bbox'])\n",
    "\n",
    "print(image.shape)"
   ]
  },
  {
   "cell_type": "code",
   "execution_count": 5,
   "metadata": {},
   "outputs": [],
   "source": [
    "batch_pipline = BatchImagePipeline(\n",
    "                path_to_dataset=path_to_dataset,\n",
    "                num_workers=4,\n",
    "                pre_ops = [\n",
    "                    ('to_rgb', {}),\n",
    "                    ('crop_by_bb', {}),\n",
    "                ],\n",
    "                transform = None\n",
    "                )"
   ]
  },
  {
   "cell_type": "code",
   "execution_count": 7,
   "metadata": {},
   "outputs": [
    {
     "ename": "IndexError",
     "evalue": "list index out of range",
     "output_type": "error",
     "traceback": [
      "\u001b[0;31m---------------------------------------------------------------------------\u001b[0m",
      "\u001b[0;31mIndexError\u001b[0m                                Traceback (most recent call last)",
      "Cell \u001b[0;32mIn[7], line 7\u001b[0m\n\u001b[1;32m      4\u001b[0m samples \u001b[38;5;241m=\u001b[39m [random\u001b[38;5;241m.\u001b[39mrandint(\u001b[38;5;241m0\u001b[39m, \u001b[38;5;28mlen\u001b[39m(dataset)) \u001b[38;5;28;01mfor\u001b[39;00m _ \u001b[38;5;129;01min\u001b[39;00m \u001b[38;5;28mrange\u001b[39m(\u001b[38;5;241m100\u001b[39m)]\n\u001b[1;32m      6\u001b[0m \u001b[38;5;28;01mfor\u001b[39;00m i \u001b[38;5;129;01min\u001b[39;00m samples:\n\u001b[0;32m----> 7\u001b[0m     row \u001b[38;5;241m=\u001b[39m \u001b[43mdataset\u001b[49m\u001b[43m[\u001b[49m\u001b[43mi\u001b[49m\u001b[43m]\u001b[49m\n\u001b[1;32m      9\u001b[0m     list_of_paths\u001b[38;5;241m.\u001b[39mappend(row[\u001b[38;5;124m'\u001b[39m\u001b[38;5;124mfile_path\u001b[39m\u001b[38;5;124m'\u001b[39m])\n\u001b[1;32m     10\u001b[0m     list_of_bboxes\u001b[38;5;241m.\u001b[39mappend(row[\u001b[38;5;124m'\u001b[39m\u001b[38;5;124mbbox\u001b[39m\u001b[38;5;124m'\u001b[39m])\n",
      "File \u001b[0;32m/cfs/earth/scratch/kraftjul/BA_package/ba_dev/dataset.py:670\u001b[0m, in \u001b[0;36mMammaliaDataImage.__getitem__\u001b[0;34m(self, index)\u001b[0m\n\u001b[1;32m    669\u001b[0m \u001b[38;5;28;01mdef\u001b[39;00m\u001b[38;5;250m \u001b[39m\u001b[38;5;21m__getitem__\u001b[39m(\u001b[38;5;28mself\u001b[39m, index: \u001b[38;5;28mint\u001b[39m) \u001b[38;5;241m-\u001b[39m\u001b[38;5;241m>\u001b[39m Any:\n\u001b[0;32m--> 670\u001b[0m     row_index \u001b[38;5;241m=\u001b[39m \u001b[38;5;28;43mself\u001b[39;49m\u001b[38;5;241;43m.\u001b[39;49m\u001b[43mrow_map\u001b[49m\u001b[43m[\u001b[49m\u001b[43mindex\u001b[49m\u001b[43m]\u001b[49m\n\u001b[1;32m    671\u001b[0m     row \u001b[38;5;241m=\u001b[39m \u001b[38;5;28mself\u001b[39m\u001b[38;5;241m.\u001b[39mds\u001b[38;5;241m.\u001b[39miloc[row_index]\n\u001b[1;32m    672\u001b[0m     \u001b[38;5;28;01mreturn\u001b[39;00m row\n",
      "\u001b[0;31mIndexError\u001b[0m: list index out of range"
     ]
    }
   ],
   "source": [
    "list_of_paths = []\n",
    "list_of_bboxes = []\n",
    "\n",
    "samples = [random.randint(0, len(dataset)) for _ in range(100)]\n",
    "\n",
    "for i in samples:\n",
    "    row = dataset[i]\n",
    "\n",
    "    list_of_paths.append(row['file_path'])\n",
    "    list_of_bboxes.append(row['bbox'])\n",
    "\n",
    "images = batch_pipline(list_of_paths, list_of_bboxes)\n",
    "\n",
    "for image in images:\n",
    "    print(image.shape)"
   ]
  },
  {
   "cell_type": "markdown",
   "metadata": {},
   "source": [
    "### Tests Feature Stats"
   ]
  },
  {
   "cell_type": "code",
   "execution_count": 4,
   "metadata": {},
   "outputs": [
    {
     "name": "stderr",
     "output_type": "stream",
     "text": [
      "/cfs/earth/scratch/kraftjul/BA_package/ba_dev/dataset.py:219: UserWarning: With the detection confidence of 0.25,\n",
      "8 sequences had no detections and will be excluded.\n",
      "Excluded sequences: [6000161, 6000163, 6000293, 6000530, 6000691, 6000372, 6000953, 6000186]\n",
      "  warnings.warn(\n"
     ]
    },
    {
     "name": "stdout",
     "output_type": "stream",
     "text": [
      "Calculating mean...\n",
      "Calculating std...\n",
      "Mean: tensor([0.3245, 0.3008, 0.2264])\n",
      "Std: tensor([0.2232, 0.2075, 0.1725])\n"
     ]
    }
   ],
   "source": [
    "path_to_dataset = paths['dataset']\n",
    "path_labelfiles = paths['test_labels']\n",
    "path_to_detector_output = paths['md_output']\n",
    "detector_model=None\n",
    "mode='init'\n",
    "\n",
    "transform = ImagePipeline(\n",
    "                pre_ops=[\n",
    "                    ('to_rgb', {}),\n",
    "                    ('crop_by_bb', {})\n",
    "                ],\n",
    "                transform=v2.Compose([\n",
    "                                v2.ToImage(),\n",
    "                                v2.ToDtype(torch.float32, scale=True),\n",
    "                                ])\n",
    "                )\n",
    "\n",
    "dataset = MammaliaDataImage(\n",
    "    path_labelfiles=path_labelfiles,\n",
    "    path_to_dataset=path_to_dataset,\n",
    "    path_to_detector_output=path_to_detector_output,\n",
    "    detector_model=detector_model,\n",
    "    mode=mode,\n",
    "    transform=transform\n",
    ")\n",
    "\n",
    "def collate_fn(batch):\n",
    "    return batch\n",
    "\n",
    "loader = DataLoader(\n",
    "    dataset,\n",
    "    batch_size=10,\n",
    "    num_workers=1,\n",
    "    shuffle=False,\n",
    "    collate_fn=collate_fn\n",
    "    )\n",
    "\n",
    "channel_sum = torch.zeros(3)\n",
    "pixel_count = 0\n",
    "\n",
    "batches_flat = []\n",
    "\n",
    "print('Calculating mean...')\n",
    "for batch in loader:\n",
    "    for item in batch:\n",
    "        img = item['x']\n",
    "        pixel_count += img.shape[1] * img.shape[2]\n",
    "        for c in range(img.shape[0]):\n",
    "            channel_sum[c] += img[c].sum()\n",
    "\n",
    "        batches_flat.append(img.flatten(start_dim=1))\n",
    "\n",
    "mean = channel_sum / pixel_count\n",
    "\n",
    "print('Calculating std...')\n",
    "channel_diff_squared_sum = torch.zeros(3)\n",
    "for batch in loader:\n",
    "    for item in batch:\n",
    "        img = item['x']\n",
    "        img_centered_squared = (img - mean[:, None, None]) ** 2\n",
    "        for c in range(img_centered_squared.shape[0]):\n",
    "            channel_diff_squared_sum[c] += img_centered_squared[c].sum()\n",
    "\n",
    "std = torch.sqrt(channel_diff_squared_sum / pixel_count)\n",
    "\n",
    "print(\"Mean:\", mean)\n",
    "print(\"Std:\", std)"
   ]
  },
  {
   "cell_type": "code",
   "execution_count": 20,
   "metadata": {},
   "outputs": [
    {
     "data": {
      "text/plain": [
       "tensor([0.3198, 0.2960, 0.2227])"
      ]
     },
     "execution_count": 20,
     "metadata": {},
     "output_type": "execute_result"
    }
   ],
   "source": [
    "torch.cat(batches_flat, -1).mean(-1)"
   ]
  },
  {
   "cell_type": "code",
   "execution_count": 21,
   "metadata": {},
   "outputs": [
    {
     "data": {
      "text/plain": [
       "tensor([0.2246, 0.2083, 0.1730])"
      ]
     },
     "execution_count": 21,
     "metadata": {},
     "output_type": "execute_result"
    }
   ],
   "source": [
    "torch.cat(batches_flat, -1).std(-1)"
   ]
  }
 ],
 "metadata": {
  "kernelspec": {
   "display_name": "Python 3",
   "language": "python",
   "name": "python3"
  },
  "language_info": {
   "codemirror_mode": {
    "name": "ipython",
    "version": 3
   },
   "file_extension": ".py",
   "mimetype": "text/x-python",
   "name": "python",
   "nbconvert_exporter": "python",
   "pygments_lexer": "ipython3",
   "version": "3.10.16"
  }
 },
 "nbformat": 4,
 "nbformat_minor": 2
}
