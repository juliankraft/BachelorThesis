{
 "cells": [
  {
   "cell_type": "code",
   "execution_count": 1,
   "metadata": {},
   "outputs": [],
   "source": [
    "import pandas as pd\n",
    "import numpy as np\n",
    "import re\n",
    "\n",
    "from pathlib import Path\n",
    "from sklearn.model_selection import train_test_split"
   ]
  },
  {
   "cell_type": "code",
   "execution_count": 2,
   "metadata": {},
   "outputs": [],
   "source": [
    "# handling paths\n",
    "# all paths are relative to the root of the dataset path\n",
    "dataset_path = Path('/cfs/earth/scratch/kraftjul/BA/dataset')\n",
    "\n",
    "relative_label_path = Path('archive/labels_backup/all_sessions')\n",
    "relative_labels_save_path = Path('info/labels')\n",
    "\n",
    "label_path = dataset_path / relative_label_path\n",
    "labels_save_path = dataset_path / relative_labels_save_path"
   ]
  },
  {
   "cell_type": "code",
   "execution_count": 3,
   "metadata": {},
   "outputs": [],
   "source": [
    "# function to inquire the session number from a path\n",
    "def extract_session(path: Path):\n",
    "    path = str(path)\n",
    "    match = re.search(r'_(\\d{2})_', path)\n",
    "    if match:\n",
    "        return int(match.group(1))\n",
    "    else:\n",
    "        raise ValueError(f'Could not extract session number from {path}')"
   ]
  },
  {
   "cell_type": "code",
   "execution_count": 4,
   "metadata": {},
   "outputs": [],
   "source": [
    "# transform all labels to standardized format and save them in the same folder\n",
    "file_paths = [f for f in label_path.iterdir() if f.is_file()]\n",
    "\n",
    "data_keys = [\"session\", \"SerialNumber\", \"seq_nr\", \"seq_id\", \"Directory\", \"DateTime_start\", \"DateTime_end\",\n",
    "                \"duration_seconds\", \"first_file\", \"last_file\", \"n_files\", \"all_files\",\n",
    "                \"label\", \"duplicate_label\", \"label2\"]\n",
    "\n",
    "for path in file_paths:\n",
    "    session = extract_session(path)\n",
    "    data = pd.read_csv(path)\n",
    "    \n",
    "    if 'duplicate_label' not in data.columns:\n",
    "        data['duplicate_label'] = np.nan\n",
    "    \n",
    "    if session == 7:\n",
    "        data = data.drop(columns=['Sequence_number'])\n",
    "        data['label2'] = np.where(data['label'] == 'myodes_glareolus', 'cricetidae', data['label'])\n",
    "        data['DateTime_start']  = np.nan\n",
    "        data['DateTime_end']  = np.nan\n",
    "    \n",
    "    data['Directory'] = data['Directory'].apply(lambda x: f\"sessions/session_0{session}/{x}\" if pd.notna(x) else x)\n",
    "    data['session'] = session\n",
    "    \n",
    "    data['seq_id'] = (data['session'] * 1_000_000 + data.index).astype(int)\n",
    "    data = data[[col for col in data_keys if col in data.columns]]\n",
    "\n",
    "    data.to_csv(labels_save_path / f'session_0{session}_labels.csv', index=False) # uncomment to save the files\n",
    "    "
   ]
  },
  {
   "cell_type": "code",
   "execution_count": 5,
   "metadata": {},
   "outputs": [
    {
     "name": "stdout",
     "output_type": "stream",
     "text": [
      "|   session | SerialNumber   | seq_nr   | seq_id   | Directory   | DateTime_start   | DateTime_end   | duration_seconds   | first_file   | last_file   | n_files   | all_files   | label   | duplicate_label   | label2   |\n",
      "|----------:|:---------------|:---------|:---------|:------------|:-----------------|:---------------|:-------------------|:-------------|:------------|:----------|:------------|:--------|:------------------|:---------|\n",
      "|         1 | yes            | yes      | yes      | yes         | yes              | yes            | yes                | yes          | yes         | yes       | yes         | yes     | yes               | yes      |\n",
      "|         2 | yes            | yes      | yes      | yes         | yes              | yes            | yes                | yes          | yes         | yes       | yes         | yes     | no                | yes      |\n",
      "|         3 | yes            | yes      | yes      | yes         | yes              | yes            | yes                | yes          | yes         | yes       | yes         | yes     | no                | yes      |\n",
      "|         4 | yes            | yes      | yes      | yes         | yes              | yes            | yes                | yes          | yes         | yes       | yes         | yes     | yes               | yes      |\n",
      "|         5 | yes            | yes      | yes      | yes         | yes              | yes            | yes                | yes          | yes         | yes       | yes         | yes     | no                | yes      |\n",
      "|         6 | yes            | yes      | yes      | yes         | yes              | yes            | yes                | yes          | yes         | yes       | yes         | yes     | no                | yes      |\n",
      "|         7 | no             | yes      | yes      | yes         | no               | no             | no                 | yes          | yes         | yes       | yes         | yes     | no                | yes      |\n"
     ]
    }
   ],
   "source": [
    "# creating overview what is available per session\n",
    "\n",
    "available_keys = pd.DataFrame(columns=data_keys)\n",
    "\n",
    "file_paths = [f for f in labels_save_path.iterdir() if f.is_file() and not f.name.startswith(\"all\")]\n",
    "\n",
    "for file in file_paths:\n",
    "    session = extract_session(file)\n",
    "    data = pd.read_csv(file)\n",
    "    keys = data.keys()\n",
    "\n",
    "    keys_dict = {}\n",
    "    for key in keys:\n",
    "        if key == 'session':\n",
    "            keys_dict[key] = session\n",
    "        else:\n",
    "            if data[key].isnull().all():\n",
    "                keys_dict[key] = 'no'\n",
    "            else:\n",
    "                keys_dict[key] = 'yes'\n",
    "\n",
    "    available_keys = pd.concat([available_keys, pd.DataFrame([keys_dict])], ignore_index=True)\n",
    "\n",
    "\n",
    "\n",
    "# Create markdown table\n",
    "markdown_table = available_keys.sort_values(by=\"session\", ascending=True).to_markdown(index=False)\n",
    "print(markdown_table)"
   ]
  },
  {
   "cell_type": "code",
   "execution_count": null,
   "metadata": {},
   "outputs": [],
   "source": [
    "# creating a combined label file for all sessions, spliting it into train and test set per sequence and exploding all_files\n",
    "\n",
    "file_paths = [f for f in labels_save_path.iterdir() if f.is_file()]\n",
    "\n",
    "combined_data = pd.DataFrame()\n",
    "for file in file_paths:\n",
    "    data = pd.read_csv(file)\n",
    "    combined_data = pd.concat([combined_data, data])\n",
    "\n",
    "train, test = train_test_split(combined_data, test_size=0.1, random_state=42)\n",
    "\n",
    "train['split'] = 'train'\n",
    "test['split'] = 'test'\n",
    "\n",
    "df_split = pd.concat([train, test]).sort_values(by='seq_id', ascending=True)\n",
    "\n",
    "df_split['all_files'] = df_split['all_files'].str.split(',')\n",
    "\n",
    "df_explode = df_split.explode(\"all_files\", ignore_index=True)\n",
    "\n",
    "df_explode['file'] = df_explode['all_files']\n",
    "\n",
    "df_explode['duplicate_label'] = df_explode['duplicate_label'].map({1.0: True, 0.0: False})\n",
    "\n",
    "col_selection = ['session', 'seq_id', 'Directory', 'file', 'n_files', 'label', 'duplicate_label', 'label2','split', 'SerialNumber', 'DateTime_start', 'DateTime_end', 'duration_seconds']\n",
    "\n",
    "df_final = df_explode[col_selection]\n",
    "\n",
    "df_final.to_csv(labels_save_path / 'all_sessions_labels.csv', index=False)"
   ]
  },
  {
   "cell_type": "code",
   "execution_count": 9,
   "metadata": {},
   "outputs": [],
   "source": [
    "data = pd.read_csv(labels_save_path / 'all_sessions_labels.csv', dtype={6: str})\n"
   ]
  },
  {
   "cell_type": "code",
   "execution_count": 10,
   "metadata": {},
   "outputs": [],
   "source": [
    "def check_file_exists(row):\n",
    "    path = dataset_path / Path(row['Directory']) / Path(row['file'])\n",
    "    return path.exists()"
   ]
  },
  {
   "cell_type": "code",
   "execution_count": 11,
   "metadata": {},
   "outputs": [],
   "source": [
    "data['file_exists'] = data.apply(check_file_exists, axis=1)"
   ]
  },
  {
   "cell_type": "code",
   "execution_count": 12,
   "metadata": {},
   "outputs": [
    {
     "data": {
      "text/html": [
       "<div>\n",
       "<style scoped>\n",
       "    .dataframe tbody tr th:only-of-type {\n",
       "        vertical-align: middle;\n",
       "    }\n",
       "\n",
       "    .dataframe tbody tr th {\n",
       "        vertical-align: top;\n",
       "    }\n",
       "\n",
       "    .dataframe thead th {\n",
       "        text-align: right;\n",
       "    }\n",
       "</style>\n",
       "<table border=\"1\" class=\"dataframe\">\n",
       "  <thead>\n",
       "    <tr style=\"text-align: right;\">\n",
       "      <th></th>\n",
       "      <th>session</th>\n",
       "      <th>seq_id</th>\n",
       "      <th>Directory</th>\n",
       "      <th>file</th>\n",
       "      <th>n_files</th>\n",
       "      <th>label</th>\n",
       "      <th>duplicate_label</th>\n",
       "      <th>label2</th>\n",
       "      <th>split</th>\n",
       "      <th>SerialNumber</th>\n",
       "      <th>DateTime_start</th>\n",
       "      <th>DateTime_end</th>\n",
       "      <th>duration_seconds</th>\n",
       "      <th>file_exists</th>\n",
       "    </tr>\n",
       "  </thead>\n",
       "  <tbody>\n",
       "  </tbody>\n",
       "</table>\n",
       "</div>"
      ],
      "text/plain": [
       "Empty DataFrame\n",
       "Columns: [session, seq_id, Directory, file, n_files, label, duplicate_label, label2, split, SerialNumber, DateTime_start, DateTime_end, duration_seconds, file_exists]\n",
       "Index: []"
      ]
     },
     "execution_count": 12,
     "metadata": {},
     "output_type": "execute_result"
    }
   ],
   "source": [
    "data[data['file_exists'] == False].drop_duplicates(subset=['seq_id'], keep='first')"
   ]
  },
  {
   "cell_type": "code",
   "execution_count": null,
   "metadata": {},
   "outputs": [],
   "source": [
    "data['duplicate_label'].unique()"
   ]
  }
 ],
 "metadata": {
  "kernelspec": {
   "display_name": "wild",
   "language": "python",
   "name": "python3"
  },
  "language_info": {
   "codemirror_mode": {
    "name": "ipython",
    "version": 3
   },
   "file_extension": ".py",
   "mimetype": "text/x-python",
   "name": "python",
   "nbconvert_exporter": "python",
   "pygments_lexer": "ipython3",
   "version": "3.10.16"
  }
 },
 "nbformat": 4,
 "nbformat_minor": 2
}
