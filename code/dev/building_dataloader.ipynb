{
 "cells": [
  {
   "cell_type": "code",
   "execution_count": 1,
   "metadata": {},
   "outputs": [],
   "source": [
    "%load_ext autoreload\n",
    "%autoreload 2"
   ]
  },
  {
   "cell_type": "code",
   "execution_count": 2,
   "metadata": {},
   "outputs": [],
   "source": [
    "import os\n",
    "import shutil\n",
    "import warnings\n",
    "import csv\n",
    "import yaml\n",
    "import json\n",
    "import torch\n",
    "import pandas as pd\n",
    "import numpy as np\n",
    "from pathlib import Path\n",
    "from typing import Any, TypedDict\n",
    "\n",
    "from megadetector.detection.run_detector import load_detector, model_string_to_model_version\n",
    "from megadetector.detection.run_detector_batch import process_images, write_results_to_file\n",
    "\n",
    "from os import PathLike\n",
    "from torch.utils.data import Dataset\n",
    "from sklearn.model_selection import train_test_split\n",
    "\n",
    "from ba_dev.dataloader import MammaliaData\n",
    "from ba_dev.utils import load_config_yaml\n",
    "\n",
    "paths = load_config_yaml('../path_config.yml')\n"
   ]
  },
  {
   "cell_type": "markdown",
   "metadata": {},
   "source": [
    "### Running Tests"
   ]
  },
  {
   "cell_type": "code",
   "execution_count": 4,
   "metadata": {},
   "outputs": [
    {
     "name": "stdout",
     "output_type": "stream",
     "text": [
      "Bypassing download of already-downloaded file md_v5a.0.0.pt\n",
      "Model v5a.0.0 available at /var/folders/t0/5px6w93n5rvdnqbxvt4n6qf00000gn/T/megadetector_models/md_v5a.0.0.pt\n",
      "Loading PT detector with compatibility mode classic\n"
     ]
    },
    {
     "name": "stderr",
     "output_type": "stream",
     "text": [
      "Fusing layers... \n",
      "Fusing layers... \n",
      "Model summary: 733 layers, 140054656 parameters, 0 gradients, 208.8 GFLOPs\n",
      "Model summary: 733 layers, 140054656 parameters, 0 gradients, 208.8 GFLOPs\n",
      "/Users/jk/MyPythonPackages/BA_package/ba_dev/dataloader.py:219: UserWarning: With the detection confidence of 0.25,\n",
      "8 sequences of the full set had no detections and will be excluded.\n",
      "Excluded sequences: [6000709, 2000045, 6000974, 6000145, 6000019, 6000276, 6000924, 6000318]\n",
      "  warnings.warn(\n"
     ]
    }
   ],
   "source": [
    "path_to_dataset = paths['dataset']\n",
    "path_labelfiles = paths['testset']\n",
    "path_to_detector_output = path_labelfiles / 'md_out'\n",
    "detector_model = 'mdv5a'\n",
    "mode = 'init'\n",
    "\n",
    "dataset = MammaliaData(\n",
    "    path_to_dataset = path_to_dataset,\n",
    "    path_labelfiles = path_labelfiles,\n",
    "    path_to_detector_output = path_to_detector_output,\n",
    "    detector_model = detector_model,\n",
    "    mode = mode,\n",
    "    )"
   ]
  },
  {
   "cell_type": "markdown",
   "metadata": {},
   "source": [
    "### Sampling dataset"
   ]
  },
  {
   "cell_type": "code",
   "execution_count": 3,
   "metadata": {},
   "outputs": [],
   "source": [
    "# Paths\n",
    "path_to_labelfiles = paths['labels']\n",
    "dataset_root = paths['dataset']\n",
    "target_dir = paths['testset']\n",
    "output_metadata_csv = target_dir / \"metadata_sample_set.csv\"\n",
    "\n",
    "\n",
    "files = path_to_labelfiles.glob('*.csv')\n",
    "metadata = pd.DataFrame()\n",
    "categories_to_drop = ['other', 'glis_glis']\n",
    "\n",
    "for file in files:\n",
    "    metadata = pd.concat([metadata, pd.read_csv(file)], ignore_index=True)\n",
    "    metadata = metadata.dropna(subset=['label2'])\n",
    "    metadata = metadata[~metadata['label2'].isin(categories_to_drop)]\n",
    "\n",
    "\n",
    "metadata_filtered = metadata[metadata['n_files']<60]\n",
    "\n",
    "metadata_sampled = metadata_filtered.groupby(\"label2\", group_keys=False).sample(n=40, random_state=42)\n",
    "\n",
    "metadata_sampled.to_csv(output_metadata_csv, index=False)\n"
   ]
  },
  {
   "cell_type": "code",
   "execution_count": 20,
   "metadata": {},
   "outputs": [
    {
     "data": {
      "text/plain": [
       "PosixPath('/Volumes/ExSSD/UserData/BA_Data/dataset/info/labels')"
      ]
     },
     "execution_count": 20,
     "metadata": {},
     "output_type": "execute_result"
    }
   ],
   "source": [
    "paths['labels']"
   ]
  }
 ],
 "metadata": {
  "kernelspec": {
   "display_name": "Python 3",
   "language": "python",
   "name": "python3"
  },
  "language_info": {
   "codemirror_mode": {
    "name": "ipython",
    "version": 3
   },
   "file_extension": ".py",
   "mimetype": "text/x-python",
   "name": "python",
   "nbconvert_exporter": "python",
   "pygments_lexer": "ipython3",
   "version": "3.10.16"
  }
 },
 "nbformat": 4,
 "nbformat_minor": 2
}
