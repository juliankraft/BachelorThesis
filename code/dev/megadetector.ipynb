{
 "cells": [
  {
   "cell_type": "code",
   "execution_count": 1,
   "metadata": {},
   "outputs": [],
   "source": [
    "from megadetector.detection.run_detector_batch import \\\n",
    "    load_and_run_detector_batch, write_results_to_file\n",
    "from megadetector.utils import path_utils\n",
    "import os\n"
   ]
  },
  {
   "cell_type": "code",
   "execution_count": 3,
   "metadata": {},
   "outputs": [
    {
     "name": "stderr",
     "output_type": "stream",
     "text": [
      "Fusing layers... \n",
      "Fusing layers... \n"
     ]
    },
    {
     "name": "stdout",
     "output_type": "stream",
     "text": [
      "Bypassing download of already-downloaded file md_v5a.0.0.pt\n",
      "Model v5a.0.0 available at /tmp/megadetector_models/md_v5a.0.0.pt\n",
      "PyTorch reports 0 available CUDA devices\n",
      "GPU available: False\n",
      "Bypassing imports for model type yolov5\n",
      "Loading PT detector with compatibility mode classic\n"
     ]
    },
    {
     "name": "stderr",
     "output_type": "stream",
     "text": [
      "Model summary: 733 layers, 140054656 parameters, 0 gradients, 208.8 GFLOPs\n",
      "Model summary: 733 layers, 140054656 parameters, 0 gradients, 208.8 GFLOPs\n"
     ]
    },
    {
     "name": "stdout",
     "output_type": "stream",
     "text": [
      "Loaded model in 0.36 seconds\n"
     ]
    },
    {
     "name": "stderr",
     "output_type": "stream",
     "text": [
      "  0%|          | 0/3 [00:00<?, ?it/s]"
     ]
    },
    {
     "name": "stdout",
     "output_type": "stream",
     "text": [
      "Processing image /cfs/earth/scratch/kraftjul/BA/dataset/sessions/session_01/H_1/RCNX0001.JPG\n"
     ]
    },
    {
     "name": "stderr",
     "output_type": "stream",
     "text": [
      " 33%|███▎      | 1/3 [00:03<00:06,  3.24s/it]"
     ]
    },
    {
     "name": "stdout",
     "output_type": "stream",
     "text": [
      "Processing image /cfs/earth/scratch/kraftjul/BA/dataset/sessions/session_01/H_1/RCNX0002.JPG\n"
     ]
    },
    {
     "name": "stderr",
     "output_type": "stream",
     "text": [
      " 67%|██████▋   | 2/3 [00:06<00:03,  3.24s/it]"
     ]
    },
    {
     "name": "stdout",
     "output_type": "stream",
     "text": [
      "Processing image /cfs/earth/scratch/kraftjul/BA/dataset/sessions/session_01/H_1/RCNX0003.JPG\n"
     ]
    },
    {
     "name": "stderr",
     "output_type": "stream",
     "text": [
      "100%|██████████| 3/3 [00:09<00:00,  3.26s/it]"
     ]
    },
    {
     "name": "stdout",
     "output_type": "stream",
     "text": [
      "Warning: no metadata for unknown detector version unknown\n",
      "Output file saved at /cfs/earth/scratch/kraftjul/BA/output/megadetector_output_test.json\n"
     ]
    },
    {
     "name": "stderr",
     "output_type": "stream",
     "text": [
      "\n"
     ]
    },
    {
     "data": {
      "text/plain": [
       "{'images': [{'file': 'RCNX0001.JPG',\n",
       "   'detections': [{'category': '1',\n",
       "     'conf': 0.771,\n",
       "     'bbox': [0.2236, 0.5555, 0.1225, 0.1402]},\n",
       "    {'category': '2', 'conf': 0.184, 'bbox': [0.7783, 0.0215, 0.2216, 0.227]},\n",
       "    {'category': '2', 'conf': 0.055, 'bbox': [0.0004, 0.0201, 0.2758, 0.3895]},\n",
       "    {'category': '2',\n",
       "     'conf': 0.019,\n",
       "     'bbox': [0.7812, 0.0215, 0.2187, 0.8006]}]},\n",
       "  {'file': 'RCNX0002.JPG',\n",
       "   'detections': [{'category': '1',\n",
       "     'conf': 0.487,\n",
       "     'bbox': [0.2197, 0.5701, 0.185, 0.1354]},\n",
       "    {'category': '2', 'conf': 0.087, 'bbox': [0.7802, 0.0215, 0.2197, 0.2187]},\n",
       "    {'category': '2', 'conf': 0.084, 'bbox': [0.0004, 0.0208, 0.27, 0.3923]},\n",
       "    {'category': '2', 'conf': 0.031, 'bbox': [0.0004, 0.0222, 0.267, 0.9569]},\n",
       "    {'category': '2', 'conf': 0.019, 'bbox': [0.7822, 0.0215, 0.2177, 0.7951]},\n",
       "    {'category': '3', 'conf': 0.015, 'bbox': [0.0, 0.0256, 1.0, 0.9673]},\n",
       "    {'category': '1', 'conf': 0.005, 'bbox': [0.0078, 0.0222, 0.9916, 0.3201]},\n",
       "    {'category': '1',\n",
       "     'conf': 0.005,\n",
       "     'bbox': [0.0161, 0.0222, 0.8569, 0.6854]}]},\n",
       "  {'file': 'RCNX0003.JPG',\n",
       "   'detections': [{'category': '2',\n",
       "     'conf': 0.307,\n",
       "     'bbox': [0.0004, 0.0208, 0.2797, 0.3847]},\n",
       "    {'category': '2', 'conf': 0.168, 'bbox': [0.7792, 0.0215, 0.2207, 0.2243]},\n",
       "    {'category': '2', 'conf': 0.086, 'bbox': [0.0004, 0.0194, 0.2817, 0.9597]},\n",
       "    {'category': '2', 'conf': 0.026, 'bbox': [0.0, 0.025, 1.0, 0.9631]},\n",
       "    {'category': '2', 'conf': 0.025, 'bbox': [0.7822, 0.0208, 0.2177, 0.7965]},\n",
       "    {'category': '3', 'conf': 0.014, 'bbox': [0.0004, 0.0243, 0.9995, 0.9631]},\n",
       "    {'category': '2', 'conf': 0.013, 'bbox': [0.0, 0.0222, 0.1279, 0.9527]}]}],\n",
       " 'detection_categories': {'1': 'animal', '2': 'person', '3': 'vehicle'},\n",
       " 'info': {'detection_completion_time': '2025-03-21 09:34:36',\n",
       "  'format_version': '1.4',\n",
       "  'detector': 'unknown',\n",
       "  'detector_metadata': {'megadetector_version': 'unknown',\n",
       "   'typical_detection_threshold': 0.5,\n",
       "   'conservative_detection_threshold': 0.25}}}"
      ]
     },
     "execution_count": 3,
     "metadata": {},
     "output_type": "execute_result"
    }
   ],
   "source": [
    "# Pick a folder to run MD on recursively, and an output file\n",
    "image_folder = os.path.expanduser('/cfs/earth/scratch/kraftjul/BA/dataset/sessions/session_01/H_1')\n",
    "output_file = os.path.expanduser('/cfs/earth/scratch/kraftjul/BA/output/megadetector_output_test.json')\n",
    "\n",
    "# Recursively find images\n",
    "image_file_names = path_utils.find_images(image_folder,recursive=True)\n",
    "\n",
    "# This will automatically download MDv5a; you can also specify a filename.\n",
    "results = load_and_run_detector_batch('MDV5A', image_file_names)\n",
    "\n",
    "# Write results to a format that Timelapse and other downstream tools like.\n",
    "write_results_to_file(results,\n",
    "                      output_file,\n",
    "                      relative_path_base=image_folder)\n"
   ]
  },
  {
   "cell_type": "code",
   "execution_count": 2,
   "metadata": {},
   "outputs": [
    {
     "ename": "NameError",
     "evalue": "name 'results' is not defined",
     "output_type": "error",
     "traceback": [
      "\u001b[0;31m---------------------------------------------------------------------------\u001b[0m",
      "\u001b[0;31mNameError\u001b[0m                                 Traceback (most recent call last)",
      "Cell \u001b[0;32mIn[2], line 1\u001b[0m\n\u001b[0;32m----> 1\u001b[0m \u001b[43mresults\u001b[49m\n",
      "\u001b[0;31mNameError\u001b[0m: name 'results' is not defined"
     ]
    }
   ],
   "source": [
    "results"
   ]
  }
 ],
 "metadata": {
  "kernelspec": {
   "display_name": "mega",
   "language": "python",
   "name": "python3"
  },
  "language_info": {
   "codemirror_mode": {
    "name": "ipython",
    "version": 3
   },
   "file_extension": ".py",
   "mimetype": "text/x-python",
   "name": "python",
   "nbconvert_exporter": "python",
   "pygments_lexer": "ipython3",
   "version": "3.10.16"
  }
 },
 "nbformat": 4,
 "nbformat_minor": 2
}
