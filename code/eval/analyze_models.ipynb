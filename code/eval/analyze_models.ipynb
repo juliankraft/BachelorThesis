{
 "cells": [
  {
   "cell_type": "code",
   "execution_count": 1,
   "id": "08a00e09",
   "metadata": {},
   "outputs": [],
   "source": [
    "import os\n",
    "import yaml\n",
    "import pandas as pd\n",
    "import matplotlib.pyplot as plt\n",
    "\n",
    "from matplotlib.patches import Patch\n",
    "from pathlib import Path\n",
    "from sklearn.metrics import ConfusionMatrixDisplay\n",
    "import sklearn.metrics as metrics\n",
    "\n",
    "from ba_dev.utils import load_path_yaml\n",
    "from ba_dev.eval_helpers import *\n",
    "\n",
    "paths = load_path_yaml('../../data/path_config.yml')\n",
    "\n",
    "set_custom_plot_style()\n",
    "cm = 1 / 2.54\n",
    "\n",
    "export = False"
   ]
  },
  {
   "cell_type": "markdown",
   "id": "75f074a9",
   "metadata": {},
   "source": [
    "### Balanced Accuracy of all Models"
   ]
  },
  {
   "cell_type": "code",
   "execution_count": 2,
   "id": "252a1a52",
   "metadata": {},
   "outputs": [],
   "source": [
    "# # calculating the balanced accuracy score for all runs\n",
    "# bal_acc = evaluate_all_runs(\n",
    "#     path_to_runs=paths['complete_models'],\n",
    "#     metrics='balanced_accuracy_score',\n",
    "#     )\n",
    "\n",
    "# bal_acc.to_csv('bal_acc.csv', index=False)\n",
    "\n",
    "bal_acc = pd.read_csv('bal_acc.csv')"
   ]
  },
  {
   "cell_type": "code",
   "execution_count": null,
   "id": "0d836bf3",
   "metadata": {},
   "outputs": [
    {
     "name": "stdout",
     "output_type": "stream",
     "text": [
      "\\begin{table}[H]\n",
      "\\caption{Balanced accuracy of all models -- shown as mean ± standard deviation.}\n",
      "\\label{tab:bal_acc_by_model}\n",
      "\\begin{tabular}{l c r c c}\n",
      "\\toprule\n",
      "Model & Pretrained & Params (M) & Image BA-Score & Sequence BA-Score \\\\\n",
      "\\midrule\n",
      "efficientnet\\_b0 & Yes & 4 & 0.9921 ± 0.004 & 0.9947 ± 0.002 \\\\\n",
      "densenet169 & Yes & 12 & 0.9904 ± 0.004 & 0.9939 ± 0.002 \\\\\n",
      "resnet50 & Yes & 23 & 0.9899 ± 0.004 & 0.9934 ± 0.002 \\\\\n",
      "vit\\_b\\_16 & Yes & 85 & 0.9885 ± 0.005 & 0.9933 ± 0.002 \\\\\n",
      "\\midrule\n",
      "efficientnet\\_b0 & No & 4 & 0.9856 ± 0.005 & 0.9898 ± 0.003 \\\\\n",
      "densenet169 & No & 12 & 0.9863 ± 0.006 & 0.9899 ± 0.002 \\\\\n",
      "resnet50 & No & 23 & 0.9850 ± 0.004 & 0.9888 ± 0.003 \\\\\n",
      "vit\\_b\\_16 & No & 85 & 0.9767 ± 0.006 & 0.9856 ± 0.004 \\\\\n",
      "\\bottomrule\n",
      "\\end{tabular}\n",
      "\\end{table}\n"
     ]
    }
   ],
   "source": [
    "# Balanced accuracy Table for all models\n",
    "########################################################################################################################\n",
    "table_name = 'bal_acc_by_model'\n",
    "caption = r'Balanced accuracy of all models -- shown as mean ± standard deviation.'\n",
    "########################################################################################################################\n",
    "\n",
    "summary_bal_acc = (\n",
    "    bal_acc\n",
    "    .groupby(['model_name', 'pretrained'])\n",
    "    .agg(\n",
    "        trainable_params=('trainable_params', 'first'),\n",
    "        img_score_mean=('img_score', 'mean'),\n",
    "        img_score_std =('img_score', 'std'),\n",
    "        seq_score_mean=('seq_score', 'mean'),\n",
    "        seq_score_std =('seq_score', 'std'),\n",
    "    )\n",
    "    .reset_index()\n",
    "    .sort_values(\n",
    "        by=['pretrained', 'trainable_params'],\n",
    "        ascending=[False, True]\n",
    "    )\n",
    "    )\n",
    "\n",
    "for scope in ['img', 'seq']:\n",
    "    mean_str = summary_bal_acc[f'{scope}_score_mean'].map(\"{:.4f}\".format)\n",
    "    std_str  = summary_bal_acc[f'{scope}_score_std'].map(\"{:.3f}\".format)\n",
    "    summary_bal_acc[f'bal_acc_{scope}'] = mean_str + ' ± ' + std_str\n",
    "\n",
    "table = (\n",
    "        summary_bal_acc[\n",
    "            ['model_name', 'pretrained', 'trainable_params', 'bal_acc_img', 'bal_acc_seq']\n",
    "        ]\n",
    "        .rename(columns={\n",
    "            'model_name': 'Model',\n",
    "            'pretrained': 'Pretrained',\n",
    "            'trainable_params': 'Params (M)',\n",
    "            'bal_acc_img': r'Image BA-Score',\n",
    "            'bal_acc_seq': r'Sequence BA-Score'\n",
    "        }))\n",
    "\n",
    "table['Params (M)'] = (table['Params (M)'] / 1_000_000).astype(int)\n",
    "table['Pretrained'] = table['Pretrained'].map({True: 'Yes', False: 'No'})\n",
    "table['Model'] = table['Model'].apply(escape_latex)\n",
    "\n",
    "latex = table.to_latex(\n",
    "    index=False,\n",
    "    column_format='l c r c c',\n",
    "    escape=False,\n",
    "    caption=caption,\n",
    "    label=f'tab:{table_name}',\n",
    "    )\n",
    "\n",
    "latex = latex.replace(r'\\begin{table}', r'\\begin{table}[H]', 1)\n",
    "\n",
    "lines = latex.splitlines()\n",
    "\n",
    "for i, line in enumerate(lines):\n",
    "    if '& No &' in line:\n",
    "        split_index = i\n",
    "        break\n",
    "\n",
    "new_lines = lines[:split_index] + ['\\midrule'] + lines[split_index:]\n",
    "\n",
    "latex = \"\\n\".join(new_lines)\n",
    "\n",
    "print(latex)\n",
    "\n",
    "# if export:\n",
    "with open(paths['table'] / f'{table_name}.tex', 'w') as f:\n",
    "    f.write(latex)\n"
   ]
  },
  {
   "cell_type": "code",
   "execution_count": 4,
   "id": "50d58b47",
   "metadata": {},
   "outputs": [
    {
     "data": {
      "image/png": "[encoded data removed]",
      "text/plain": [
       "<Figure size 472.441x275.591 with 1 Axes>"
      ]
     },
     "metadata": {},
     "output_type": "display_data"
    }
   ],
   "source": [
    "# Box Plot for Balanced Accuracy by Model and Pretrained Status\n",
    "########################################################################################################################\n",
    "fig_name = 'bal_acc_img.pdf'\n",
    "fig_size = (12*cm,7*cm)\n",
    "########################################################################################################################\n",
    "\n",
    "models = sorted(bal_acc['model_name'].unique())\n",
    "n = len(models)\n",
    "x = range(n)\n",
    "width = 0.35\n",
    "\n",
    "# collect your two series\n",
    "data_pre = [\n",
    "    bal_acc[(bal_acc['model_name']==m) & (bal_acc['pretrained'])]['img_score'] \n",
    "    for m in models\n",
    "]\n",
    "data_no = [\n",
    "    bal_acc[(bal_acc['model_name']==m) & (~bal_acc['pretrained'])]['img_score'] \n",
    "    for m in models\n",
    "]\n",
    "\n",
    "cmap = plt.get_cmap('Pastel1')\n",
    "color_pre = cmap(2)\n",
    "color_no  = cmap(3)\n",
    "red = cmap(0)\n",
    "\n",
    "plt.figure(figsize=fig_size)\n",
    "\n",
    "medianprops = dict(linewidth=1, color=red)\n",
    "\n",
    "meanprops = dict(\n",
    "                marker='D',\n",
    "                markeredgecolor=red,\n",
    "                markerfacecolor=red,\n",
    "                markersize=6\n",
    "                )\n",
    "\n",
    "flierprops = dict(marker='', linestyle='none')\n",
    "\n",
    "# draw the boxplots\n",
    "bp_pre = plt.boxplot(\n",
    "    data_pre,\n",
    "    positions=[i - width/2 for i in x],\n",
    "    widths=width,\n",
    "    patch_artist=True,\n",
    "    manage_ticks=False,\n",
    "    showmeans=True,\n",
    "    meanprops=meanprops,\n",
    "    medianprops=medianprops,\n",
    "    flierprops=flierprops\n",
    ")\n",
    "bp_no = plt.boxplot(\n",
    "    data_no,\n",
    "    positions=[i + width/2 for i in x],\n",
    "    widths=width,\n",
    "    patch_artist=True,\n",
    "    manage_ticks=False,\n",
    "    showmeans=True,\n",
    "    meanprops=meanprops,\n",
    "    medianprops=medianprops,\n",
    "    flierprops=flierprops\n",
    ")\n",
    "\n",
    "# apply facecolors and a subtle edge\n",
    "for box in bp_pre['boxes']:\n",
    "    box.set_facecolor(color_pre)\n",
    "    box.set_edgecolor('gray')\n",
    "for box in bp_no['boxes']:\n",
    "    box.set_facecolor(color_no)\n",
    "    box.set_edgecolor('gray')\n",
    "\n",
    "# axes labels\n",
    "plt.xticks(x, models, ha='center')\n",
    "plt.xlabel('Model')\n",
    "plt.ylabel('Balanced Accuracy (Image)')\n",
    "\n",
    "# legend with box patches!\n",
    "legend_handles = [\n",
    "    Patch(facecolor=color_pre, edgecolor='gray', label='Pretrained'),\n",
    "    Patch(facecolor=color_no,  edgecolor='gray', label='Not Pretrained')\n",
    "]\n",
    "plt.legend(handles=legend_handles, frameon=False, loc='lower left')\n",
    "\n",
    "for i, m in enumerate(models):\n",
    "    # pretrained points\n",
    "    y_pre = bal_acc[(bal_acc['model_name']==m) & (bal_acc['pretrained'])]['img_score']\n",
    "    x_pre = np.random.normal(i - width/2, width*0.05, size=len(y_pre))\n",
    "    plt.scatter(x_pre, y_pre, color=color_pre, edgecolor='gray', zorder=2)\n",
    "\n",
    "    # non-pretrained points\n",
    "    y_no  = bal_acc[(bal_acc['model_name']==m) & (~bal_acc['pretrained'])]['img_score']\n",
    "    x_no  = np.random.normal(i + width/2, width*0.05, size=len(y_no))\n",
    "    plt.scatter(x_no, y_no, color=color_no,  edgecolor='gray', zorder=2)\n",
    "\n",
    "\n",
    "plt.tight_layout()\n",
    "if export:\n",
    "    plt.savefig(paths['figures'] / fig_name, dpi=300)\n",
    "plt.show()"
   ]
  },
  {
   "cell_type": "markdown",
   "id": "76eefdf4",
   "metadata": {},
   "source": [
    "### Performance of Best Model"
   ]
  },
  {
   "cell_type": "code",
   "execution_count": 5,
   "id": "83b840c6",
   "metadata": {},
   "outputs": [],
   "source": [
    "summary = (\n",
    "    bal_acc\n",
    "    .groupby(['model_name', 'pretrained'])\n",
    "    .agg(\n",
    "        experiment_name=('experiment_name', 'first'),\n",
    "        img_score_mean=('img_score', 'mean'),\n",
    "    )\n",
    "    .reset_index()\n",
    "    )\n",
    "\n",
    "best_row = summary.loc[summary['img_score_mean'].idxmax()]\n",
    "\n",
    "best_experiment_path = paths['complete_models'] / str(best_row['experiment_name'])\n",
    "\n",
    "best_model = LoadRun(\n",
    "    log_path=best_experiment_path\n",
    ")\n",
    "\n",
    "all_testsets = pd.DataFrame()\n",
    "\n",
    "for fold in range(5):\n",
    "    new_data = best_model.get_predictions(\n",
    "        set_selection='test',\n",
    "        fold=fold\n",
    "        )\n",
    "    \n",
    "    new_data['fold'] = fold\n",
    "    \n",
    "    all_testsets = pd.concat([all_testsets, new_data], ignore_index=True)\n",
    "\n",
    "y_true = all_testsets['class_id'].to_list()\n",
    "y_pred = all_testsets['pred_id'].to_list()\n"
   ]
  },
  {
   "cell_type": "code",
   "execution_count": 6,
   "id": "5f5883ba",
   "metadata": {},
   "outputs": [
    {
     "data": {
      "image/png": "[encoded data removed]",
      "text/plain": [
       "<Figure size 472.441x472.441 with 1 Axes>"
      ]
     },
     "metadata": {},
     "output_type": "display_data"
    }
   ],
   "source": [
    "# Confusion Matrix for the best model\n",
    "########################################################################################################################\n",
    "fig_name = 'conf_matrix_best.pdf'\n",
    "fig_size = (12*cm,12*cm)\n",
    "########################################################################################################################\n",
    "\n",
    "labels = list(best_model.info['output']['label_decoder'].values())\n",
    "\n",
    "confusion_matrix = metrics.confusion_matrix(\n",
    "    y_true,\n",
    "    y_pred,\n",
    "    labels=[0, 1, 2, 3],\n",
    "    normalize='true'\n",
    ")\n",
    "\n",
    "disp = ConfusionMatrixDisplay(confusion_matrix=confusion_matrix,\n",
    "                              display_labels=labels)\n",
    "fig, ax = plt.subplots(figsize=fig_size)\n",
    "disp.plot(\n",
    "    ax=ax,\n",
    "    cmap='Blues',\n",
    "    colorbar=False,\n",
    "    values_format='.4f'\n",
    ")\n",
    "\n",
    "n = len(labels)\n",
    "ax.set_xticks(np.arange(n))\n",
    "ax.set_yticks(np.arange(n))\n",
    "ax.xaxis.set_ticks_position('top')\n",
    "ax.xaxis.set_label_position('top')\n",
    "plt.xticks(rotation=0, ha='center')\n",
    "plt.yticks(rotation=90, va='center')\n",
    "\n",
    "plt.tight_layout()\n",
    "if export:\n",
    "        plt.savefig(paths['figures'] / fig_name, dpi=300)\n",
    "plt.show()"
   ]
  },
  {
   "cell_type": "code",
   "execution_count": 7,
   "id": "34795c8f",
   "metadata": {},
   "outputs": [],
   "source": [
    "result = best_model.calculate_metrics(\n",
    "    'precision_recall_fscore_support',\n",
    "    set_selection='test',\n",
    "    labels=[0, 1, 2, 3],\n",
    "    zero_division=0\n",
    ")"
   ]
  },
  {
   "cell_type": "code",
   "execution_count": 8,
   "id": "e367e469",
   "metadata": {},
   "outputs": [
    {
     "name": "stdout",
     "output_type": "stream",
     "text": [
      "apodemus_sp:  Support=260075,  Precision=0.996,  Recall=0.997,  F1=0.996\n",
      "mustela_erminea:  Support=13175,  Precision=0.999,  Recall=0.999,  F1=0.999\n",
      "cricetidae:  Support=144402,  Precision=0.995,  Recall=0.993,  F1=0.994\n",
      "soricidae:  Support=12780,  Precision=0.971,  Recall=0.979,  F1=0.975\n"
     ]
    }
   ],
   "source": [
    "fold_results = result  # replace `result` with your variable name\n",
    "\n",
    "# Determine number of classes from the first fold’s arrays\n",
    "n_classes = fold_results[0][0].shape[0]\n",
    "\n",
    "# Initialize accumulators\n",
    "sum_prec = np.zeros(n_classes, dtype=float)\n",
    "sum_rec  = np.zeros(n_classes, dtype=float)\n",
    "sum_f1   = np.zeros(n_classes, dtype=float)\n",
    "sum_sup  = np.zeros(n_classes, dtype=float)\n",
    "\n",
    "# Accumulate weighted sums\n",
    "for prec_fold, rec_fold, f1_fold, sup_fold in fold_results:\n",
    "    sum_prec += prec_fold * sup_fold\n",
    "    sum_rec  += rec_fold  * sup_fold\n",
    "    sum_f1   += f1_fold    * sup_fold\n",
    "    sum_sup  += sup_fold\n",
    "\n",
    "# Compute weighted averages per class\n",
    "agg_precision = sum_prec / sum_sup\n",
    "agg_recall    = sum_rec  / sum_sup\n",
    "agg_f1        = sum_f1   / sum_sup\n",
    "agg_support   = sum_sup  # total support per class\n",
    "\n",
    "# Example: print aggregated metrics for each class\n",
    "class_names = list(best_model.info[\"output\"][\"label_decoder\"].values())\n",
    "for i, cls in enumerate(class_names):\n",
    "    print(\n",
    "        f\"{cls}:  \"\n",
    "        f\"Support={int(agg_support[i])},  \"\n",
    "        f\"Precision={agg_precision[i]:.3f},  \"\n",
    "        f\"Recall={agg_recall[i]:.3f},  \"\n",
    "        f\"F1={agg_f1[i]:.3f}\"\n",
    "    )"
   ]
  },
  {
   "cell_type": "code",
   "execution_count": 9,
   "id": "473b7f20",
   "metadata": {},
   "outputs": [],
   "source": [
    "\n",
    "agg_result = metrics.precision_recall_fscore_support(\n",
    "    y_true,\n",
    "    y_pred,\n",
    "    labels=[0, 1, 2, 3],\n",
    "    zero_division=0\n",
    "    )"
   ]
  },
  {
   "cell_type": "code",
   "execution_count": 10,
   "id": "26d13315",
   "metadata": {},
   "outputs": [
    {
     "data": {
      "text/plain": [
       "(array([0.99583103, 0.99916515, 0.99511491, 0.97098076]),\n",
       " array([0.99652408, 0.99924099, 0.99311644, 0.97918623]),\n",
       " array([0.99617743, 0.99920307, 0.99411467, 0.97506623]),\n",
       " array([260075,  13175, 144402,  12780]))"
      ]
     },
     "execution_count": 10,
     "metadata": {},
     "output_type": "execute_result"
    }
   ],
   "source": [
    "agg_result"
   ]
  },
  {
   "cell_type": "code",
   "execution_count": 11,
   "id": "67c4676f",
   "metadata": {},
   "outputs": [],
   "source": [
    "from sklearn.metrics import classification_report"
   ]
  },
  {
   "cell_type": "code",
   "execution_count": 12,
   "id": "a1cc252d",
   "metadata": {},
   "outputs": [],
   "source": [
    "labels = list(best_model.info['output']['label_decoder'].values())"
   ]
  },
  {
   "cell_type": "code",
   "execution_count": 13,
   "id": "f35f7f4a",
   "metadata": {},
   "outputs": [
    {
     "name": "stdout",
     "output_type": "stream",
     "text": [
      "                 precision    recall  f1-score   support\n",
      "\n",
      "    apodemus_sp       1.00      1.00      1.00    260075\n",
      "mustela_erminea       1.00      1.00      1.00     13175\n",
      "     cricetidae       1.00      0.99      0.99    144402\n",
      "      soricidae       0.97      0.98      0.98     12780\n",
      "\n",
      "       accuracy                           0.99    430432\n",
      "      macro avg       0.99      0.99      0.99    430432\n",
      "   weighted avg       0.99      0.99      0.99    430432\n",
      "\n"
     ]
    }
   ],
   "source": [
    "from sklearn.metrics import classification_report\n",
    "\n",
    "print(classification_report(\n",
    "    y_true,\n",
    "    y_pred,\n",
    "    target_names=labels,\n",
    "    zero_division=0\n",
    "))"
   ]
  },
  {
   "cell_type": "code",
   "execution_count": 14,
   "id": "d0f70e6b",
   "metadata": {},
   "outputs": [
    {
     "name": "stdout",
     "output_type": "stream",
     "text": [
      "\\begin{table}\n",
      "\\caption{Per-class precision, recall, F$_1$-score and support}\n",
      "\\label{tab:class_report}\n",
      "\\begin{tabular}{lrrrr}\n",
      "\\toprule\n",
      " & Precision & Recall & F1-Score & Support \\\\\n",
      "Class &  &  &  &  \\\\\n",
      "\\midrule\n",
      "apodemus\\_sp & 0.996 & 0.997 & 0.996 & 260075.000 \\\\\n",
      "mustela\\_erminea & 0.999 & 0.999 & 0.999 & 13175.000 \\\\\n",
      "cricetidae & 0.995 & 0.993 & 0.994 & 144402.000 \\\\\n",
      "soricidae & 0.971 & 0.979 & 0.975 & 12780.000 \\\\\n",
      "accuracy & 0.995 & 0.995 & 0.995 & 0.995 \\\\\n",
      "macro avg & 0.990 & 0.992 & 0.991 & 430432.000 \\\\\n",
      "weighted avg & 0.995 & 0.995 & 0.995 & 430432.000 \\\\\n",
      "\\bottomrule\n",
      "\\end{tabular}\n",
      "\\end{table}\n",
      "\n"
     ]
    }
   ],
   "source": [
    "# 1) Get the report as a dict\n",
    "report_dict = classification_report(\n",
    "    y_true,\n",
    "    y_pred,\n",
    "    target_names=labels,\n",
    "    zero_division=0,\n",
    "    output_dict=True\n",
    ")\n",
    "\n",
    "# 2) Build a DataFrame and clean it up\n",
    "df_report = pd.DataFrame(report_dict).T\n",
    "\n",
    "# Keep only the rows you want (classes, plus “accuracy”, “macro avg”, “weighted avg”)\n",
    "# and the columns you care about\n",
    "keep_rows = labels + [\"accuracy\", \"macro avg\", \"weighted avg\"]\n",
    "df_report = df_report.loc[keep_rows, [\"precision\", \"recall\", \"f1-score\", \"support\"]]\n",
    "\n",
    "# 3) Optionally rename the index and columns for nicer LaTeX\n",
    "df_report.index.name = \"Class\"\n",
    "df_report = df_report.rename(columns={\n",
    "    \"precision\": \"Precision\",\n",
    "    \"recall\":    \"Recall\",\n",
    "    \"f1-score\":  \"F1-Score\",\n",
    "    \"support\":   \"Support\"\n",
    "})\n",
    "\n",
    "df_report.index = df_report.index.to_series().str.replace('_', r'\\_', regex=False)\n",
    "\n",
    "# 4) Convert support to integer\n",
    "# df_report['Support'] = df_report['Support'].astype(int)\n",
    "\n",
    "# 4) Export to LaTeX\n",
    "latex = df_report.to_latex(\n",
    "    index=True,\n",
    "    float_format=\"%.3f\",\n",
    "    column_format=\"lrrrr\",\n",
    "    caption=\"Per-class precision, recall, F$_1$-score and support\",\n",
    "    label=\"tab:class_report\",\n",
    "    escape=False\n",
    ")\n",
    "\n",
    "print(latex)"
   ]
  },
  {
   "cell_type": "code",
   "execution_count": 15,
   "id": "e513e65a",
   "metadata": {},
   "outputs": [
    {
     "name": "stdout",
     "output_type": "stream",
     "text": [
      "                 precision    recall  f1-score   support\n",
      "\n",
      "    apodemus_sp       1.00      1.00      1.00    260075\n",
      "mustela_erminea       1.00      1.00      1.00     13175\n",
      "     cricetidae       1.00      0.99      0.99    144402\n",
      "      soricidae       0.97      0.98      0.98     12780\n",
      "\n",
      "       accuracy                           0.99    430432\n",
      "      macro avg       0.99      0.99      0.99    430432\n",
      "   weighted avg       0.99      0.99      0.99    430432\n",
      "\n"
     ]
    }
   ],
   "source": [
    "print(classification_report(\n",
    "    y_true,\n",
    "    y_pred,\n",
    "    target_names=labels,\n",
    "    zero_division=0\n",
    "))"
   ]
  },
  {
   "cell_type": "code",
   "execution_count": 16,
   "id": "9f74f07d",
   "metadata": {},
   "outputs": [
    {
     "data": {
      "text/plain": [
       "(array([0.99583103, 0.99916515, 0.99511491, 0.97098076]),\n",
       " array([0.99652408, 0.99924099, 0.99311644, 0.97918623]),\n",
       " array([0.99617743, 0.99920307, 0.99411467, 0.97506623]),\n",
       " array([260075,  13175, 144402,  12780]))"
      ]
     },
     "execution_count": 16,
     "metadata": {},
     "output_type": "execute_result"
    }
   ],
   "source": [
    "agg_result"
   ]
  }
 ],
 "metadata": {
  "kernelspec": {
   "display_name": "BA",
   "language": "python",
   "name": "python3"
  },
  "language_info": {
   "codemirror_mode": {
    "name": "ipython",
    "version": 3
   },
   "file_extension": ".py",
   "mimetype": "text/x-python",
   "name": "python",
   "nbconvert_exporter": "python",
   "pygments_lexer": "ipython3",
   "version": "3.11.11"
  }
 },
 "nbformat": 4,
 "nbformat_minor": 5
}
