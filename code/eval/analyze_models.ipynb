{
 "cells": [
  {
   "cell_type": "code",
   "execution_count": 2,
   "id": "08a00e09",
   "metadata": {},
   "outputs": [],
   "source": [
    "import os\n",
    "import yaml\n",
    "import pandas as pd\n",
    "import matplotlib.pyplot as plt\n",
    "\n",
    "from matplotlib.patches import Patch\n",
    "from pathlib import Path\n",
    "# from sklearn.metrics import ConfusionMatrixDisplay\n",
    "\n",
    "from ba_dev.utils import load_path_yaml\n",
    "from ba_dev.eval_helpers import *\n",
    "\n",
    "paths = load_path_yaml('../../data/path_config.yml')\n",
    "\n",
    "set_custom_plot_style()\n",
    "cm = 1 / 2.54\n",
    "\n",
    "export = True"
   ]
  },
  {
   "cell_type": "code",
   "execution_count": 3,
   "id": "252a1a52",
   "metadata": {},
   "outputs": [],
   "source": [
    "# # calculating the balanced accuracy score for all runs\n",
    "# bal_acc = evaluate_all_runs(\n",
    "#     path_to_runs=paths['complete_models'],\n",
    "#     metrics='balanced_accuracy_score',\n",
    "#     )\n",
    "\n",
    "# bal_acc.to_csv('bal_acc.csv', index=False)\n",
    "\n",
    "bal_acc = pd.read_csv('bal_acc.csv')"
   ]
  },
  {
   "cell_type": "code",
   "execution_count": 4,
   "id": "0d836bf3",
   "metadata": {},
   "outputs": [
    {
     "name": "stdout",
     "output_type": "stream",
     "text": [
      "\\begin{table}[H]\n",
      "\\caption{Balanced accuracy of all models -- shown as mean ± standard deviation.}\n",
      "\\label{tab:bal_acc_by_model}\n",
      "\\begin{tabular}{l c r c c}\n",
      "\\toprule\n",
      "Model & Pretrained & Params (M) & Image BA-Score & Sequence BA-Score \\\\\n",
      "\\midrule\n",
      "efficientnet\\_b0 & Yes & 4 & 0.9921 ± 0.004 & 0.9947 ± 0.002 \\\\\n",
      "densenet169 & Yes & 12 & 0.9904 ± 0.004 & 0.9939 ± 0.002 \\\\\n",
      "resnet50 & Yes & 23 & 0.9899 ± 0.004 & 0.9934 ± 0.002 \\\\\n",
      "vit\\_b\\_16 & Yes & 85 & 0.9885 ± 0.005 & 0.9933 ± 0.002 \\\\\n",
      "\\midrule\n",
      "efficientnet\\_b0 & No & 4 & 0.9856 ± 0.005 & 0.9898 ± 0.003 \\\\\n",
      "densenet169 & No & 12 & 0.9863 ± 0.006 & 0.9899 ± 0.002 \\\\\n",
      "resnet50 & No & 23 & 0.9850 ± 0.004 & 0.9888 ± 0.003 \\\\\n",
      "vit\\_b\\_16 & No & 85 & 0.9767 ± 0.006 & 0.9856 ± 0.004 \\\\\n",
      "\\bottomrule\n",
      "\\end{tabular}\n",
      "\\end{table}\n"
     ]
    }
   ],
   "source": [
    "# Balanced accuracy Table for all models\n",
    "########################################################################################################################\n",
    "table_name = 'bal_acc_by_model'\n",
    "caption = r'Balanced accuracy of all models -- shown as mean ± standard deviation.'\n",
    "########################################################################################################################\n",
    "\n",
    "summary_bal_acc = (\n",
    "    bal_acc\n",
    "    .groupby(['model_name', 'pretrained'])\n",
    "    .agg(\n",
    "        trainable_params=('trainable_params', 'first'),\n",
    "        img_score_mean=('img_score', 'mean'),\n",
    "        img_score_std =('img_score', 'std'),\n",
    "        seq_score_mean=('seq_score', 'mean'),\n",
    "        seq_score_std =('seq_score', 'std'),\n",
    "    )\n",
    "    .reset_index()\n",
    "    .sort_values(\n",
    "        by=['pretrained', 'trainable_params'],\n",
    "        ascending=[False, True]\n",
    "    )\n",
    "    )\n",
    "\n",
    "for scope in ['img', 'seq']:\n",
    "    mean_str = summary_bal_acc[f'{scope}_score_mean'].map(\"{:.4f}\".format)\n",
    "    std_str  = summary_bal_acc[f'{scope}_score_std'].map(\"{:.3f}\".format)\n",
    "    summary_bal_acc[f'bal_acc_{scope}'] = mean_str + ' ± ' + std_str\n",
    "\n",
    "table = (\n",
    "        summary_bal_acc[\n",
    "            ['model_name', 'pretrained', 'trainable_params', 'bal_acc_img', 'bal_acc_seq']\n",
    "        ]\n",
    "        .rename(columns={\n",
    "            'model_name': 'Model',\n",
    "            'pretrained': 'Pretrained',\n",
    "            'trainable_params': 'Params (M)',\n",
    "            'bal_acc_img': r'Image BA-Score',\n",
    "            'bal_acc_seq': r'Sequence BA-Score'\n",
    "        }))\n",
    "\n",
    "table['Params (M)'] = (table['Params (M)'] / 1_000_000).astype(int)\n",
    "table['Pretrained'] = table['Pretrained'].map({True: 'Yes', False: 'No'})\n",
    "table['Model'] = table['Model'].str.replace('_', r'\\_')\n",
    "\n",
    "latex = table.to_latex(\n",
    "    index=False,\n",
    "    column_format='l c r c c',\n",
    "    escape=False,\n",
    "    caption=caption,\n",
    "    label=f'tab:{table_name}',\n",
    "    )\n",
    "\n",
    "latex = latex.replace(r'\\begin{table}', r'\\begin{table}[H]', 1)\n",
    "\n",
    "lines = latex.splitlines()\n",
    "\n",
    "for i, line in enumerate(lines):\n",
    "    if '& No &' in line:\n",
    "        split_index = i\n",
    "        break\n",
    "\n",
    "new_lines = lines[:split_index] + ['\\midrule'] + lines[split_index:]\n",
    "\n",
    "latex = \"\\n\".join(new_lines)\n",
    "\n",
    "print(latex)\n",
    "\n",
    "# if export:\n",
    "with open(paths['table'] / f'{table_name}.tex', 'w') as f:\n",
    "    f.write(latex)\n"
   ]
  },
  {
   "cell_type": "code",
   "execution_count": 6,
   "id": "50d58b47",
   "metadata": {},
   "outputs": [
    {
     "data": {
      "image/png": "[encoded data removed]",
      "text/plain": [
       "<Figure size 472.441x275.591 with 1 Axes>"
      ]
     },
     "metadata": {},
     "output_type": "display_data"
    }
   ],
   "source": [
    "# Box Plot for Balanced Accuracy by Model and Pretrained Status\n",
    "########################################################################################################################\n",
    "fig_name = 'bal_acc_img.pdf'\n",
    "fig_size = (12*cm,7*cm)\n",
    "########################################################################################################################\n",
    "\n",
    "models = sorted(bal_acc['model_name'].unique())\n",
    "n = len(models)\n",
    "x = range(n)\n",
    "width = 0.35\n",
    "\n",
    "# collect your two series\n",
    "data_pre = [\n",
    "    bal_acc[(bal_acc['model_name']==m) & (bal_acc['pretrained'])]['img_score'] \n",
    "    for m in models\n",
    "]\n",
    "data_no = [\n",
    "    bal_acc[(bal_acc['model_name']==m) & (~bal_acc['pretrained'])]['img_score'] \n",
    "    for m in models\n",
    "]\n",
    "\n",
    "cmap = plt.get_cmap('Pastel1')\n",
    "color_pre = cmap(2)\n",
    "color_no  = cmap(3)\n",
    "red = cmap(0)\n",
    "\n",
    "plt.figure(figsize=fig_size)\n",
    "\n",
    "medianprops = dict(linewidth=1, color=red)\n",
    "\n",
    "meanprops = dict(\n",
    "                marker='D',\n",
    "                markeredgecolor=red,\n",
    "                markerfacecolor=red,\n",
    "                markersize=6\n",
    "                )\n",
    "\n",
    "flierprops = dict(marker='', linestyle='none')\n",
    "\n",
    "# draw the boxplots\n",
    "bp_pre = plt.boxplot(\n",
    "    data_pre,\n",
    "    positions=[i - width/2 for i in x],\n",
    "    widths=width,\n",
    "    patch_artist=True,\n",
    "    manage_ticks=False,\n",
    "    showmeans=True,\n",
    "    meanprops=meanprops,\n",
    "    medianprops=medianprops,\n",
    "    flierprops=flierprops\n",
    ")\n",
    "bp_no = plt.boxplot(\n",
    "    data_no,\n",
    "    positions=[i + width/2 for i in x],\n",
    "    widths=width,\n",
    "    patch_artist=True,\n",
    "    manage_ticks=False,\n",
    "    showmeans=True,\n",
    "    meanprops=meanprops,\n",
    "    medianprops=medianprops,\n",
    "    flierprops=flierprops\n",
    ")\n",
    "\n",
    "# apply facecolors and a subtle edge\n",
    "for box in bp_pre['boxes']:\n",
    "    box.set_facecolor(color_pre)\n",
    "    box.set_edgecolor('gray')\n",
    "for box in bp_no['boxes']:\n",
    "    box.set_facecolor(color_no)\n",
    "    box.set_edgecolor('gray')\n",
    "\n",
    "# axes labels\n",
    "plt.xticks(x, models, ha='center')\n",
    "plt.xlabel('Model')\n",
    "plt.ylabel('Balanced Accuracy (Image)')\n",
    "\n",
    "# legend with box patches!\n",
    "legend_handles = [\n",
    "    Patch(facecolor=color_pre, edgecolor='gray', label='Pretrained'),\n",
    "    Patch(facecolor=color_no,  edgecolor='gray', label='Not Pretrained')\n",
    "]\n",
    "plt.legend(handles=legend_handles, frameon=False, loc='lower left')\n",
    "\n",
    "for i, m in enumerate(models):\n",
    "    # pretrained points\n",
    "    y_pre = bal_acc[(bal_acc['model_name']==m) & (bal_acc['pretrained'])]['img_score']\n",
    "    x_pre = np.random.normal(i - width/2, width*0.05, size=len(y_pre))\n",
    "    plt.scatter(x_pre, y_pre, color=color_pre, edgecolor='gray', zorder=2)\n",
    "\n",
    "    # non-pretrained points\n",
    "    y_no  = bal_acc[(bal_acc['model_name']==m) & (~bal_acc['pretrained'])]['img_score']\n",
    "    x_no  = np.random.normal(i + width/2, width*0.05, size=len(y_no))\n",
    "    plt.scatter(x_no, y_no, color=color_no,  edgecolor='gray', zorder=2)\n",
    "\n",
    "\n",
    "plt.tight_layout()\n",
    "if export:\n",
    "    plt.savefig(paths['figures'] / fig_name, dpi=300)\n",
    "plt.show()"
   ]
  },
  {
   "cell_type": "code",
   "execution_count": 8,
   "id": "2c7be8d6",
   "metadata": {},
   "outputs": [
    {
     "data": {
      "text/plain": [
       "1e-05"
      ]
     },
     "execution_count": 8,
     "metadata": {},
     "output_type": "execute_result"
    }
   ],
   "source": [
    "0.00001"
   ]
  },
  {
   "cell_type": "code",
   "execution_count": 9,
   "id": "cac10faa",
   "metadata": {},
   "outputs": [
    {
     "data": {
      "text/plain": [
       "1e-05"
      ]
     },
     "execution_count": 9,
     "metadata": {},
     "output_type": "execute_result"
    }
   ],
   "source": [
    "10**-5"
   ]
  }
 ],
 "metadata": {
  "kernelspec": {
   "display_name": "BA",
   "language": "python",
   "name": "python3"
  },
  "language_info": {
   "codemirror_mode": {
    "name": "ipython",
    "version": 3
   },
   "file_extension": ".py",
   "mimetype": "text/x-python",
   "name": "python",
   "nbconvert_exporter": "python",
   "pygments_lexer": "ipython3",
   "version": "3.11.11"
  }
 },
 "nbformat": 4,
 "nbformat_minor": 5
}
