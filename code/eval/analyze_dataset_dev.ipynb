{
 "cells": [
  {
   "cell_type": "code",
   "execution_count": 1,
   "metadata": {},
   "outputs": [],
   "source": [
    "import os\n",
    "import pandas as pd\n",
    "import numpy as np\n",
    "import matplotlib.pyplot as plt\n",
    "import matplotlib.patches as patches\n",
    "import seaborn as sns\n",
    "\n",
    "from PIL import Image\n",
    "from pathlib import Path\n",
    "from typing import Sequence\n",
    "from matplotlib.figure import Figure\n",
    "from matplotlib.gridspec import GridSpec\n",
    "from matplotlib.axes import Axes\n",
    "from random import randint\n",
    "from IPython.display import display\n",
    "\n",
    "from ba_dev.dataset import MammaliaDataSequence, MammaliaDataImage\n",
    "from ba_dev.transform import ImagePipeline, BatchImagePipeline\n",
    "from ba_dev.eval_helpers import set_custom_plot_style, plot_image_with_bbox, draw_bbox_on_ax\n",
    "from ba_dev.utils import load_path_yaml\n",
    "\n",
    "# paths = load_path_yaml('/cfs/earth/scratch/kraftjul/BA/data/path_config.yml')\n",
    "paths = load_path_yaml('/Volumes/ExSSD/UserData/GoogleDrive/01_files/001_Studium/01_Semester/06_FS25/09_BA/data/path_config.yml')\n"
   ]
  },
  {
   "cell_type": "code",
   "execution_count": 2,
   "metadata": {},
   "outputs": [],
   "source": [
    "set_custom_plot_style()\n",
    "cm = 1 / 2.54\n",
    "scaling_factor = 0.5\n",
    "\n",
    "export = False"
   ]
  },
  {
   "cell_type": "code",
   "execution_count": null,
   "metadata": {},
   "outputs": [],
   "source": [
    "image_pipeline = ImagePipeline(\n",
    "                pre_ops=[\n",
    "                    ('reduce_resolution', {'factor': scaling_factor})\n",
    "                ]\n",
    "                )\n",
    "\n",
    "dataset_img = MammaliaDataImage(\n",
    "    path_labelfiles=paths['labels'],\n",
    "    path_to_dataset=paths['dataset'],\n",
    "    path_to_detector_output=paths['md_output'],\n",
    "    detector_model=None,\n",
    "    mode='eval',\n",
    "    image_pipeline=image_pipeline,\n",
    ")\n",
    "\n",
    "image_pipeline = BatchImagePipeline(\n",
    "                pre_ops=[\n",
    "                    ('reduce_resolution', {'factor': scaling_factor})\n",
    "                ]\n",
    "                )\n",
    "\n",
    "dataset_seq = MammaliaDataSequence(\n",
    "    path_labelfiles=paths['labels'],\n",
    "    path_to_dataset=paths['dataset'],\n",
    "    path_to_detector_output=paths['md_output'],\n",
    "    detector_model=None,\n",
    "    mode='eval',\n",
    "    image_pipeline=image_pipeline,\n",
    ")\n"
   ]
  },
  {
   "cell_type": "code",
   "execution_count": null,
   "metadata": {},
   "outputs": [],
   "source": [
    "df = dataset_img.ds.copy()\n",
    "\n",
    "summary_df = (\n",
    "    df.groupby('seq_id', group_keys=False)\n",
    "      .agg(\n",
    "          n_images=('conf', 'count'),\n",
    "          min_conf=('conf', 'min'),\n",
    "          max_conf=('conf', 'max')\n",
    "      )\n",
    "      .reset_index()\n",
    ")\n",
    "summary_df['conf_range'] = summary_df['max_conf'] - summary_df['min_conf']\n",
    "\n",
    "summary_df_sorted = summary_df.sort_values(by='conf_range', ascending=False)\n"
   ]
  },
  {
   "cell_type": "code",
   "execution_count": null,
   "metadata": {},
   "outputs": [],
   "source": [
    "n_plots = 20\n",
    "fig_width = 24*cm\n",
    "target_path = Path('/cfs/earth/scratch/kraftjul/BA/output/conf_examples')\n",
    "\n",
    "for seq_id in summary_df_sorted['seq_id'].tolist()[:n_plots]:\n",
    "\n",
    "    i = dataset_seq.get_index_by_seq_id(seq_id)\n",
    "    sequence = dataset_seq[i]\n",
    "\n",
    "    length = len(sequence['sample'])\n",
    "\n",
    "    if length >= 6:\n",
    "        nrows = 3\n",
    "        ncols = 2\n",
    "    else:\n",
    "        raise ValueError(\"The sequence is too short to be displayed in a 3x2 grid.\")\n",
    "\n",
    "    fig = plt.figure(figsize=(fig_width, fig_width * nrows / ncols * 3/4))\n",
    "    gs = GridSpec(\n",
    "        nrows=nrows, ncols=ncols,\n",
    "        figure=fig,\n",
    "        )\n",
    "\n",
    "    for col in range(ncols):\n",
    "        for row in range(nrows):\n",
    "            ax = fig.add_subplot(gs[row, col])\n",
    "\n",
    "            if col == 0:\n",
    "                idx = row\n",
    "            else:\n",
    "                idx = -(nrows - row)\n",
    "\n",
    "            img = sequence['sample'][idx]\n",
    "            bbox = sequence['bbox'][idx]\n",
    "            conf = sequence['conf'][idx]\n",
    "\n",
    "            draw_bbox_on_ax(ax, img, bbox, conf)\n",
    "\n",
    "    fig.tight_layout()\n",
    "    fig.savefig(target_path / f'seq_{seq_id}.pdf', dpi=300)\n",
    "    plt.close(fig)\n",
    "    "
   ]
  },
  {
   "cell_type": "code",
   "execution_count": null,
   "metadata": {},
   "outputs": [],
   "source": [
    "seq_id_to_load = 4000575\n",
    "i = dataset_seq.get_index_by_seq_id(seq_id_to_load)\n",
    "sequence = dataset_seq[i]"
   ]
  },
  {
   "cell_type": "code",
   "execution_count": null,
   "metadata": {},
   "outputs": [],
   "source": [
    "len(sequence['sample'])"
   ]
  },
  {
   "cell_type": "code",
   "execution_count": null,
   "metadata": {},
   "outputs": [],
   "source": [
    "sequence['sample']"
   ]
  },
  {
   "cell_type": "code",
   "execution_count": null,
   "metadata": {},
   "outputs": [],
   "source": [
    "interessting_sequences = [4011876, 4018688]\n",
    "\n",
    "i = dataset_seq.get_index_by_seq_id(interessting_sequences[1])\n",
    "sequence = dataset_seq[i]\n",
    "\n",
    "for image, bbox, conf in zip(sequence['sample'], sequence['bbox'], sequence['conf']):\n",
    "    fig = plot_image_with_bbox(image=image, bbox=bbox, conf=conf)\n",
    "    display(fig)"
   ]
  },
  {
   "cell_type": "code",
   "execution_count": null,
   "metadata": {},
   "outputs": [],
   "source": [
    "i = randint(0, len(dataset_img) - 1)\n",
    "print(f\"Randomly selected index: {i}\")\n",
    "sample = dataset_img[i]\n",
    "print(f'class_label: {sample[\"class_label\"]}')\n",
    "print(f'seq_id: {sample[\"seq_id\"]}')\n",
    "\n",
    "fig = plot_image_with_bbox(image=sample['sample'], bbox=sample['bbox'], conf=sample['conf'])\n",
    "display(fig)"
   ]
  },
  {
   "cell_type": "code",
   "execution_count": null,
   "metadata": {},
   "outputs": [],
   "source": [
    "interesting_images = [108812, 340523, 319527]\n",
    "\n",
    "for i in interesting_images:\n",
    "    sample = dataset_img[i]\n",
    "    figure = plot_image_with_bbox(image=sample['sample'], bbox=sample['bbox'], conf=sample['conf'])\n",
    "    display(figure)"
   ]
  },
  {
   "cell_type": "code",
   "execution_count": null,
   "metadata": {},
   "outputs": [],
   "source": [
    "lowest_conf_indices = dataset_img.ds.nsmallest(5, 'conf').index.tolist()\n",
    "\n",
    "for i in lowest_conf_indices:\n",
    "    sample = dataset_img[i]\n",
    "    figure = plot_image_with_bbox(image=sample['x'], bbox=sample['bbox'], conf=sample['conf'])\n",
    "    display(figure)\n",
    "    "
   ]
  }
 ],
 "metadata": {
  "kernelspec": {
   "display_name": "BA",
   "language": "python",
   "name": "python3"
  },
  "language_info": {
   "codemirror_mode": {
    "name": "ipython",
    "version": 3
   },
   "file_extension": ".py",
   "mimetype": "text/x-python",
   "name": "python",
   "nbconvert_exporter": "python",
   "pygments_lexer": "ipython3",
   "version": "3.11.11"
  }
 },
 "nbformat": 4,
 "nbformat_minor": 2
}
