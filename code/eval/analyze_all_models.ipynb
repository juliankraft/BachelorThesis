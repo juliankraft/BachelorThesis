{
 "cells": [
  {
   "cell_type": "code",
   "execution_count": 29,
   "id": "08a00e09",
   "metadata": {},
   "outputs": [],
   "source": [
    "import os\n",
    "import yaml\n",
    "import pandas as pd\n",
    "\n",
    "from pathlib import Path\n",
    "# from sklearn.metrics import ConfusionMatrixDisplay\n",
    "\n",
    "from ba_dev.eval_helpers import *\n",
    "\n",
    "set_custom_plot_style()"
   ]
  },
  {
   "cell_type": "code",
   "execution_count": 2,
   "id": "9a084ced",
   "metadata": {},
   "outputs": [],
   "source": [
    "path_to_models = Path('/cfs/earth/scratch/kraftjul/BA/output/complete')\n",
    "\n",
    "model_paths = [p for p in path_to_models.iterdir() if p.is_dir()]"
   ]
  },
  {
   "cell_type": "code",
   "execution_count": 3,
   "id": "649560e3",
   "metadata": {},
   "outputs": [
    {
     "data": {
      "text/plain": [
       "PosixPath('/cfs/earth/scratch/kraftjul/BA/output/complete/resNet50_v1_no_pretrained_cross_val')"
      ]
     },
     "execution_count": 3,
     "metadata": {},
     "output_type": "execute_result"
    }
   ],
   "source": [
    "model_paths[0]"
   ]
  },
  {
   "cell_type": "code",
   "execution_count": 4,
   "id": "20cad626",
   "metadata": {},
   "outputs": [],
   "source": [
    "run = LoadRun(\n",
    "        log_path=model_paths[0]\n",
    "        )"
   ]
  },
  {
   "cell_type": "code",
   "execution_count": null,
   "id": "d4e91420",
   "metadata": {},
   "outputs": [],
   "source": [
    "bal_accuracy_testing = []\n",
    "\n",
    "for fold in range(5):\n",
    "    value = run.info['output']['folds'][fold]['test_metrics']['test_bal_acc']\n",
    "    bal_accuracy_testing.append(value)"
   ]
  },
  {
   "cell_type": "code",
   "execution_count": 5,
   "id": "3d603bbe",
   "metadata": {},
   "outputs": [],
   "source": [
    "metric_img = run.calculate_metrics(\n",
    "    metric='balanced_accuracy_score',\n",
    "    set_selection='test',\n",
    "    scope='img'\n",
    "    )"
   ]
  },
  {
   "cell_type": "code",
   "execution_count": 6,
   "id": "310f1624",
   "metadata": {},
   "outputs": [],
   "source": [
    "\n",
    "metric_seq = run.calculate_metrics(\n",
    "    metric='balanced_accuracy_score',\n",
    "    set_selection='test',\n",
    "    scope='seq'\n",
    "    )"
   ]
  },
  {
   "cell_type": "code",
   "execution_count": 7,
   "id": "7270feb6",
   "metadata": {},
   "outputs": [
    {
     "data": {
      "text/plain": [
       "[0.9841004892822163,\n",
       " 0.9885165416837002,\n",
       " 0.9846517401351076,\n",
       " 0.9796977764908908,\n",
       " 0.9877960492571849]"
      ]
     },
     "execution_count": 7,
     "metadata": {},
     "output_type": "execute_result"
    }
   ],
   "source": [
    "metric_img"
   ]
  },
  {
   "cell_type": "code",
   "execution_count": 8,
   "id": "64a87a7c",
   "metadata": {},
   "outputs": [
    {
     "data": {
      "text/plain": [
       "[0.987187361318395,\n",
       " 0.9876940629307991,\n",
       " 0.9904345957378272,\n",
       " 0.9849416190715843,\n",
       " 0.9936135676143917]"
      ]
     },
     "execution_count": 8,
     "metadata": {},
     "output_type": "execute_result"
    }
   ],
   "source": [
    "metric_seq"
   ]
  },
  {
   "cell_type": "code",
   "execution_count": 25,
   "id": "0d373931",
   "metadata": {},
   "outputs": [],
   "source": [
    "all_models = []\n",
    "for model_path in model_paths:\n",
    "    yaml_path = model_path / 'experiment_info.yaml'\n",
    "    if not yaml_path.exists():\n",
    "        raise FileNotFoundError(f\"Experiment info file not found at {yaml_path}\")\n",
    "    with open(yaml_path, 'r') as f:\n",
    "        info = yaml.safe_load(f)\n",
    "    all_models.append(info)"
   ]
  },
  {
   "cell_type": "code",
   "execution_count": null,
   "id": "3fc43bd1",
   "metadata": {},
   "outputs": [],
   "source": [
    "path_to_models = Path('/cfs/earth/scratch/kraftjul/BA/output/complete')\n",
    "model_paths = list(path_to_models.glob('*/'))\n",
    "\n",
    "all_metrics = []\n",
    "for model_path in model_paths:\n",
    "    model = LoadRun(\n",
    "        log_path=model_path\n",
    "        )\n",
    "    \n",
    "    n_folds = model.info['cross_val']['n_folds']\n",
    "    model_name = model.info['model']['backbone_name']\n",
    "    pretrained = model.info['model']['backbone_pretrained']\n",
    "    trainable_params = model.info['output']['model_parameters']['trainable']\n",
    "    \n",
    "    metric_img = model.calculate_metrics(\n",
    "        metric='balanced_accuracy_score',\n",
    "        set_selection='test',\n",
    "        scope='img'\n",
    "        )\n",
    "    \n",
    "    metric_seq = model.calculate_metrics(\n",
    "        metric='balanced_accuracy_score',\n",
    "        set_selection='test',\n",
    "        scope='seq'\n",
    "        )\n",
    "    \n",
    "    for fold in range(n_folds):\n",
    "        item = {\n",
    "                'model_name':   model_name,\n",
    "                'pretrained':   pretrained,\n",
    "                'trainable_params': trainable_params,\n",
    "                'fold': fold,\n",
    "                'bal_acc_image':   metric_img[fold],\n",
    "                'bal_acc_seq':     metric_seq[fold],\n",
    "                }\n",
    "        \n",
    "        all_metrics.append(item)\n",
    "    \n",
    "df = pd.DataFrame(all_metrics)\n"
   ]
  }
 ],
 "metadata": {
  "kernelspec": {
   "display_name": "Python 3",
   "language": "python",
   "name": "python3"
  },
  "language_info": {
   "codemirror_mode": {
    "name": "ipython",
    "version": 3
   },
   "file_extension": ".py",
   "mimetype": "text/x-python",
   "name": "python",
   "nbconvert_exporter": "python",
   "pygments_lexer": "ipython3",
   "version": "3.10.16"
  }
 },
 "nbformat": 4,
 "nbformat_minor": 5
}
