{
 "cells": [
  {
   "cell_type": "code",
   "execution_count": 49,
   "id": "08a00e09",
   "metadata": {},
   "outputs": [],
   "source": [
    "import os\n",
    "import yaml\n",
    "import pandas as pd\n",
    "\n",
    "from pathlib import Path\n",
    "# from sklearn.metrics import ConfusionMatrixDisplay\n",
    "\n",
    "from ba_dev.utils import load_path_yaml\n",
    "from ba_dev.eval_helpers import *\n",
    "\n",
    "set_custom_plot_style()\n"
   ]
  },
  {
   "cell_type": "code",
   "execution_count": 50,
   "id": "9a084ced",
   "metadata": {},
   "outputs": [],
   "source": [
    "paths = load_path_yaml('/cfs/earth/scratch/kraftjul/BA/data/path_config.yml')\n",
    "\n",
    "path_to_models = paths['complete_models']\n"
   ]
  },
  {
   "cell_type": "code",
   "execution_count": 3,
   "id": "252a1a52",
   "metadata": {},
   "outputs": [],
   "source": [
    "df = evaluate_all_runs(\n",
    "    path_to_runs=path_to_models,\n",
    "    metrics='balanced_accuracy_score',\n",
    "    )"
   ]
  },
  {
   "cell_type": "code",
   "execution_count": null,
   "id": "51d1e12f",
   "metadata": {},
   "outputs": [],
   "source": [
    "# generating the balanced accuracy table\n",
    "\n",
    "table = (\n",
    "    df\n",
    "    .groupby(['model_name', 'pretrained'])\n",
    "    .agg(\n",
    "        trainable_params=('trainable_params', 'first'),\n",
    "        img_score_mean=('img_score', 'mean'),\n",
    "        img_score_std =('img_score', 'std'),\n",
    "        seq_score_mean=('seq_score', 'mean'),\n",
    "        seq_score_std =('seq_score', 'std'),\n",
    "    )\n",
    "    .reset_index()\n",
    "    .sort_values(by='img_score_mean', ascending=False)\n",
    "    ).rename(columns={\n",
    "    'model_name': 'Model',\n",
    "    'pretrained': 'Pretrained',\n",
    "    'trainable_params': 'Params (M)',\n",
    "    'img_score_mean': r'$\\mu_{\\mathrm{img}}$',\n",
    "    'img_score_std': r'$\\sigma_{\\mathrm{img}}$',\n",
    "    'seq_score_mean': r'$\\mu_{\\mathrm{seq}}$',\n",
    "    'seq_score_std': r'$\\sigma_{\\mathrm{seq}}$',\n",
    "})\n",
    "\n",
    "table['Pretrained'] = table['Pretrained'].map({True: 'Yes', False: 'No'})\n",
    "table['Params (M)'] = (table['Params (M)'] / 1_000_000).astype(int)\n",
    "table['Model'] = table['Model'].str.replace('_', r'\\_')\n",
    "\n",
    "float_fmt = lambda x: f\"{x:.4f}\"\n",
    "\n",
    "latex = table.to_latex(\n",
    "    index=False,\n",
    "    column_format='l c r c c c c',\n",
    "    float_format=float_fmt,\n",
    "    escape=False,\n",
    "    caption='Balanced accuracy by model and pretraining arranged by image score.',\n",
    "    label='tab:bal_acc_by_model'\n",
    "    )\n",
    "\n",
    "with open(paths['table'] / 'bal_acc_by_model.tex', 'w') as f:\n",
    "    f.write(latex)"
   ]
  }
 ],
 "metadata": {
  "kernelspec": {
   "display_name": "Python 3",
   "language": "python",
   "name": "python3"
  },
  "language_info": {
   "codemirror_mode": {
    "name": "ipython",
    "version": 3
   },
   "file_extension": ".py",
   "mimetype": "text/x-python",
   "name": "python",
   "nbconvert_exporter": "python",
   "pygments_lexer": "ipython3",
   "version": "3.10.16"
  }
 },
 "nbformat": 4,
 "nbformat_minor": 5
}
