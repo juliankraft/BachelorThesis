{
 "cells": [
  {
   "cell_type": "code",
   "execution_count": 2,
   "id": "b34f9f5c",
   "metadata": {},
   "outputs": [
    {
     "name": "stdout",
     "output_type": "stream",
     "text": [
      "Loading pre-calculated metrics from file...\n"
     ]
    }
   ],
   "source": [
    "import os\n",
    "import re\n",
    "import yaml\n",
    "import pandas as pd\n",
    "import matplotlib.pyplot as plt\n",
    "import sklearn.metrics as skm\n",
    "import piexif\n",
    "import pytesseract\n",
    "pytesseract.pytesseract.tesseract_cmd = \"/opt/homebrew/bin/tesseract\"\n",
    "\n",
    "\n",
    "from os import PathLike\n",
    "from IPython.display import display\n",
    "from matplotlib.patches import Patch\n",
    "from matplotlib.gridspec import GridSpec\n",
    "from scipy.stats import spearmanr\n",
    "from pathlib import Path\n",
    "from sklearn.metrics import ConfusionMatrixDisplay\n",
    "from typing import cast, Tuple\n",
    "from random import randint\n",
    "from PIL import Image\n",
    "from PIL.ExifTags import TAGS\n",
    "\n",
    "from src.dataset import MammaliaDataSequence, MammaliaDataImage\n",
    "from src.transform import ImagePipeline, BatchImagePipeline\n",
    "from src.utils import load_path_yaml\n",
    "from src.eval_helpers import *\n",
    "\n",
    "set_custom_plot_style()\n",
    "cm = 1 / 2.54\n",
    "\n",
    "export = True\n",
    "\n",
    "eval = MammaliaEval(\n",
    "    path_config='../data/path_config.yml',\n",
    "    metrics=['balanced_accuracy_score'],\n",
    "    force_metrics=False\n",
    "    )"
   ]
  }
 ],
 "metadata": {
  "kernelspec": {
   "display_name": "BA",
   "language": "python",
   "name": "python3"
  },
  "language_info": {
   "codemirror_mode": {
    "name": "ipython",
    "version": 3
   },
   "file_extension": ".py",
   "mimetype": "text/x-python",
   "name": "python",
   "nbconvert_exporter": "python",
   "pygments_lexer": "ipython3",
   "version": "3.11.11"
  }
 },
 "nbformat": 4,
 "nbformat_minor": 5
}
